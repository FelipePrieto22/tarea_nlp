{
 "cells": [
  {
   "cell_type": "markdown",
   "metadata": {},
   "source": [
    "## Desafio 1\n",
    "\n",
    "Construir un modelo de inteligencia artificial capaz de clasificar noticias de prensa según su categoría temática principal.\n",
    "\n",
    "category: sociedad, salud, politica, medioambiente, internacional, entretenimiento, economia, deportes, cultura, cienciatecnologia\n"
   ]
  },
  {
   "cell_type": "code",
   "execution_count": 1,
   "metadata": {},
   "outputs": [],
   "source": [
    "# Librerias\n",
    "import pandas as pd\n",
    "import random\n",
    "from sklearn.model_selection import train_test_split\n",
    "from sklearn.feature_extraction.text import TfidfVectorizer\n",
    "from sklearn.naive_bayes import MultinomialNB\n",
    "from sklearn.metrics import classification_report, confusion_matrix\n",
    "import spacy\n",
    "from tqdm import tqdm\n",
    "from sklearn.linear_model import LogisticRegression\n",
    "from geopy.geocoders import Nominatim\n",
    "from transformers import pipeline\n",
    "import re\n",
    "from geopy.geocoders import Nominatim"
   ]
  },
  {
   "cell_type": "markdown",
   "metadata": {},
   "source": [
    "#### Preparacion de dataframes\n"
   ]
  },
  {
   "cell_type": "code",
   "execution_count": 2,
   "metadata": {},
   "outputs": [
    {
     "data": {
      "text/html": [
       "<div>\n",
       "<style scoped>\n",
       "    .dataframe tbody tr th:only-of-type {\n",
       "        vertical-align: middle;\n",
       "    }\n",
       "\n",
       "    .dataframe tbody tr th {\n",
       "        vertical-align: top;\n",
       "    }\n",
       "\n",
       "    .dataframe thead th {\n",
       "        text-align: right;\n",
       "    }\n",
       "</style>\n",
       "<table border=\"1\" class=\"dataframe\">\n",
       "  <thead>\n",
       "    <tr style=\"text-align: right;\">\n",
       "      <th></th>\n",
       "      <th>date</th>\n",
       "      <th>id_news</th>\n",
       "      <th>media_outlet</th>\n",
       "      <th>title</th>\n",
       "      <th>text</th>\n",
       "      <th>url</th>\n",
       "      <th>year</th>\n",
       "      <th>clase</th>\n",
       "    </tr>\n",
       "  </thead>\n",
       "  <tbody>\n",
       "    <tr>\n",
       "      <th>0</th>\n",
       "      <td>2022-08-03</td>\n",
       "      <td>49,079,987</td>\n",
       "      <td>latercera</td>\n",
       "      <td>“El estallido social no fue un capricho”: la r...</td>\n",
       "      <td>Una reflexión sobre el estallido social del 18...</td>\n",
       "      <td>https://www.latercera.com/politica/noticia/el-...</td>\n",
       "      <td>2,022</td>\n",
       "      <td>medio_ambiente</td>\n",
       "    </tr>\n",
       "    <tr>\n",
       "      <th>1</th>\n",
       "      <td>2022-04-28</td>\n",
       "      <td>49,552,270</td>\n",
       "      <td>emol</td>\n",
       "      <td>Dólar cae este viernes y cierra volátil semana...</td>\n",
       "      <td>El dólar terminó la jornada de este viernes an...</td>\n",
       "      <td>https://www.emol.com/noticias/Economia/2022/04...</td>\n",
       "      <td>2,022</td>\n",
       "      <td>economia</td>\n",
       "    </tr>\n",
       "    <tr>\n",
       "      <th>2</th>\n",
       "      <td>2022-04-12</td>\n",
       "      <td>47,162,020</td>\n",
       "      <td>laserenaonline</td>\n",
       "      <td>Con firma de convenio entre Gobierno Regional ...</td>\n",
       "      <td>La iniciativa, que es parte de la cartera de p...</td>\n",
       "      <td>https://laserenaonline.cl/2022/04/13/con-firma...</td>\n",
       "      <td>2,022</td>\n",
       "      <td>economia</td>\n",
       "    </tr>\n",
       "    <tr>\n",
       "      <th>3</th>\n",
       "      <td>2022-06-27</td>\n",
       "      <td>51,295,378</td>\n",
       "      <td>emol</td>\n",
       "      <td>OTAN celebra una cumbre con la mirada puesta e...</td>\n",
       "      <td>#emolmlt-notafotos{float: none; clear: bo...</td>\n",
       "      <td>https://www.emol.com/noticias/Internacional/20...</td>\n",
       "      <td>2,022</td>\n",
       "      <td>medio_ambiente</td>\n",
       "    </tr>\n",
       "    <tr>\n",
       "      <th>4</th>\n",
       "      <td>2022-08-13</td>\n",
       "      <td>51,155,822</td>\n",
       "      <td>elciudadano</td>\n",
       "      <td>«El ecodiseño busca crear un mejor vivir para ...</td>\n",
       "      <td>El 5to Congreso Latinoamericano de Ecodiseño “...</td>\n",
       "      <td>https://www.elciudadano.com/chile/el-ecodiseno...</td>\n",
       "      <td>2,022</td>\n",
       "      <td>salud</td>\n",
       "    </tr>\n",
       "    <tr>\n",
       "      <th>...</th>\n",
       "      <td>...</td>\n",
       "      <td>...</td>\n",
       "      <td>...</td>\n",
       "      <td>...</td>\n",
       "      <td>...</td>\n",
       "      <td>...</td>\n",
       "      <td>...</td>\n",
       "      <td>...</td>\n",
       "    </tr>\n",
       "    <tr>\n",
       "      <th>4995</th>\n",
       "      <td>2022-02-21</td>\n",
       "      <td>50,354,211</td>\n",
       "      <td>biobiochile</td>\n",
       "      <td>Gabriel Torres vuelve al fútbol chileno: Depor...</td>\n",
       "      <td>El delantero panameño Gabriel Torres, que bril...</td>\n",
       "      <td>https://www.biobiochile.cl/noticias/deportes/f...</td>\n",
       "      <td>2,022</td>\n",
       "      <td>deportes</td>\n",
       "    </tr>\n",
       "    <tr>\n",
       "      <th>4996</th>\n",
       "      <td>2022-04-29</td>\n",
       "      <td>50,013,786</td>\n",
       "      <td>emol</td>\n",
       "      <td>El escenario económico y el acuerdo para siste...</td>\n",
       "      <td>blockquote.cita-aetv-pri {background-color: #f...</td>\n",
       "      <td>https://www.emol.com/noticias/Nacional/2022/04...</td>\n",
       "      <td>2,022</td>\n",
       "      <td>economia</td>\n",
       "    </tr>\n",
       "    <tr>\n",
       "      <th>4997</th>\n",
       "      <td>2022-11-07</td>\n",
       "      <td>49,558,687</td>\n",
       "      <td>eldinamo</td>\n",
       "      <td>La revista People eligió a Chris Evans como el...</td>\n",
       "      <td>Contento de que su mamá pueda presumir de ser ...</td>\n",
       "      <td>https://www.eldinamo.cl/entretencion/2022/11/0...</td>\n",
       "      <td>2,022</td>\n",
       "      <td>ciencia</td>\n",
       "    </tr>\n",
       "    <tr>\n",
       "      <th>4998</th>\n",
       "      <td>2021-07-04</td>\n",
       "      <td>22,069,519</td>\n",
       "      <td>elciudadano</td>\n",
       "      <td>Proyecto mexicano evitaría contagio de enferme...</td>\n",
       "      <td>Por la Redacción Ciudad de México. El Centro d...</td>\n",
       "      <td>https://www.elciudadano.com/mexico/proyecto-me...</td>\n",
       "      <td>2,021</td>\n",
       "      <td>tecnologia</td>\n",
       "    </tr>\n",
       "    <tr>\n",
       "      <th>4999</th>\n",
       "      <td>2022-05-09</td>\n",
       "      <td>47,465,006</td>\n",
       "      <td>lanacion</td>\n",
       "      <td>La importancia de seguir estudiando después de...</td>\n",
       "      <td>Esta opción no es únicamente recomendable para...</td>\n",
       "      <td>https://www.lanacion.cl/la-importancia-de-segu...</td>\n",
       "      <td>2,022</td>\n",
       "      <td>deportes</td>\n",
       "    </tr>\n",
       "  </tbody>\n",
       "</table>\n",
       "<p>5000 rows × 8 columns</p>\n",
       "</div>"
      ],
      "text/plain": [
       "            date     id_news    media_outlet  \\\n",
       "0     2022-08-03  49,079,987       latercera   \n",
       "1     2022-04-28  49,552,270            emol   \n",
       "2     2022-04-12  47,162,020  laserenaonline   \n",
       "3     2022-06-27  51,295,378            emol   \n",
       "4     2022-08-13  51,155,822     elciudadano   \n",
       "...          ...         ...             ...   \n",
       "4995  2022-02-21  50,354,211     biobiochile   \n",
       "4996  2022-04-29  50,013,786            emol   \n",
       "4997  2022-11-07  49,558,687        eldinamo   \n",
       "4998  2021-07-04  22,069,519     elciudadano   \n",
       "4999  2022-05-09  47,465,006        lanacion   \n",
       "\n",
       "                                                  title  \\\n",
       "0     “El estallido social no fue un capricho”: la r...   \n",
       "1     Dólar cae este viernes y cierra volátil semana...   \n",
       "2     Con firma de convenio entre Gobierno Regional ...   \n",
       "3     OTAN celebra una cumbre con la mirada puesta e...   \n",
       "4     «El ecodiseño busca crear un mejor vivir para ...   \n",
       "...                                                 ...   \n",
       "4995  Gabriel Torres vuelve al fútbol chileno: Depor...   \n",
       "4996  El escenario económico y el acuerdo para siste...   \n",
       "4997  La revista People eligió a Chris Evans como el...   \n",
       "4998  Proyecto mexicano evitaría contagio de enferme...   \n",
       "4999  La importancia de seguir estudiando después de...   \n",
       "\n",
       "                                                   text  \\\n",
       "0     Una reflexión sobre el estallido social del 18...   \n",
       "1     El dólar terminó la jornada de este viernes an...   \n",
       "2     La iniciativa, que es parte de la cartera de p...   \n",
       "3          #emolmlt-notafotos{float: none; clear: bo...   \n",
       "4     El 5to Congreso Latinoamericano de Ecodiseño “...   \n",
       "...                                                 ...   \n",
       "4995  El delantero panameño Gabriel Torres, que bril...   \n",
       "4996  blockquote.cita-aetv-pri {background-color: #f...   \n",
       "4997  Contento de que su mamá pueda presumir de ser ...   \n",
       "4998  Por la Redacción Ciudad de México. El Centro d...   \n",
       "4999  Esta opción no es únicamente recomendable para...   \n",
       "\n",
       "                                                    url   year           clase  \n",
       "0     https://www.latercera.com/politica/noticia/el-...  2,022  medio_ambiente  \n",
       "1     https://www.emol.com/noticias/Economia/2022/04...  2,022        economia  \n",
       "2     https://laserenaonline.cl/2022/04/13/con-firma...  2,022        economia  \n",
       "3     https://www.emol.com/noticias/Internacional/20...  2,022  medio_ambiente  \n",
       "4     https://www.elciudadano.com/chile/el-ecodiseno...  2,022           salud  \n",
       "...                                                 ...    ...             ...  \n",
       "4995  https://www.biobiochile.cl/noticias/deportes/f...  2,022        deportes  \n",
       "4996  https://www.emol.com/noticias/Nacional/2022/04...  2,022        economia  \n",
       "4997  https://www.eldinamo.cl/entretencion/2022/11/0...  2,022         ciencia  \n",
       "4998  https://www.elciudadano.com/mexico/proyecto-me...  2,021      tecnologia  \n",
       "4999  https://www.lanacion.cl/la-importancia-de-segu...  2,022        deportes  \n",
       "\n",
       "[5000 rows x 8 columns]"
      ]
     },
     "metadata": {},
     "output_type": "display_data"
    }
   ],
   "source": [
    "# Cargar el dataset de entrenamiento\n",
    "df = pd.read_csv('./train_data.csv')\n",
    "\n",
    "df_train = df.sample(n=5000, random_state=42)\n",
    "\n",
    "# Barajar el DataFrame\n",
    "df_train = df_train.sample(frac=1).reset_index(drop=True)\n",
    "\n",
    "def format_df(df):\n",
    "    # Convertir la columna de fechas al formato deseado\n",
    "    df['date'] = pd.to_datetime(df['date'], format='%b %d, %Y @ %H:%M:%S.%f')\n",
    "\n",
    "    # Extraer la fecha en el formato YYYY-MM-DD\n",
    "    df['date'] = df['date'].dt.strftime('%Y-%m-%d')\n",
    "\n",
    "    # Mostrar las primeras filas del DataFrame\n",
    "    display(df)\n",
    "    return df\n",
    "\n",
    "df_train = format_df(df_train)"
   ]
  },
  {
   "cell_type": "code",
   "execution_count": 3,
   "metadata": {},
   "outputs": [
    {
     "name": "stdout",
     "output_type": "stream",
     "text": [
      "['medio_ambiente' 'economia' 'salud' 'internacional' 'entretenimiento'\n",
      " 'politica' 'accidentes' 'educacion' 'tecnologia' 'deportes' 'ciencia']\n"
     ]
    },
    {
     "data": {
      "text/html": [
       "<div>\n",
       "<style scoped>\n",
       "    .dataframe tbody tr th:only-of-type {\n",
       "        vertical-align: middle;\n",
       "    }\n",
       "\n",
       "    .dataframe tbody tr th {\n",
       "        vertical-align: top;\n",
       "    }\n",
       "\n",
       "    .dataframe thead th {\n",
       "        text-align: right;\n",
       "    }\n",
       "</style>\n",
       "<table border=\"1\" class=\"dataframe\">\n",
       "  <thead>\n",
       "    <tr style=\"text-align: right;\">\n",
       "      <th></th>\n",
       "      <th>date</th>\n",
       "      <th>id_news</th>\n",
       "      <th>media_outlet</th>\n",
       "      <th>title</th>\n",
       "      <th>text</th>\n",
       "      <th>url</th>\n",
       "      <th>year</th>\n",
       "    </tr>\n",
       "    <tr>\n",
       "      <th>clase</th>\n",
       "      <th></th>\n",
       "      <th></th>\n",
       "      <th></th>\n",
       "      <th></th>\n",
       "      <th></th>\n",
       "      <th></th>\n",
       "      <th></th>\n",
       "    </tr>\n",
       "  </thead>\n",
       "  <tbody>\n",
       "    <tr>\n",
       "      <th>accidentes</th>\n",
       "      <td>459</td>\n",
       "      <td>459</td>\n",
       "      <td>459</td>\n",
       "      <td>459</td>\n",
       "      <td>459</td>\n",
       "      <td>459</td>\n",
       "      <td>459</td>\n",
       "    </tr>\n",
       "    <tr>\n",
       "      <th>ciencia</th>\n",
       "      <td>470</td>\n",
       "      <td>470</td>\n",
       "      <td>470</td>\n",
       "      <td>470</td>\n",
       "      <td>470</td>\n",
       "      <td>470</td>\n",
       "      <td>470</td>\n",
       "    </tr>\n",
       "    <tr>\n",
       "      <th>deportes</th>\n",
       "      <td>432</td>\n",
       "      <td>432</td>\n",
       "      <td>432</td>\n",
       "      <td>432</td>\n",
       "      <td>432</td>\n",
       "      <td>432</td>\n",
       "      <td>432</td>\n",
       "    </tr>\n",
       "    <tr>\n",
       "      <th>economia</th>\n",
       "      <td>457</td>\n",
       "      <td>457</td>\n",
       "      <td>457</td>\n",
       "      <td>457</td>\n",
       "      <td>457</td>\n",
       "      <td>457</td>\n",
       "      <td>457</td>\n",
       "    </tr>\n",
       "    <tr>\n",
       "      <th>educacion</th>\n",
       "      <td>462</td>\n",
       "      <td>462</td>\n",
       "      <td>462</td>\n",
       "      <td>462</td>\n",
       "      <td>462</td>\n",
       "      <td>462</td>\n",
       "      <td>462</td>\n",
       "    </tr>\n",
       "    <tr>\n",
       "      <th>entretenimiento</th>\n",
       "      <td>442</td>\n",
       "      <td>442</td>\n",
       "      <td>442</td>\n",
       "      <td>442</td>\n",
       "      <td>442</td>\n",
       "      <td>442</td>\n",
       "      <td>442</td>\n",
       "    </tr>\n",
       "    <tr>\n",
       "      <th>internacional</th>\n",
       "      <td>448</td>\n",
       "      <td>448</td>\n",
       "      <td>448</td>\n",
       "      <td>448</td>\n",
       "      <td>448</td>\n",
       "      <td>448</td>\n",
       "      <td>448</td>\n",
       "    </tr>\n",
       "    <tr>\n",
       "      <th>medio_ambiente</th>\n",
       "      <td>477</td>\n",
       "      <td>477</td>\n",
       "      <td>477</td>\n",
       "      <td>477</td>\n",
       "      <td>477</td>\n",
       "      <td>477</td>\n",
       "      <td>477</td>\n",
       "    </tr>\n",
       "    <tr>\n",
       "      <th>politica</th>\n",
       "      <td>395</td>\n",
       "      <td>395</td>\n",
       "      <td>395</td>\n",
       "      <td>395</td>\n",
       "      <td>395</td>\n",
       "      <td>395</td>\n",
       "      <td>395</td>\n",
       "    </tr>\n",
       "    <tr>\n",
       "      <th>salud</th>\n",
       "      <td>469</td>\n",
       "      <td>469</td>\n",
       "      <td>469</td>\n",
       "      <td>469</td>\n",
       "      <td>469</td>\n",
       "      <td>469</td>\n",
       "      <td>469</td>\n",
       "    </tr>\n",
       "    <tr>\n",
       "      <th>tecnologia</th>\n",
       "      <td>489</td>\n",
       "      <td>489</td>\n",
       "      <td>489</td>\n",
       "      <td>489</td>\n",
       "      <td>489</td>\n",
       "      <td>489</td>\n",
       "      <td>489</td>\n",
       "    </tr>\n",
       "  </tbody>\n",
       "</table>\n",
       "</div>"
      ],
      "text/plain": [
       "                 date  id_news  media_outlet  title  text  url  year\n",
       "clase                                                               \n",
       "accidentes        459      459           459    459   459  459   459\n",
       "ciencia           470      470           470    470   470  470   470\n",
       "deportes          432      432           432    432   432  432   432\n",
       "economia          457      457           457    457   457  457   457\n",
       "educacion         462      462           462    462   462  462   462\n",
       "entretenimiento   442      442           442    442   442  442   442\n",
       "internacional     448      448           448    448   448  448   448\n",
       "medio_ambiente    477      477           477    477   477  477   477\n",
       "politica          395      395           395    395   395  395   395\n",
       "salud             469      469           469    469   469  469   469\n",
       "tecnologia        489      489           489    489   489  489   489"
      ]
     },
     "execution_count": 3,
     "metadata": {},
     "output_type": "execute_result"
    }
   ],
   "source": [
    "#categorias unicas\n",
    "categorias = df_train['clase'].unique()\n",
    "print(categorias)\n",
    "\n",
    "# Conteo de categorias totales en el dataset de entrenamiento\n",
    "df_train.groupby('clase').count()"
   ]
  },
  {
   "cell_type": "markdown",
   "metadata": {},
   "source": [
    "#### Procesamiento\n"
   ]
  },
  {
   "cell_type": "code",
   "execution_count": 4,
   "metadata": {},
   "outputs": [
    {
     "name": "stderr",
     "output_type": "stream",
     "text": [
      "Procesando texto: 100%|██████████| 5000/5000 [11:19<00:00,  7.36it/s]\n"
     ]
    }
   ],
   "source": [
    "nlp = spacy.load(\"en_core_web_sm\")\n",
    "\n",
    "def preprocess_text(text):\n",
    "    # Procesar el texto con spaCy\n",
    "    doc = nlp(text)\n",
    "    \n",
    "    # Lemmatizar y eliminar stop words y puntuación\n",
    "    lemmatized_tokens = [token.lemma_ for token in doc if not token.is_stop and not token.is_punct]\n",
    "    \n",
    "    # Filtrar espacios vacíos y devolver los tokens lematizados\n",
    "    lemmatized_tokens = [token for token in lemmatized_tokens if token.strip()]\n",
    "    return ' '.join(lemmatized_tokens)\n",
    "\n",
    "tqdm.pandas(desc=\"Procesando texto\")\n",
    "df_train['tokenizacions'] = df_train['text'].progress_apply(preprocess_text)"
   ]
  },
  {
   "cell_type": "code",
   "execution_count": 5,
   "metadata": {},
   "outputs": [
    {
     "data": {
      "text/html": [
       "<style>#sk-container-id-1 {\n",
       "  /* Definition of color scheme common for light and dark mode */\n",
       "  --sklearn-color-text: black;\n",
       "  --sklearn-color-line: gray;\n",
       "  /* Definition of color scheme for unfitted estimators */\n",
       "  --sklearn-color-unfitted-level-0: #fff5e6;\n",
       "  --sklearn-color-unfitted-level-1: #f6e4d2;\n",
       "  --sklearn-color-unfitted-level-2: #ffe0b3;\n",
       "  --sklearn-color-unfitted-level-3: chocolate;\n",
       "  /* Definition of color scheme for fitted estimators */\n",
       "  --sklearn-color-fitted-level-0: #f0f8ff;\n",
       "  --sklearn-color-fitted-level-1: #d4ebff;\n",
       "  --sklearn-color-fitted-level-2: #b3dbfd;\n",
       "  --sklearn-color-fitted-level-3: cornflowerblue;\n",
       "\n",
       "  /* Specific color for light theme */\n",
       "  --sklearn-color-text-on-default-background: var(--sg-text-color, var(--theme-code-foreground, var(--jp-content-font-color1, black)));\n",
       "  --sklearn-color-background: var(--sg-background-color, var(--theme-background, var(--jp-layout-color0, white)));\n",
       "  --sklearn-color-border-box: var(--sg-text-color, var(--theme-code-foreground, var(--jp-content-font-color1, black)));\n",
       "  --sklearn-color-icon: #696969;\n",
       "\n",
       "  @media (prefers-color-scheme: dark) {\n",
       "    /* Redefinition of color scheme for dark theme */\n",
       "    --sklearn-color-text-on-default-background: var(--sg-text-color, var(--theme-code-foreground, var(--jp-content-font-color1, white)));\n",
       "    --sklearn-color-background: var(--sg-background-color, var(--theme-background, var(--jp-layout-color0, #111)));\n",
       "    --sklearn-color-border-box: var(--sg-text-color, var(--theme-code-foreground, var(--jp-content-font-color1, white)));\n",
       "    --sklearn-color-icon: #878787;\n",
       "  }\n",
       "}\n",
       "\n",
       "#sk-container-id-1 {\n",
       "  color: var(--sklearn-color-text);\n",
       "}\n",
       "\n",
       "#sk-container-id-1 pre {\n",
       "  padding: 0;\n",
       "}\n",
       "\n",
       "#sk-container-id-1 input.sk-hidden--visually {\n",
       "  border: 0;\n",
       "  clip: rect(1px 1px 1px 1px);\n",
       "  clip: rect(1px, 1px, 1px, 1px);\n",
       "  height: 1px;\n",
       "  margin: -1px;\n",
       "  overflow: hidden;\n",
       "  padding: 0;\n",
       "  position: absolute;\n",
       "  width: 1px;\n",
       "}\n",
       "\n",
       "#sk-container-id-1 div.sk-dashed-wrapped {\n",
       "  border: 1px dashed var(--sklearn-color-line);\n",
       "  margin: 0 0.4em 0.5em 0.4em;\n",
       "  box-sizing: border-box;\n",
       "  padding-bottom: 0.4em;\n",
       "  background-color: var(--sklearn-color-background);\n",
       "}\n",
       "\n",
       "#sk-container-id-1 div.sk-container {\n",
       "  /* jupyter's `normalize.less` sets `[hidden] { display: none; }`\n",
       "     but bootstrap.min.css set `[hidden] { display: none !important; }`\n",
       "     so we also need the `!important` here to be able to override the\n",
       "     default hidden behavior on the sphinx rendered scikit-learn.org.\n",
       "     See: https://github.com/scikit-learn/scikit-learn/issues/21755 */\n",
       "  display: inline-block !important;\n",
       "  position: relative;\n",
       "}\n",
       "\n",
       "#sk-container-id-1 div.sk-text-repr-fallback {\n",
       "  display: none;\n",
       "}\n",
       "\n",
       "div.sk-parallel-item,\n",
       "div.sk-serial,\n",
       "div.sk-item {\n",
       "  /* draw centered vertical line to link estimators */\n",
       "  background-image: linear-gradient(var(--sklearn-color-text-on-default-background), var(--sklearn-color-text-on-default-background));\n",
       "  background-size: 2px 100%;\n",
       "  background-repeat: no-repeat;\n",
       "  background-position: center center;\n",
       "}\n",
       "\n",
       "/* Parallel-specific style estimator block */\n",
       "\n",
       "#sk-container-id-1 div.sk-parallel-item::after {\n",
       "  content: \"\";\n",
       "  width: 100%;\n",
       "  border-bottom: 2px solid var(--sklearn-color-text-on-default-background);\n",
       "  flex-grow: 1;\n",
       "}\n",
       "\n",
       "#sk-container-id-1 div.sk-parallel {\n",
       "  display: flex;\n",
       "  align-items: stretch;\n",
       "  justify-content: center;\n",
       "  background-color: var(--sklearn-color-background);\n",
       "  position: relative;\n",
       "}\n",
       "\n",
       "#sk-container-id-1 div.sk-parallel-item {\n",
       "  display: flex;\n",
       "  flex-direction: column;\n",
       "}\n",
       "\n",
       "#sk-container-id-1 div.sk-parallel-item:first-child::after {\n",
       "  align-self: flex-end;\n",
       "  width: 50%;\n",
       "}\n",
       "\n",
       "#sk-container-id-1 div.sk-parallel-item:last-child::after {\n",
       "  align-self: flex-start;\n",
       "  width: 50%;\n",
       "}\n",
       "\n",
       "#sk-container-id-1 div.sk-parallel-item:only-child::after {\n",
       "  width: 0;\n",
       "}\n",
       "\n",
       "/* Serial-specific style estimator block */\n",
       "\n",
       "#sk-container-id-1 div.sk-serial {\n",
       "  display: flex;\n",
       "  flex-direction: column;\n",
       "  align-items: center;\n",
       "  background-color: var(--sklearn-color-background);\n",
       "  padding-right: 1em;\n",
       "  padding-left: 1em;\n",
       "}\n",
       "\n",
       "\n",
       "/* Toggleable style: style used for estimator/Pipeline/ColumnTransformer box that is\n",
       "clickable and can be expanded/collapsed.\n",
       "- Pipeline and ColumnTransformer use this feature and define the default style\n",
       "- Estimators will overwrite some part of the style using the `sk-estimator` class\n",
       "*/\n",
       "\n",
       "/* Pipeline and ColumnTransformer style (default) */\n",
       "\n",
       "#sk-container-id-1 div.sk-toggleable {\n",
       "  /* Default theme specific background. It is overwritten whether we have a\n",
       "  specific estimator or a Pipeline/ColumnTransformer */\n",
       "  background-color: var(--sklearn-color-background);\n",
       "}\n",
       "\n",
       "/* Toggleable label */\n",
       "#sk-container-id-1 label.sk-toggleable__label {\n",
       "  cursor: pointer;\n",
       "  display: block;\n",
       "  width: 100%;\n",
       "  margin-bottom: 0;\n",
       "  padding: 0.5em;\n",
       "  box-sizing: border-box;\n",
       "  text-align: center;\n",
       "}\n",
       "\n",
       "#sk-container-id-1 label.sk-toggleable__label-arrow:before {\n",
       "  /* Arrow on the left of the label */\n",
       "  content: \"▸\";\n",
       "  float: left;\n",
       "  margin-right: 0.25em;\n",
       "  color: var(--sklearn-color-icon);\n",
       "}\n",
       "\n",
       "#sk-container-id-1 label.sk-toggleable__label-arrow:hover:before {\n",
       "  color: var(--sklearn-color-text);\n",
       "}\n",
       "\n",
       "/* Toggleable content - dropdown */\n",
       "\n",
       "#sk-container-id-1 div.sk-toggleable__content {\n",
       "  max-height: 0;\n",
       "  max-width: 0;\n",
       "  overflow: hidden;\n",
       "  text-align: left;\n",
       "  /* unfitted */\n",
       "  background-color: var(--sklearn-color-unfitted-level-0);\n",
       "}\n",
       "\n",
       "#sk-container-id-1 div.sk-toggleable__content.fitted {\n",
       "  /* fitted */\n",
       "  background-color: var(--sklearn-color-fitted-level-0);\n",
       "}\n",
       "\n",
       "#sk-container-id-1 div.sk-toggleable__content pre {\n",
       "  margin: 0.2em;\n",
       "  border-radius: 0.25em;\n",
       "  color: var(--sklearn-color-text);\n",
       "  /* unfitted */\n",
       "  background-color: var(--sklearn-color-unfitted-level-0);\n",
       "}\n",
       "\n",
       "#sk-container-id-1 div.sk-toggleable__content.fitted pre {\n",
       "  /* unfitted */\n",
       "  background-color: var(--sklearn-color-fitted-level-0);\n",
       "}\n",
       "\n",
       "#sk-container-id-1 input.sk-toggleable__control:checked~div.sk-toggleable__content {\n",
       "  /* Expand drop-down */\n",
       "  max-height: 200px;\n",
       "  max-width: 100%;\n",
       "  overflow: auto;\n",
       "}\n",
       "\n",
       "#sk-container-id-1 input.sk-toggleable__control:checked~label.sk-toggleable__label-arrow:before {\n",
       "  content: \"▾\";\n",
       "}\n",
       "\n",
       "/* Pipeline/ColumnTransformer-specific style */\n",
       "\n",
       "#sk-container-id-1 div.sk-label input.sk-toggleable__control:checked~label.sk-toggleable__label {\n",
       "  color: var(--sklearn-color-text);\n",
       "  background-color: var(--sklearn-color-unfitted-level-2);\n",
       "}\n",
       "\n",
       "#sk-container-id-1 div.sk-label.fitted input.sk-toggleable__control:checked~label.sk-toggleable__label {\n",
       "  background-color: var(--sklearn-color-fitted-level-2);\n",
       "}\n",
       "\n",
       "/* Estimator-specific style */\n",
       "\n",
       "/* Colorize estimator box */\n",
       "#sk-container-id-1 div.sk-estimator input.sk-toggleable__control:checked~label.sk-toggleable__label {\n",
       "  /* unfitted */\n",
       "  background-color: var(--sklearn-color-unfitted-level-2);\n",
       "}\n",
       "\n",
       "#sk-container-id-1 div.sk-estimator.fitted input.sk-toggleable__control:checked~label.sk-toggleable__label {\n",
       "  /* fitted */\n",
       "  background-color: var(--sklearn-color-fitted-level-2);\n",
       "}\n",
       "\n",
       "#sk-container-id-1 div.sk-label label.sk-toggleable__label,\n",
       "#sk-container-id-1 div.sk-label label {\n",
       "  /* The background is the default theme color */\n",
       "  color: var(--sklearn-color-text-on-default-background);\n",
       "}\n",
       "\n",
       "/* On hover, darken the color of the background */\n",
       "#sk-container-id-1 div.sk-label:hover label.sk-toggleable__label {\n",
       "  color: var(--sklearn-color-text);\n",
       "  background-color: var(--sklearn-color-unfitted-level-2);\n",
       "}\n",
       "\n",
       "/* Label box, darken color on hover, fitted */\n",
       "#sk-container-id-1 div.sk-label.fitted:hover label.sk-toggleable__label.fitted {\n",
       "  color: var(--sklearn-color-text);\n",
       "  background-color: var(--sklearn-color-fitted-level-2);\n",
       "}\n",
       "\n",
       "/* Estimator label */\n",
       "\n",
       "#sk-container-id-1 div.sk-label label {\n",
       "  font-family: monospace;\n",
       "  font-weight: bold;\n",
       "  display: inline-block;\n",
       "  line-height: 1.2em;\n",
       "}\n",
       "\n",
       "#sk-container-id-1 div.sk-label-container {\n",
       "  text-align: center;\n",
       "}\n",
       "\n",
       "/* Estimator-specific */\n",
       "#sk-container-id-1 div.sk-estimator {\n",
       "  font-family: monospace;\n",
       "  border: 1px dotted var(--sklearn-color-border-box);\n",
       "  border-radius: 0.25em;\n",
       "  box-sizing: border-box;\n",
       "  margin-bottom: 0.5em;\n",
       "  /* unfitted */\n",
       "  background-color: var(--sklearn-color-unfitted-level-0);\n",
       "}\n",
       "\n",
       "#sk-container-id-1 div.sk-estimator.fitted {\n",
       "  /* fitted */\n",
       "  background-color: var(--sklearn-color-fitted-level-0);\n",
       "}\n",
       "\n",
       "/* on hover */\n",
       "#sk-container-id-1 div.sk-estimator:hover {\n",
       "  /* unfitted */\n",
       "  background-color: var(--sklearn-color-unfitted-level-2);\n",
       "}\n",
       "\n",
       "#sk-container-id-1 div.sk-estimator.fitted:hover {\n",
       "  /* fitted */\n",
       "  background-color: var(--sklearn-color-fitted-level-2);\n",
       "}\n",
       "\n",
       "/* Specification for estimator info (e.g. \"i\" and \"?\") */\n",
       "\n",
       "/* Common style for \"i\" and \"?\" */\n",
       "\n",
       ".sk-estimator-doc-link,\n",
       "a:link.sk-estimator-doc-link,\n",
       "a:visited.sk-estimator-doc-link {\n",
       "  float: right;\n",
       "  font-size: smaller;\n",
       "  line-height: 1em;\n",
       "  font-family: monospace;\n",
       "  background-color: var(--sklearn-color-background);\n",
       "  border-radius: 1em;\n",
       "  height: 1em;\n",
       "  width: 1em;\n",
       "  text-decoration: none !important;\n",
       "  margin-left: 1ex;\n",
       "  /* unfitted */\n",
       "  border: var(--sklearn-color-unfitted-level-1) 1pt solid;\n",
       "  color: var(--sklearn-color-unfitted-level-1);\n",
       "}\n",
       "\n",
       ".sk-estimator-doc-link.fitted,\n",
       "a:link.sk-estimator-doc-link.fitted,\n",
       "a:visited.sk-estimator-doc-link.fitted {\n",
       "  /* fitted */\n",
       "  border: var(--sklearn-color-fitted-level-1) 1pt solid;\n",
       "  color: var(--sklearn-color-fitted-level-1);\n",
       "}\n",
       "\n",
       "/* On hover */\n",
       "div.sk-estimator:hover .sk-estimator-doc-link:hover,\n",
       ".sk-estimator-doc-link:hover,\n",
       "div.sk-label-container:hover .sk-estimator-doc-link:hover,\n",
       ".sk-estimator-doc-link:hover {\n",
       "  /* unfitted */\n",
       "  background-color: var(--sklearn-color-unfitted-level-3);\n",
       "  color: var(--sklearn-color-background);\n",
       "  text-decoration: none;\n",
       "}\n",
       "\n",
       "div.sk-estimator.fitted:hover .sk-estimator-doc-link.fitted:hover,\n",
       ".sk-estimator-doc-link.fitted:hover,\n",
       "div.sk-label-container:hover .sk-estimator-doc-link.fitted:hover,\n",
       ".sk-estimator-doc-link.fitted:hover {\n",
       "  /* fitted */\n",
       "  background-color: var(--sklearn-color-fitted-level-3);\n",
       "  color: var(--sklearn-color-background);\n",
       "  text-decoration: none;\n",
       "}\n",
       "\n",
       "/* Span, style for the box shown on hovering the info icon */\n",
       ".sk-estimator-doc-link span {\n",
       "  display: none;\n",
       "  z-index: 9999;\n",
       "  position: relative;\n",
       "  font-weight: normal;\n",
       "  right: .2ex;\n",
       "  padding: .5ex;\n",
       "  margin: .5ex;\n",
       "  width: min-content;\n",
       "  min-width: 20ex;\n",
       "  max-width: 50ex;\n",
       "  color: var(--sklearn-color-text);\n",
       "  box-shadow: 2pt 2pt 4pt #999;\n",
       "  /* unfitted */\n",
       "  background: var(--sklearn-color-unfitted-level-0);\n",
       "  border: .5pt solid var(--sklearn-color-unfitted-level-3);\n",
       "}\n",
       "\n",
       ".sk-estimator-doc-link.fitted span {\n",
       "  /* fitted */\n",
       "  background: var(--sklearn-color-fitted-level-0);\n",
       "  border: var(--sklearn-color-fitted-level-3);\n",
       "}\n",
       "\n",
       ".sk-estimator-doc-link:hover span {\n",
       "  display: block;\n",
       "}\n",
       "\n",
       "/* \"?\"-specific style due to the `<a>` HTML tag */\n",
       "\n",
       "#sk-container-id-1 a.estimator_doc_link {\n",
       "  float: right;\n",
       "  font-size: 1rem;\n",
       "  line-height: 1em;\n",
       "  font-family: monospace;\n",
       "  background-color: var(--sklearn-color-background);\n",
       "  border-radius: 1rem;\n",
       "  height: 1rem;\n",
       "  width: 1rem;\n",
       "  text-decoration: none;\n",
       "  /* unfitted */\n",
       "  color: var(--sklearn-color-unfitted-level-1);\n",
       "  border: var(--sklearn-color-unfitted-level-1) 1pt solid;\n",
       "}\n",
       "\n",
       "#sk-container-id-1 a.estimator_doc_link.fitted {\n",
       "  /* fitted */\n",
       "  border: var(--sklearn-color-fitted-level-1) 1pt solid;\n",
       "  color: var(--sklearn-color-fitted-level-1);\n",
       "}\n",
       "\n",
       "/* On hover */\n",
       "#sk-container-id-1 a.estimator_doc_link:hover {\n",
       "  /* unfitted */\n",
       "  background-color: var(--sklearn-color-unfitted-level-3);\n",
       "  color: var(--sklearn-color-background);\n",
       "  text-decoration: none;\n",
       "}\n",
       "\n",
       "#sk-container-id-1 a.estimator_doc_link.fitted:hover {\n",
       "  /* fitted */\n",
       "  background-color: var(--sklearn-color-fitted-level-3);\n",
       "}\n",
       "</style><div id=\"sk-container-id-1\" class=\"sk-top-container\"><div class=\"sk-text-repr-fallback\"><pre>LogisticRegression(max_iter=1000)</pre><b>In a Jupyter environment, please rerun this cell to show the HTML representation or trust the notebook. <br />On GitHub, the HTML representation is unable to render, please try loading this page with nbviewer.org.</b></div><div class=\"sk-container\" hidden><div class=\"sk-item\"><div class=\"sk-estimator fitted sk-toggleable\"><input class=\"sk-toggleable__control sk-hidden--visually\" id=\"sk-estimator-id-1\" type=\"checkbox\" checked><label for=\"sk-estimator-id-1\" class=\"sk-toggleable__label fitted sk-toggleable__label-arrow fitted\">&nbsp;&nbsp;LogisticRegression<a class=\"sk-estimator-doc-link fitted\" rel=\"noreferrer\" target=\"_blank\" href=\"https://scikit-learn.org/1.5/modules/generated/sklearn.linear_model.LogisticRegression.html\">?<span>Documentation for LogisticRegression</span></a><span class=\"sk-estimator-doc-link fitted\">i<span>Fitted</span></span></label><div class=\"sk-toggleable__content fitted\"><pre>LogisticRegression(max_iter=1000)</pre></div> </div></div></div></div>"
      ],
      "text/plain": [
       "LogisticRegression(max_iter=1000)"
      ]
     },
     "execution_count": 5,
     "metadata": {},
     "output_type": "execute_result"
    }
   ],
   "source": [
    "# Separar el dataset en datos de entrenamiento y prueba\n",
    "X = df_train['tokenizacions']  # Utilizamos el texto preprocesado\n",
    "y = df_train['clase']  # Las etiquetas\n",
    "\n",
    "# Dividir el dataset en conjunto de entrenamiento y prueba con estratificación\n",
    "X_train, X_test, y_train, y_test = train_test_split(X, y, test_size=0.2, random_state=42)\n",
    "\n",
    "# Crear un objeto TfidfVectorizer\n",
    "vectorizer = TfidfVectorizer()\n",
    "\n",
    "# Ajustar el vectorizador y transformar los datos de entrenamiento\n",
    "X_train_vectorized = vectorizer.fit_transform(X_train)\n",
    "X_test_vectorized = vectorizer.transform(X_test)\n",
    "\n",
    "# Entrenamiento del modelo\n",
    "model = LogisticRegression(max_iter=1000)  # Aumentamos max_iter si es necesario\n",
    "model.fit(X_train_vectorized, y_train)"
   ]
  },
  {
   "cell_type": "code",
   "execution_count": 6,
   "metadata": {},
   "outputs": [
    {
     "name": "stdout",
     "output_type": "stream",
     "text": [
      "Matriz de confusión:\n",
      "[[61 12  6  2  1  5  3  4  0  3  1]\n",
      " [ 5 38  1  3  2  4  5  3  3  6  6]\n",
      " [ 2  7 35  4  7 17  0  5  1  7  7]\n",
      " [ 2  3  4 49  5  2  0 13  1  8  3]\n",
      " [ 4  4 11  2 43  8  0  5  5  6  9]\n",
      " [ 3 11  6  9  4 33  3  9  2  2  2]\n",
      " [ 0  1  0  2  1  1 82  1  2  2  1]\n",
      " [ 4  3  1  4  2  4  4 60  1  4 12]\n",
      " [ 2  5  1  2  2  2 10  2 44  1  1]\n",
      " [ 1 12  2 16  7  9  1 12  3 34  5]\n",
      " [ 1  5  4 11 12  6  2  5  2  3 46]]\n",
      "\n",
      "Reporte de clasificación:\n",
      "                 precision    recall  f1-score   support\n",
      "\n",
      "     accidentes       0.72      0.62      0.67        98\n",
      "        ciencia       0.38      0.50      0.43        76\n",
      "       deportes       0.49      0.38      0.43        92\n",
      "       economia       0.47      0.54      0.51        90\n",
      "      educacion       0.50      0.44      0.47        97\n",
      "entretenimiento       0.36      0.39      0.38        84\n",
      "  internacional       0.75      0.88      0.81        93\n",
      " medio_ambiente       0.50      0.61      0.55        99\n",
      "       politica       0.69      0.61      0.65        72\n",
      "          salud       0.45      0.33      0.38       102\n",
      "     tecnologia       0.49      0.47      0.48        97\n",
      "\n",
      "       accuracy                           0.53      1000\n",
      "      macro avg       0.53      0.53      0.52      1000\n",
      "   weighted avg       0.53      0.53      0.52      1000\n",
      "\n"
     ]
    }
   ],
   "source": [
    "# Realizar predicciones en el conjunto de prueba\n",
    "y_pred = model.predict(X_test_vectorized)\n",
    "\n",
    "# Comparar las predicciones con las etiquetas reales\n",
    "print(\"Matriz de confusión:\")\n",
    "print(confusion_matrix(y_test, y_pred))\n",
    "\n",
    "print(\"\\nReporte de clasificación:\")\n",
    "print(classification_report(y_test, y_pred))"
   ]
  },
  {
   "cell_type": "code",
   "execution_count": 7,
   "metadata": {},
   "outputs": [
    {
     "name": "stdout",
     "output_type": "stream",
     "text": [
      "['salud']\n"
     ]
    }
   ],
   "source": [
    "# Definir el nuevo documento\n",
    "new_documents = ['El Ministerio de Salud ha informado sobre un nuevo brote de infecciones respiratorias que afecta a varias regiones del país. Los expertos recomiendan seguir usando mascarillas en espacios cerrados y continuar con las medidas de higiene para evitar la propagación del virus.']\n",
    "\n",
    "# Preprocesar el nuevo documento con spaCy\n",
    "new_documents_preprocessed = [preprocess_text(doc) for doc in new_documents]\n",
    "\n",
    "# Transformar el nuevo documento a la representación TF-IDF\n",
    "new_features = vectorizer.transform(new_documents_preprocessed)\n",
    "\n",
    "# Hacer predicciones con el modelo entrenado\n",
    "predictions = model.predict(new_features)  # model es el modelo entrenado previamente (LogisticRegression en este caso)\n",
    "\n",
    "# Imprimir las predicciones\n",
    "print(predictions)"
   ]
  },
  {
   "cell_type": "markdown",
   "metadata": {},
   "source": [
    "### Desafio 2\n",
    "\n",
    "Geolocalizar eventos en noticias\n",
    "\n",
    "Utilizando técnicas de tratamiento automático del lenguaje, el objetivo del desafío es estructurar la información de una noticia de la manera siguiente:\n",
    "\n",
    "- event: principal evento descrito en la noticia\n",
    "- category: categoria temática del evento\n",
    "- address: dirección dónde occurió el evento en formato: calle número, comuna, país\n",
    "- latitud: latitud del evento\n",
    "- longitud: longitud del evento\n",
    "\n",
    "Resultado: El formato del archivo CSV output que entregar contiene las columnas siguientes: id_news, event, category, address, latitud, longitud\n"
   ]
  },
  {
   "cell_type": "code",
   "execution_count": 8,
   "metadata": {},
   "outputs": [
    {
     "data": {
      "text/html": [
       "<div>\n",
       "<style scoped>\n",
       "    .dataframe tbody tr th:only-of-type {\n",
       "        vertical-align: middle;\n",
       "    }\n",
       "\n",
       "    .dataframe tbody tr th {\n",
       "        vertical-align: top;\n",
       "    }\n",
       "\n",
       "    .dataframe thead th {\n",
       "        text-align: right;\n",
       "    }\n",
       "</style>\n",
       "<table border=\"1\" class=\"dataframe\">\n",
       "  <thead>\n",
       "    <tr style=\"text-align: right;\">\n",
       "      <th></th>\n",
       "      <th>date</th>\n",
       "      <th>media_outlet</th>\n",
       "      <th>text</th>\n",
       "      <th>url</th>\n",
       "      <th>title</th>\n",
       "      <th>id_news</th>\n",
       "    </tr>\n",
       "  </thead>\n",
       "  <tbody>\n",
       "    <tr>\n",
       "      <th>10404</th>\n",
       "      <td>2024-08-15</td>\n",
       "      <td>biobiochile</td>\n",
       "      <td>Los reconocidos guitarristas Horacio Salinas y...</td>\n",
       "      <td>https://www.biobiochile.cl/noticias/artes-y-cu...</td>\n",
       "      <td>Horacio Salinas y Romilio Orellana unen sus tr...</td>\n",
       "      <td>53.878.712</td>\n",
       "    </tr>\n",
       "    <tr>\n",
       "      <th>20026</th>\n",
       "      <td>2024-08-01</td>\n",
       "      <td>lanacion</td>\n",
       "      <td>El Gobierno suspendió las clases en todos los...</td>\n",
       "      <td>https://www.lanacion.cl/suspenden-clases-en-la...</td>\n",
       "      <td>Suspenden clases en la RM y otras nueve region...</td>\n",
       "      <td>53.412.225</td>\n",
       "    </tr>\n",
       "    <tr>\n",
       "      <th>2043</th>\n",
       "      <td>2024-08-27</td>\n",
       "      <td>latercera</td>\n",
       "      <td>El delegado de la Región Metropolitana, Gonzal...</td>\n",
       "      <td>https://www.latercera.com/nacional/noticia/se-...</td>\n",
       "      <td>¿Se cierra o no se cierra el Teatro Caupolicán...</td>\n",
       "      <td>53.558.369</td>\n",
       "    </tr>\n",
       "    <tr>\n",
       "      <th>11508</th>\n",
       "      <td>2024-08-13</td>\n",
       "      <td>biobiochile</td>\n",
       "      <td>Dos adolescentes de 15 y 16 años, este último ...</td>\n",
       "      <td>https://www.biobiochile.cl/noticias/nacional/r...</td>\n",
       "      <td>Detienen a dos adolescentes por robo de especi...</td>\n",
       "      <td>53.877.607</td>\n",
       "    </tr>\n",
       "    <tr>\n",
       "      <th>8398</th>\n",
       "      <td>2024-08-18</td>\n",
       "      <td>biobiochile</td>\n",
       "      <td>Según el pronóstico del tiempo, se esperan llu...</td>\n",
       "      <td>https://www.biobiochile.cl/noticias/servicios/...</td>\n",
       "      <td>Anuncian lluvias, granizos, vientos sobre 70 k...</td>\n",
       "      <td>53.560.642</td>\n",
       "    </tr>\n",
       "    <tr>\n",
       "      <th>...</th>\n",
       "      <td>...</td>\n",
       "      <td>...</td>\n",
       "      <td>...</td>\n",
       "      <td>...</td>\n",
       "      <td>...</td>\n",
       "      <td>...</td>\n",
       "    </tr>\n",
       "    <tr>\n",
       "      <th>12832</th>\n",
       "      <td>2024-08-11</td>\n",
       "      <td>cnnchile</td>\n",
       "      <td>Organizaciones no gubernamentales como Espacio...</td>\n",
       "      <td>https://www.cnnchile.com/mundo/bloqueo-redes-s...</td>\n",
       "      <td>Bloqueo a redes sociales afectan el libre fluj...</td>\n",
       "      <td>53.427.424</td>\n",
       "    </tr>\n",
       "    <tr>\n",
       "      <th>17687</th>\n",
       "      <td>2024-08-05</td>\n",
       "      <td>biobiochile</td>\n",
       "      <td>Deportes Puerto Montt demanda a la ANFP por in...</td>\n",
       "      <td>https://www.biobiochile.cl/noticias/deportes/f...</td>\n",
       "      <td>Deportes Puerto Montt lleva a la ANFP a la Jus...</td>\n",
       "      <td>53.878.826</td>\n",
       "    </tr>\n",
       "    <tr>\n",
       "      <th>1624</th>\n",
       "      <td>2024-08-28</td>\n",
       "      <td>biobiochile</td>\n",
       "      <td>La FIFA encargó a una startup chilena la misió...</td>\n",
       "      <td>https://www.biobiochile.cl/noticias/ciencia-y-...</td>\n",
       "      <td>Más goles e ídolas: una IA reveló cómo sería e...</td>\n",
       "      <td>53.879.318</td>\n",
       "    </tr>\n",
       "    <tr>\n",
       "      <th>3310</th>\n",
       "      <td>2024-08-26</td>\n",
       "      <td>emol</td>\n",
       "      <td>El capitán se va.  El retiro de Claudio Bravo ...</td>\n",
       "      <td>https://www.emol.com/noticias/Deportes/2024/08...</td>\n",
       "      <td>El homenaje que planea la ANFP y los especiale...</td>\n",
       "      <td>53.564.989</td>\n",
       "    </tr>\n",
       "    <tr>\n",
       "      <th>1429</th>\n",
       "      <td>2024-08-28</td>\n",
       "      <td>emol</td>\n",
       "      <td>Ya es oficial. Guillermo Maripán tiene nuevo e...</td>\n",
       "      <td>https://www.emol.com/noticias/Deportes/2024/08...</td>\n",
       "      <td>Oficial: Guillermo Maripán deja el Mónaco y es...</td>\n",
       "      <td>53.619.074</td>\n",
       "    </tr>\n",
       "  </tbody>\n",
       "</table>\n",
       "<p>1810 rows × 6 columns</p>\n",
       "</div>"
      ],
      "text/plain": [
       "             date media_outlet  \\\n",
       "10404  2024-08-15  biobiochile   \n",
       "20026  2024-08-01     lanacion   \n",
       "2043   2024-08-27    latercera   \n",
       "11508  2024-08-13  biobiochile   \n",
       "8398   2024-08-18  biobiochile   \n",
       "...           ...          ...   \n",
       "12832  2024-08-11     cnnchile   \n",
       "17687  2024-08-05  biobiochile   \n",
       "1624   2024-08-28  biobiochile   \n",
       "3310   2024-08-26         emol   \n",
       "1429   2024-08-28         emol   \n",
       "\n",
       "                                                    text  \\\n",
       "10404  Los reconocidos guitarristas Horacio Salinas y...   \n",
       "20026   El Gobierno suspendió las clases en todos los...   \n",
       "2043   El delegado de la Región Metropolitana, Gonzal...   \n",
       "11508  Dos adolescentes de 15 y 16 años, este último ...   \n",
       "8398   Según el pronóstico del tiempo, se esperan llu...   \n",
       "...                                                  ...   \n",
       "12832  Organizaciones no gubernamentales como Espacio...   \n",
       "17687  Deportes Puerto Montt demanda a la ANFP por in...   \n",
       "1624   La FIFA encargó a una startup chilena la misió...   \n",
       "3310   El capitán se va.  El retiro de Claudio Bravo ...   \n",
       "1429   Ya es oficial. Guillermo Maripán tiene nuevo e...   \n",
       "\n",
       "                                                     url  \\\n",
       "10404  https://www.biobiochile.cl/noticias/artes-y-cu...   \n",
       "20026  https://www.lanacion.cl/suspenden-clases-en-la...   \n",
       "2043   https://www.latercera.com/nacional/noticia/se-...   \n",
       "11508  https://www.biobiochile.cl/noticias/nacional/r...   \n",
       "8398   https://www.biobiochile.cl/noticias/servicios/...   \n",
       "...                                                  ...   \n",
       "12832  https://www.cnnchile.com/mundo/bloqueo-redes-s...   \n",
       "17687  https://www.biobiochile.cl/noticias/deportes/f...   \n",
       "1624   https://www.biobiochile.cl/noticias/ciencia-y-...   \n",
       "3310   https://www.emol.com/noticias/Deportes/2024/08...   \n",
       "1429   https://www.emol.com/noticias/Deportes/2024/08...   \n",
       "\n",
       "                                                   title     id_news  \n",
       "10404  Horacio Salinas y Romilio Orellana unen sus tr...  53.878.712  \n",
       "20026  Suspenden clases en la RM y otras nueve region...  53.412.225  \n",
       "2043   ¿Se cierra o no se cierra el Teatro Caupolicán...  53.558.369  \n",
       "11508  Detienen a dos adolescentes por robo de especi...  53.877.607  \n",
       "8398   Anuncian lluvias, granizos, vientos sobre 70 k...  53.560.642  \n",
       "...                                                  ...         ...  \n",
       "12832  Bloqueo a redes sociales afectan el libre fluj...  53.427.424  \n",
       "17687  Deportes Puerto Montt lleva a la ANFP a la Jus...  53.878.826  \n",
       "1624   Más goles e ídolas: una IA reveló cómo sería e...  53.879.318  \n",
       "3310   El homenaje que planea la ANFP y los especiale...  53.564.989  \n",
       "1429   Oficial: Guillermo Maripán deja el Mónaco y es...  53.619.074  \n",
       "\n",
       "[1810 rows x 6 columns]"
      ]
     },
     "metadata": {},
     "output_type": "display_data"
    }
   ],
   "source": [
    "# Cargar el dataset de entrenamiento\n",
    "df_d2 = pd.read_csv('./dataset_agosto2024.csv')\n",
    "\n",
    "# Muestra aleatoria de 2000 registros\n",
    "df_geo = df_d2.sample(n=2000, random_state=42)\n",
    "\n",
    "# quitar las filas con la columa text == \"empty\"\n",
    "df_geo = df_geo[df_geo['text'] != '(empty)']\n",
    "\n",
    "df_geo = format_df(df_geo)"
   ]
  },
  {
   "cell_type": "code",
   "execution_count": 9,
   "metadata": {},
   "outputs": [
    {
     "name": "stderr",
     "output_type": "stream",
     "text": [
      "Procesando texto: 100%|██████████| 1810/1810 [03:24<00:00,  8.86it/s]\n"
     ]
    },
    {
     "data": {
      "text/html": [
       "<div>\n",
       "<style scoped>\n",
       "    .dataframe tbody tr th:only-of-type {\n",
       "        vertical-align: middle;\n",
       "    }\n",
       "\n",
       "    .dataframe tbody tr th {\n",
       "        vertical-align: top;\n",
       "    }\n",
       "\n",
       "    .dataframe thead th {\n",
       "        text-align: right;\n",
       "    }\n",
       "</style>\n",
       "<table border=\"1\" class=\"dataframe\">\n",
       "  <thead>\n",
       "    <tr style=\"text-align: right;\">\n",
       "      <th></th>\n",
       "      <th>date</th>\n",
       "      <th>media_outlet</th>\n",
       "      <th>text</th>\n",
       "      <th>url</th>\n",
       "      <th>title</th>\n",
       "      <th>id_news</th>\n",
       "      <th>tokenizacions</th>\n",
       "      <th>category</th>\n",
       "    </tr>\n",
       "  </thead>\n",
       "  <tbody>\n",
       "    <tr>\n",
       "      <th>10404</th>\n",
       "      <td>2024-08-15</td>\n",
       "      <td>biobiochile</td>\n",
       "      <td>Los reconocidos guitarristas Horacio Salinas y...</td>\n",
       "      <td>https://www.biobiochile.cl/noticias/artes-y-cu...</td>\n",
       "      <td>Horacio Salinas y Romilio Orellana unen sus tr...</td>\n",
       "      <td>53.878.712</td>\n",
       "      <td>Los reconocido guitarrista Horacio Salinas y R...</td>\n",
       "      <td>entretenimiento</td>\n",
       "    </tr>\n",
       "    <tr>\n",
       "      <th>20026</th>\n",
       "      <td>2024-08-01</td>\n",
       "      <td>lanacion</td>\n",
       "      <td>El Gobierno suspendió las clases en todos los...</td>\n",
       "      <td>https://www.lanacion.cl/suspenden-clases-en-la...</td>\n",
       "      <td>Suspenden clases en la RM y otras nueve region...</td>\n",
       "      <td>53.412.225</td>\n",
       "      <td>El Gobierno suspendió las clase en todo los es...</td>\n",
       "      <td>educacion</td>\n",
       "    </tr>\n",
       "    <tr>\n",
       "      <th>2043</th>\n",
       "      <td>2024-08-27</td>\n",
       "      <td>latercera</td>\n",
       "      <td>El delegado de la Región Metropolitana, Gonzal...</td>\n",
       "      <td>https://www.latercera.com/nacional/noticia/se-...</td>\n",
       "      <td>¿Se cierra o no se cierra el Teatro Caupolicán...</td>\n",
       "      <td>53.558.369</td>\n",
       "      <td>El delegado de la Región Metropolitana Gonzalo...</td>\n",
       "      <td>entretenimiento</td>\n",
       "    </tr>\n",
       "    <tr>\n",
       "      <th>11508</th>\n",
       "      <td>2024-08-13</td>\n",
       "      <td>biobiochile</td>\n",
       "      <td>Dos adolescentes de 15 y 16 años, este último ...</td>\n",
       "      <td>https://www.biobiochile.cl/noticias/nacional/r...</td>\n",
       "      <td>Detienen a dos adolescentes por robo de especi...</td>\n",
       "      <td>53.877.607</td>\n",
       "      <td>Dos adolescente de 15 y 16 año este último con...</td>\n",
       "      <td>ciencia</td>\n",
       "    </tr>\n",
       "    <tr>\n",
       "      <th>8398</th>\n",
       "      <td>2024-08-18</td>\n",
       "      <td>biobiochile</td>\n",
       "      <td>Según el pronóstico del tiempo, se esperan llu...</td>\n",
       "      <td>https://www.biobiochile.cl/noticias/servicios/...</td>\n",
       "      <td>Anuncian lluvias, granizos, vientos sobre 70 k...</td>\n",
       "      <td>53.560.642</td>\n",
       "      <td>Según el pronóstico del tiempo se esperan lluv...</td>\n",
       "      <td>medio_ambiente</td>\n",
       "    </tr>\n",
       "    <tr>\n",
       "      <th>...</th>\n",
       "      <td>...</td>\n",
       "      <td>...</td>\n",
       "      <td>...</td>\n",
       "      <td>...</td>\n",
       "      <td>...</td>\n",
       "      <td>...</td>\n",
       "      <td>...</td>\n",
       "      <td>...</td>\n",
       "    </tr>\n",
       "    <tr>\n",
       "      <th>12832</th>\n",
       "      <td>2024-08-11</td>\n",
       "      <td>cnnchile</td>\n",
       "      <td>Organizaciones no gubernamentales como Espacio...</td>\n",
       "      <td>https://www.cnnchile.com/mundo/bloqueo-redes-s...</td>\n",
       "      <td>Bloqueo a redes sociales afectan el libre fluj...</td>\n",
       "      <td>53.427.424</td>\n",
       "      <td>Organizaciones gubernamentale como Espacio Púb...</td>\n",
       "      <td>internacional</td>\n",
       "    </tr>\n",
       "    <tr>\n",
       "      <th>17687</th>\n",
       "      <td>2024-08-05</td>\n",
       "      <td>biobiochile</td>\n",
       "      <td>Deportes Puerto Montt demanda a la ANFP por in...</td>\n",
       "      <td>https://www.biobiochile.cl/noticias/deportes/f...</td>\n",
       "      <td>Deportes Puerto Montt lleva a la ANFP a la Jus...</td>\n",
       "      <td>53.878.826</td>\n",
       "      <td>Deportes Puerto Montt demanda la ANFP por inde...</td>\n",
       "      <td>deportes</td>\n",
       "    </tr>\n",
       "    <tr>\n",
       "      <th>1624</th>\n",
       "      <td>2024-08-28</td>\n",
       "      <td>biobiochile</td>\n",
       "      <td>La FIFA encargó a una startup chilena la misió...</td>\n",
       "      <td>https://www.biobiochile.cl/noticias/ciencia-y-...</td>\n",
       "      <td>Más goles e ídolas: una IA reveló cómo sería e...</td>\n",
       "      <td>53.879.318</td>\n",
       "      <td>La FIFA encargó una startup chilena la misión ...</td>\n",
       "      <td>deportes</td>\n",
       "    </tr>\n",
       "    <tr>\n",
       "      <th>3310</th>\n",
       "      <td>2024-08-26</td>\n",
       "      <td>emol</td>\n",
       "      <td>El capitán se va.  El retiro de Claudio Bravo ...</td>\n",
       "      <td>https://www.emol.com/noticias/Deportes/2024/08...</td>\n",
       "      <td>El homenaje que planea la ANFP y los especiale...</td>\n",
       "      <td>53.564.989</td>\n",
       "      <td>El capitán se va El retiro de Claudio Bravo es...</td>\n",
       "      <td>deportes</td>\n",
       "    </tr>\n",
       "    <tr>\n",
       "      <th>1429</th>\n",
       "      <td>2024-08-28</td>\n",
       "      <td>emol</td>\n",
       "      <td>Ya es oficial. Guillermo Maripán tiene nuevo e...</td>\n",
       "      <td>https://www.emol.com/noticias/Deportes/2024/08...</td>\n",
       "      <td>Oficial: Guillermo Maripán deja el Mónaco y es...</td>\n",
       "      <td>53.619.074</td>\n",
       "      <td>ya es oficial Guillermo Maripán tiene nuevo eq...</td>\n",
       "      <td>deportes</td>\n",
       "    </tr>\n",
       "  </tbody>\n",
       "</table>\n",
       "<p>1810 rows × 8 columns</p>\n",
       "</div>"
      ],
      "text/plain": [
       "             date media_outlet  \\\n",
       "10404  2024-08-15  biobiochile   \n",
       "20026  2024-08-01     lanacion   \n",
       "2043   2024-08-27    latercera   \n",
       "11508  2024-08-13  biobiochile   \n",
       "8398   2024-08-18  biobiochile   \n",
       "...           ...          ...   \n",
       "12832  2024-08-11     cnnchile   \n",
       "17687  2024-08-05  biobiochile   \n",
       "1624   2024-08-28  biobiochile   \n",
       "3310   2024-08-26         emol   \n",
       "1429   2024-08-28         emol   \n",
       "\n",
       "                                                    text  \\\n",
       "10404  Los reconocidos guitarristas Horacio Salinas y...   \n",
       "20026   El Gobierno suspendió las clases en todos los...   \n",
       "2043   El delegado de la Región Metropolitana, Gonzal...   \n",
       "11508  Dos adolescentes de 15 y 16 años, este último ...   \n",
       "8398   Según el pronóstico del tiempo, se esperan llu...   \n",
       "...                                                  ...   \n",
       "12832  Organizaciones no gubernamentales como Espacio...   \n",
       "17687  Deportes Puerto Montt demanda a la ANFP por in...   \n",
       "1624   La FIFA encargó a una startup chilena la misió...   \n",
       "3310   El capitán se va.  El retiro de Claudio Bravo ...   \n",
       "1429   Ya es oficial. Guillermo Maripán tiene nuevo e...   \n",
       "\n",
       "                                                     url  \\\n",
       "10404  https://www.biobiochile.cl/noticias/artes-y-cu...   \n",
       "20026  https://www.lanacion.cl/suspenden-clases-en-la...   \n",
       "2043   https://www.latercera.com/nacional/noticia/se-...   \n",
       "11508  https://www.biobiochile.cl/noticias/nacional/r...   \n",
       "8398   https://www.biobiochile.cl/noticias/servicios/...   \n",
       "...                                                  ...   \n",
       "12832  https://www.cnnchile.com/mundo/bloqueo-redes-s...   \n",
       "17687  https://www.biobiochile.cl/noticias/deportes/f...   \n",
       "1624   https://www.biobiochile.cl/noticias/ciencia-y-...   \n",
       "3310   https://www.emol.com/noticias/Deportes/2024/08...   \n",
       "1429   https://www.emol.com/noticias/Deportes/2024/08...   \n",
       "\n",
       "                                                   title     id_news  \\\n",
       "10404  Horacio Salinas y Romilio Orellana unen sus tr...  53.878.712   \n",
       "20026  Suspenden clases en la RM y otras nueve region...  53.412.225   \n",
       "2043   ¿Se cierra o no se cierra el Teatro Caupolicán...  53.558.369   \n",
       "11508  Detienen a dos adolescentes por robo de especi...  53.877.607   \n",
       "8398   Anuncian lluvias, granizos, vientos sobre 70 k...  53.560.642   \n",
       "...                                                  ...         ...   \n",
       "12832  Bloqueo a redes sociales afectan el libre fluj...  53.427.424   \n",
       "17687  Deportes Puerto Montt lleva a la ANFP a la Jus...  53.878.826   \n",
       "1624   Más goles e ídolas: una IA reveló cómo sería e...  53.879.318   \n",
       "3310   El homenaje que planea la ANFP y los especiale...  53.564.989   \n",
       "1429   Oficial: Guillermo Maripán deja el Mónaco y es...  53.619.074   \n",
       "\n",
       "                                           tokenizacions         category  \n",
       "10404  Los reconocido guitarrista Horacio Salinas y R...  entretenimiento  \n",
       "20026  El Gobierno suspendió las clase en todo los es...        educacion  \n",
       "2043   El delegado de la Región Metropolitana Gonzalo...  entretenimiento  \n",
       "11508  Dos adolescente de 15 y 16 año este último con...          ciencia  \n",
       "8398   Según el pronóstico del tiempo se esperan lluv...   medio_ambiente  \n",
       "...                                                  ...              ...  \n",
       "12832  Organizaciones gubernamentale como Espacio Púb...    internacional  \n",
       "17687  Deportes Puerto Montt demanda la ANFP por inde...         deportes  \n",
       "1624   La FIFA encargó una startup chilena la misión ...         deportes  \n",
       "3310   El capitán se va El retiro de Claudio Bravo es...         deportes  \n",
       "1429   ya es oficial Guillermo Maripán tiene nuevo eq...         deportes  \n",
       "\n",
       "[1810 rows x 8 columns]"
      ]
     },
     "execution_count": 9,
     "metadata": {},
     "output_type": "execute_result"
    }
   ],
   "source": [
    "# utilizar modelo anterior para predecir la clase de los textos en el dataset\n",
    "df_geo['tokenizacions'] = df_geo['text'].progress_apply(preprocess_text)\n",
    "\n",
    "# Transformar los datos de texto a vectores TF-IDF\n",
    "X_geo = df_geo['tokenizacions']\n",
    "X_geo_vectorized = vectorizer.transform(X_geo)\n",
    "\n",
    "# Realizar predicciones con el modelo entrenado\n",
    "y_geo_pred = model.predict(X_geo_vectorized)\n",
    "\n",
    "# Agregar las predicciones al DataFrame\n",
    "df_geo['category'] = y_geo_pred\n",
    "df_geo"
   ]
  },
  {
   "cell_type": "code",
   "execution_count": 10,
   "metadata": {},
   "outputs": [
    {
     "name": "stderr",
     "output_type": "stream",
     "text": [
      "/opt/miniconda3/envs/py_data/lib/python3.12/site-packages/transformers/tokenization_utils_base.py:1601: FutureWarning: `clean_up_tokenization_spaces` was not set. It will be set to `True` by default. This behavior will be depracted in transformers v4.45, and will be then set to `False` by default. For more details check this issue: https://github.com/huggingface/transformers/issues/31884\n",
      "  warnings.warn(\n",
      "Hardware accelerator e.g. GPU is available in the environment, but no `device` argument is passed to the `Pipeline` object. Model will be on CPU.\n"
     ]
    }
   ],
   "source": [
    "# Cargar el modelo de lenguaje natural en español\n",
    "nlp = spacy.load('es_core_news_sm')\n",
    "\n",
    "# pipeline de pregunta-respuesta\n",
    "qa_model = pipeline(\"question-answering\", \"timpal0l/mdeberta-v3-base-squad2\")\n"
   ]
  },
  {
   "cell_type": "code",
   "execution_count": 11,
   "metadata": {},
   "outputs": [
    {
     "data": {
      "text/html": [
       "<div>\n",
       "<style scoped>\n",
       "    .dataframe tbody tr th:only-of-type {\n",
       "        vertical-align: middle;\n",
       "    }\n",
       "\n",
       "    .dataframe tbody tr th {\n",
       "        vertical-align: top;\n",
       "    }\n",
       "\n",
       "    .dataframe thead th {\n",
       "        text-align: right;\n",
       "    }\n",
       "</style>\n",
       "<table border=\"1\" class=\"dataframe\">\n",
       "  <thead>\n",
       "    <tr style=\"text-align: right;\">\n",
       "      <th></th>\n",
       "      <th>date</th>\n",
       "      <th>media_outlet</th>\n",
       "      <th>text</th>\n",
       "      <th>url</th>\n",
       "      <th>title</th>\n",
       "      <th>id_news</th>\n",
       "      <th>tokenizacions</th>\n",
       "      <th>category</th>\n",
       "      <th>event</th>\n",
       "      <th>address</th>\n",
       "    </tr>\n",
       "  </thead>\n",
       "  <tbody>\n",
       "    <tr>\n",
       "      <th>10404</th>\n",
       "      <td>2024-08-15</td>\n",
       "      <td>biobiochile</td>\n",
       "      <td>Los reconocidos guitarristas Horacio Salinas y...</td>\n",
       "      <td>https://www.biobiochile.cl/noticias/artes-y-cu...</td>\n",
       "      <td>Horacio Salinas y Romilio Orellana unen sus tr...</td>\n",
       "      <td>53.878.712</td>\n",
       "      <td>Los reconocido guitarrista Horacio Salinas y R...</td>\n",
       "      <td>entretenimiento</td>\n",
       "      <td>un concierto único.</td>\n",
       "      <td>Sala SCD Plaza Egaña.</td>\n",
       "    </tr>\n",
       "    <tr>\n",
       "      <th>20026</th>\n",
       "      <td>2024-08-01</td>\n",
       "      <td>lanacion</td>\n",
       "      <td>El Gobierno suspendió las clases en todos los...</td>\n",
       "      <td>https://www.lanacion.cl/suspenden-clases-en-la...</td>\n",
       "      <td>Suspenden clases en la RM y otras nueve region...</td>\n",
       "      <td>53.412.225</td>\n",
       "      <td>El Gobierno suspendió las clase en todo los es...</td>\n",
       "      <td>educacion</td>\n",
       "      <td>estragos causados por el sistema frontal.</td>\n",
       "      <td>Región de Coquimbo</td>\n",
       "    </tr>\n",
       "    <tr>\n",
       "      <th>2043</th>\n",
       "      <td>2024-08-27</td>\n",
       "      <td>latercera</td>\n",
       "      <td>El delegado de la Región Metropolitana, Gonzal...</td>\n",
       "      <td>https://www.latercera.com/nacional/noticia/se-...</td>\n",
       "      <td>¿Se cierra o no se cierra el Teatro Caupolicán...</td>\n",
       "      <td>53.558.369</td>\n",
       "      <td>El delegado de la Región Metropolitana Gonzalo...</td>\n",
       "      <td>entretenimiento</td>\n",
       "      <td>concierto,</td>\n",
       "      <td>Teatro Caupolicán,</td>\n",
       "    </tr>\n",
       "    <tr>\n",
       "      <th>11508</th>\n",
       "      <td>2024-08-13</td>\n",
       "      <td>biobiochile</td>\n",
       "      <td>Dos adolescentes de 15 y 16 años, este último ...</td>\n",
       "      <td>https://www.biobiochile.cl/noticias/nacional/r...</td>\n",
       "      <td>Detienen a dos adolescentes por robo de especi...</td>\n",
       "      <td>53.877.607</td>\n",
       "      <td>Dos adolescente de 15 y 16 año este último con...</td>\n",
       "      <td>ciencia</td>\n",
       "      <td>robo con violencia,</td>\n",
       "      <td>calle Lynch a la altura del Destacamento Tuca...</td>\n",
       "    </tr>\n",
       "    <tr>\n",
       "      <th>8398</th>\n",
       "      <td>2024-08-18</td>\n",
       "      <td>biobiochile</td>\n",
       "      <td>Según el pronóstico del tiempo, se esperan llu...</td>\n",
       "      <td>https://www.biobiochile.cl/noticias/servicios/...</td>\n",
       "      <td>Anuncian lluvias, granizos, vientos sobre 70 k...</td>\n",
       "      <td>53.560.642</td>\n",
       "      <td>Según el pronóstico del tiempo se esperan lluv...</td>\n",
       "      <td>medio_ambiente</td>\n",
       "      <td>tormentas eléctricas,</td>\n",
       "      <td>zona centro y sur,</td>\n",
       "    </tr>\n",
       "    <tr>\n",
       "      <th>...</th>\n",
       "      <td>...</td>\n",
       "      <td>...</td>\n",
       "      <td>...</td>\n",
       "      <td>...</td>\n",
       "      <td>...</td>\n",
       "      <td>...</td>\n",
       "      <td>...</td>\n",
       "      <td>...</td>\n",
       "      <td>...</td>\n",
       "      <td>...</td>\n",
       "    </tr>\n",
       "    <tr>\n",
       "      <th>13499</th>\n",
       "      <td>2024-08-10</td>\n",
       "      <td>elcomercio</td>\n",
       "      <td>/ ElucidarioProvee contexto, definición y deta...</td>\n",
       "      <td>https://elcomercio.pe/respuestas/que/la-respue...</td>\n",
       "      <td>La respuesta de Carlos Zambrano a las fuertes ...</td>\n",
       "      <td>53.406.006</td>\n",
       "      <td>ElucidarioProvee contexto definición y detalle...</td>\n",
       "      <td>deportes</td>\n",
       "      <td>Torneo Clausura 2024</td>\n",
       "      <td>estadio Alejandro Villanueva</td>\n",
       "    </tr>\n",
       "    <tr>\n",
       "      <th>16593</th>\n",
       "      <td>2024-08-06</td>\n",
       "      <td>biobiochile</td>\n",
       "      <td>A pesar de haber tenido un mayo muy lluvioso, ...</td>\n",
       "      <td>https://www.biobiochile.cl/noticias/servicios/...</td>\n",
       "      <td>¿Seguirán las lluvias? Así será el tiempo en a...</td>\n",
       "      <td>53.565.419</td>\n",
       "      <td>pesar de haber tenido un mayo muy lluvioso jul...</td>\n",
       "      <td>economia</td>\n",
       "      <td>vientos de hasta 125 km/h</td>\n",
       "      <td>región Metropolitana,</td>\n",
       "    </tr>\n",
       "    <tr>\n",
       "      <th>14156</th>\n",
       "      <td>2024-08-09</td>\n",
       "      <td>centralweb</td>\n",
       "      <td>En el mundo del Pop Indie y Pop Alternativo, M...</td>\n",
       "      <td>https://www.centralweb.cl/desde-argentina-mart...</td>\n",
       "      <td>Desde Argentina: Marte presenta «Caótico», su ...</td>\n",
       "      <td>53.558.450</td>\n",
       "      <td>En el mundo del Pop Indie y Pop Alternativo MA...</td>\n",
       "      <td>entretenimiento</td>\n",
       "      <td>Hoy, desde Madrid, celebra el lanzamiento</td>\n",
       "      <td>Madrid,</td>\n",
       "    </tr>\n",
       "    <tr>\n",
       "      <th>2141</th>\n",
       "      <td>2024-08-27</td>\n",
       "      <td>ciperchile</td>\n",
       "      <td>Hoy nuestra principal fuente de financiamiento...</td>\n",
       "      <td>https://www.ciperchile.cl/2024/08/28/japon-mar...</td>\n",
       "      <td>Japón marca un nuevo precedente en la preparac...</td>\n",
       "      <td>53.554.604</td>\n",
       "      <td>Hoy nuestra principal fuente de financiamiento...</td>\n",
       "      <td>ciencia</td>\n",
       "      <td>megaterremoto</td>\n",
       "      <td>Tohoku Oki</td>\n",
       "    </tr>\n",
       "    <tr>\n",
       "      <th>14461</th>\n",
       "      <td>2024-08-08</td>\n",
       "      <td>elcomercio</td>\n",
       "      <td>/ NoticiasInformación basada en hechos y verif...</td>\n",
       "      <td>https://elcomercio.pe/deporte-total/futbol-per...</td>\n",
       "      <td>Liga 1: suspenden el FBC Melgar vs. Comerciant...</td>\n",
       "      <td>53.408.411</td>\n",
       "      <td>NoticiasInformación basada en hechos y verific...</td>\n",
       "      <td>deportes</td>\n",
       "      <td>aniversario de Arequipa.</td>\n",
       "      <td>Arequipa,</td>\n",
       "    </tr>\n",
       "  </tbody>\n",
       "</table>\n",
       "<p>500 rows × 10 columns</p>\n",
       "</div>"
      ],
      "text/plain": [
       "             date media_outlet  \\\n",
       "10404  2024-08-15  biobiochile   \n",
       "20026  2024-08-01     lanacion   \n",
       "2043   2024-08-27    latercera   \n",
       "11508  2024-08-13  biobiochile   \n",
       "8398   2024-08-18  biobiochile   \n",
       "...           ...          ...   \n",
       "13499  2024-08-10   elcomercio   \n",
       "16593  2024-08-06  biobiochile   \n",
       "14156  2024-08-09   centralweb   \n",
       "2141   2024-08-27   ciperchile   \n",
       "14461  2024-08-08   elcomercio   \n",
       "\n",
       "                                                    text  \\\n",
       "10404  Los reconocidos guitarristas Horacio Salinas y...   \n",
       "20026   El Gobierno suspendió las clases en todos los...   \n",
       "2043   El delegado de la Región Metropolitana, Gonzal...   \n",
       "11508  Dos adolescentes de 15 y 16 años, este último ...   \n",
       "8398   Según el pronóstico del tiempo, se esperan llu...   \n",
       "...                                                  ...   \n",
       "13499  / ElucidarioProvee contexto, definición y deta...   \n",
       "16593  A pesar de haber tenido un mayo muy lluvioso, ...   \n",
       "14156  En el mundo del Pop Indie y Pop Alternativo, M...   \n",
       "2141   Hoy nuestra principal fuente de financiamiento...   \n",
       "14461  / NoticiasInformación basada en hechos y verif...   \n",
       "\n",
       "                                                     url  \\\n",
       "10404  https://www.biobiochile.cl/noticias/artes-y-cu...   \n",
       "20026  https://www.lanacion.cl/suspenden-clases-en-la...   \n",
       "2043   https://www.latercera.com/nacional/noticia/se-...   \n",
       "11508  https://www.biobiochile.cl/noticias/nacional/r...   \n",
       "8398   https://www.biobiochile.cl/noticias/servicios/...   \n",
       "...                                                  ...   \n",
       "13499  https://elcomercio.pe/respuestas/que/la-respue...   \n",
       "16593  https://www.biobiochile.cl/noticias/servicios/...   \n",
       "14156  https://www.centralweb.cl/desde-argentina-mart...   \n",
       "2141   https://www.ciperchile.cl/2024/08/28/japon-mar...   \n",
       "14461  https://elcomercio.pe/deporte-total/futbol-per...   \n",
       "\n",
       "                                                   title     id_news  \\\n",
       "10404  Horacio Salinas y Romilio Orellana unen sus tr...  53.878.712   \n",
       "20026  Suspenden clases en la RM y otras nueve region...  53.412.225   \n",
       "2043   ¿Se cierra o no se cierra el Teatro Caupolicán...  53.558.369   \n",
       "11508  Detienen a dos adolescentes por robo de especi...  53.877.607   \n",
       "8398   Anuncian lluvias, granizos, vientos sobre 70 k...  53.560.642   \n",
       "...                                                  ...         ...   \n",
       "13499  La respuesta de Carlos Zambrano a las fuertes ...  53.406.006   \n",
       "16593  ¿Seguirán las lluvias? Así será el tiempo en a...  53.565.419   \n",
       "14156  Desde Argentina: Marte presenta «Caótico», su ...  53.558.450   \n",
       "2141   Japón marca un nuevo precedente en la preparac...  53.554.604   \n",
       "14461  Liga 1: suspenden el FBC Melgar vs. Comerciant...  53.408.411   \n",
       "\n",
       "                                           tokenizacions         category  \\\n",
       "10404  Los reconocido guitarrista Horacio Salinas y R...  entretenimiento   \n",
       "20026  El Gobierno suspendió las clase en todo los es...        educacion   \n",
       "2043   El delegado de la Región Metropolitana Gonzalo...  entretenimiento   \n",
       "11508  Dos adolescente de 15 y 16 año este último con...          ciencia   \n",
       "8398   Según el pronóstico del tiempo se esperan lluv...   medio_ambiente   \n",
       "...                                                  ...              ...   \n",
       "13499  ElucidarioProvee contexto definición y detalle...         deportes   \n",
       "16593  pesar de haber tenido un mayo muy lluvioso jul...         economia   \n",
       "14156  En el mundo del Pop Indie y Pop Alternativo MA...  entretenimiento   \n",
       "2141   Hoy nuestra principal fuente de financiamiento...          ciencia   \n",
       "14461  NoticiasInformación basada en hechos y verific...         deportes   \n",
       "\n",
       "                                            event  \\\n",
       "10404                         un concierto único.   \n",
       "20026   estragos causados por el sistema frontal.   \n",
       "2043                                   concierto,   \n",
       "11508                         robo con violencia,   \n",
       "8398                        tormentas eléctricas,   \n",
       "...                                           ...   \n",
       "13499                        Torneo Clausura 2024   \n",
       "16593                   vientos de hasta 125 km/h   \n",
       "14156   Hoy, desde Madrid, celebra el lanzamiento   \n",
       "2141                                megaterremoto   \n",
       "14461                    aniversario de Arequipa.   \n",
       "\n",
       "                                                 address  \n",
       "10404                              Sala SCD Plaza Egaña.  \n",
       "20026                                 Región de Coquimbo  \n",
       "2043                                  Teatro Caupolicán,  \n",
       "11508   calle Lynch a la altura del Destacamento Tuca...  \n",
       "8398                                  zona centro y sur,  \n",
       "...                                                  ...  \n",
       "13499                       estadio Alejandro Villanueva  \n",
       "16593                              región Metropolitana,  \n",
       "14156                                            Madrid,  \n",
       "2141                                          Tohoku Oki  \n",
       "14461                                          Arequipa,  \n",
       "\n",
       "[500 rows x 10 columns]"
      ]
     },
     "metadata": {},
     "output_type": "display_data"
    }
   ],
   "source": [
    "def extract_info(row):\n",
    "    # Procesar el texto con spaCy\n",
    "    text = row['text']\n",
    "    doc = nlp(text)\n",
    "    \n",
    "    # Definir la pregunta para el modelo de QA para identificar el tipo de evento\n",
    "    question_event = \"¿De qué tipo de evento habla la noticia?\"\n",
    "    qa_response_event = qa_model(question=question_event, context=text)\n",
    "    event = qa_response_event['answer']  # Extraer solo el texto de la respuesta\n",
    "\n",
    "    # Usar el modelo QA para preguntar sobre el lugar del evento\n",
    "    question_place = \"¿Dónde ocurrió el evento?\"\n",
    "    qa_response_place = qa_model(question=question_place, context=text)\n",
    "    place = qa_response_place['answer']  # Extraer la respuesta sobre el lugar\n",
    "\n",
    "    # Usar spaCy para buscar entidades geográficas (GPE y LOC)\n",
    "    addresses = [ent.text for ent in doc.ents if ent.label_ in ['GPE', 'LOC']]\n",
    "    \n",
    "    # Si no se identificaron direcciones claras, usar el modelo de QA para ayudar a refinar la búsqueda\n",
    "    if not addresses:\n",
    "        question_address = \"¿Cuál es la dirección exacta del evento?\"\n",
    "        qa_response_address = qa_model(question=question_address, context=text)\n",
    "        addresses.append(qa_response_address['answer'])\n",
    "\n",
    "    # Imprimir los resultados para verificar\n",
    "    # print(f\"Evento: {event}\")\n",
    "    # print(f\"Lugar: {place}\")\n",
    "    # print(f\"Direcciones encontradas: {addresses}\")\n",
    "\n",
    "    # Retornar los datos extraídos\n",
    "    return event, place\n",
    "\n",
    "\n",
    "# Aplicar la función a cada fila del DataFrame\n",
    "tqdm.pandas(desc=\"Procesando texto\")\n",
    "#df_geo[['event', 'address']] = df_geo.progress_apply(extract_info, axis=1, result_type='expand')\n",
    "\n",
    "### Para hacer las pruebas con menos datos descomentar las siguientes lineas y cambiar el dataframe utilizado despues\n",
    "\n",
    "filtered_rows = []\n",
    "\n",
    "# Iterar sobre las primeras 10 filas para depuración\n",
    "for i in range(500):\n",
    "    row = df_geo.iloc[i]\n",
    "    \n",
    "    # Extraer la información de evento y dirección\n",
    "    event, address = extract_info(row)\n",
    "\n",
    "    # Obtener el índice real de la fila actual\n",
    "    index = df_geo.index[i]\n",
    "    \n",
    "    # Asignar los valores extraídos al DataFrame usando loc con el índice real\n",
    "    df_geo.loc[index, 'event'] = event\n",
    "    df_geo.loc[index, 'address'] = address  # Esto actualiza la dirección correctamente\n",
    "    \n",
    "    # Guardar la fila actualizada en la lista\n",
    "    filtered_rows.append(df_geo.loc[index])\n",
    "\n",
    "# Crear un nuevo DataFrame con las filas filtradas\n",
    "df_filtered = pd.DataFrame(filtered_rows)\n",
    "\n",
    "# Mostrar el nuevo DataFrame\n",
    "display(df_filtered)\n",
    "\n"
   ]
  },
  {
   "cell_type": "code",
   "execution_count": 14,
   "metadata": {},
   "outputs": [
    {
     "data": {
      "text/html": [
       "<div>\n",
       "<style scoped>\n",
       "    .dataframe tbody tr th:only-of-type {\n",
       "        vertical-align: middle;\n",
       "    }\n",
       "\n",
       "    .dataframe tbody tr th {\n",
       "        vertical-align: top;\n",
       "    }\n",
       "\n",
       "    .dataframe thead th {\n",
       "        text-align: right;\n",
       "    }\n",
       "</style>\n",
       "<table border=\"1\" class=\"dataframe\">\n",
       "  <thead>\n",
       "    <tr style=\"text-align: right;\">\n",
       "      <th></th>\n",
       "      <th>date</th>\n",
       "      <th>media_outlet</th>\n",
       "      <th>text</th>\n",
       "      <th>url</th>\n",
       "      <th>title</th>\n",
       "      <th>id_news</th>\n",
       "      <th>tokenizacions</th>\n",
       "      <th>category</th>\n",
       "      <th>event</th>\n",
       "      <th>address</th>\n",
       "      <th>latitud</th>\n",
       "      <th>longitud</th>\n",
       "    </tr>\n",
       "  </thead>\n",
       "  <tbody>\n",
       "    <tr>\n",
       "      <th>10404</th>\n",
       "      <td>2024-08-15</td>\n",
       "      <td>biobiochile</td>\n",
       "      <td>Los reconocidos guitarristas Horacio Salinas y...</td>\n",
       "      <td>https://www.biobiochile.cl/noticias/artes-y-cu...</td>\n",
       "      <td>Horacio Salinas y Romilio Orellana unen sus tr...</td>\n",
       "      <td>53.878.712</td>\n",
       "      <td>Los reconocido guitarrista Horacio Salinas y R...</td>\n",
       "      <td>entretenimiento</td>\n",
       "      <td>un concierto único.</td>\n",
       "      <td>Sala SCD Plaza Egaña.</td>\n",
       "      <td>NaN</td>\n",
       "      <td>NaN</td>\n",
       "    </tr>\n",
       "    <tr>\n",
       "      <th>20026</th>\n",
       "      <td>2024-08-01</td>\n",
       "      <td>lanacion</td>\n",
       "      <td>El Gobierno suspendió las clases en todos los...</td>\n",
       "      <td>https://www.lanacion.cl/suspenden-clases-en-la...</td>\n",
       "      <td>Suspenden clases en la RM y otras nueve region...</td>\n",
       "      <td>53.412.225</td>\n",
       "      <td>El Gobierno suspendió las clase en todo los es...</td>\n",
       "      <td>educacion</td>\n",
       "      <td>estragos causados por el sistema frontal.</td>\n",
       "      <td>Región de Coquimbo</td>\n",
       "      <td>-30.754665</td>\n",
       "      <td>-70.900554</td>\n",
       "    </tr>\n",
       "    <tr>\n",
       "      <th>2043</th>\n",
       "      <td>2024-08-27</td>\n",
       "      <td>latercera</td>\n",
       "      <td>El delegado de la Región Metropolitana, Gonzal...</td>\n",
       "      <td>https://www.latercera.com/nacional/noticia/se-...</td>\n",
       "      <td>¿Se cierra o no se cierra el Teatro Caupolicán...</td>\n",
       "      <td>53.558.369</td>\n",
       "      <td>El delegado de la Región Metropolitana Gonzalo...</td>\n",
       "      <td>entretenimiento</td>\n",
       "      <td>concierto,</td>\n",
       "      <td>Teatro Caupolicán,</td>\n",
       "      <td>-33.456217</td>\n",
       "      <td>-70.649239</td>\n",
       "    </tr>\n",
       "    <tr>\n",
       "      <th>11508</th>\n",
       "      <td>2024-08-13</td>\n",
       "      <td>biobiochile</td>\n",
       "      <td>Dos adolescentes de 15 y 16 años, este último ...</td>\n",
       "      <td>https://www.biobiochile.cl/noticias/nacional/r...</td>\n",
       "      <td>Detienen a dos adolescentes por robo de especi...</td>\n",
       "      <td>53.877.607</td>\n",
       "      <td>Dos adolescente de 15 y 16 año este último con...</td>\n",
       "      <td>ciencia</td>\n",
       "      <td>robo con violencia,</td>\n",
       "      <td>calle Lynch a la altura del Destacamento Tuca...</td>\n",
       "      <td>NaN</td>\n",
       "      <td>NaN</td>\n",
       "    </tr>\n",
       "    <tr>\n",
       "      <th>8398</th>\n",
       "      <td>2024-08-18</td>\n",
       "      <td>biobiochile</td>\n",
       "      <td>Según el pronóstico del tiempo, se esperan llu...</td>\n",
       "      <td>https://www.biobiochile.cl/noticias/servicios/...</td>\n",
       "      <td>Anuncian lluvias, granizos, vientos sobre 70 k...</td>\n",
       "      <td>53.560.642</td>\n",
       "      <td>Según el pronóstico del tiempo se esperan lluv...</td>\n",
       "      <td>medio_ambiente</td>\n",
       "      <td>tormentas eléctricas,</td>\n",
       "      <td>zona centro y sur,</td>\n",
       "      <td>NaN</td>\n",
       "      <td>NaN</td>\n",
       "    </tr>\n",
       "    <tr>\n",
       "      <th>...</th>\n",
       "      <td>...</td>\n",
       "      <td>...</td>\n",
       "      <td>...</td>\n",
       "      <td>...</td>\n",
       "      <td>...</td>\n",
       "      <td>...</td>\n",
       "      <td>...</td>\n",
       "      <td>...</td>\n",
       "      <td>...</td>\n",
       "      <td>...</td>\n",
       "      <td>...</td>\n",
       "      <td>...</td>\n",
       "    </tr>\n",
       "    <tr>\n",
       "      <th>13499</th>\n",
       "      <td>2024-08-10</td>\n",
       "      <td>elcomercio</td>\n",
       "      <td>/ ElucidarioProvee contexto, definición y deta...</td>\n",
       "      <td>https://elcomercio.pe/respuestas/que/la-respue...</td>\n",
       "      <td>La respuesta de Carlos Zambrano a las fuertes ...</td>\n",
       "      <td>53.406.006</td>\n",
       "      <td>ElucidarioProvee contexto definición y detalle...</td>\n",
       "      <td>deportes</td>\n",
       "      <td>Torneo Clausura 2024</td>\n",
       "      <td>estadio Alejandro Villanueva</td>\n",
       "      <td>-12.068504</td>\n",
       "      <td>-77.022927</td>\n",
       "    </tr>\n",
       "    <tr>\n",
       "      <th>16593</th>\n",
       "      <td>2024-08-06</td>\n",
       "      <td>biobiochile</td>\n",
       "      <td>A pesar de haber tenido un mayo muy lluvioso, ...</td>\n",
       "      <td>https://www.biobiochile.cl/noticias/servicios/...</td>\n",
       "      <td>¿Seguirán las lluvias? Así será el tiempo en a...</td>\n",
       "      <td>53.565.419</td>\n",
       "      <td>pesar de haber tenido un mayo muy lluvioso jul...</td>\n",
       "      <td>economia</td>\n",
       "      <td>vientos de hasta 125 km/h</td>\n",
       "      <td>región Metropolitana,</td>\n",
       "      <td>-33.573934</td>\n",
       "      <td>-70.620552</td>\n",
       "    </tr>\n",
       "    <tr>\n",
       "      <th>14156</th>\n",
       "      <td>2024-08-09</td>\n",
       "      <td>centralweb</td>\n",
       "      <td>En el mundo del Pop Indie y Pop Alternativo, M...</td>\n",
       "      <td>https://www.centralweb.cl/desde-argentina-mart...</td>\n",
       "      <td>Desde Argentina: Marte presenta «Caótico», su ...</td>\n",
       "      <td>53.558.450</td>\n",
       "      <td>En el mundo del Pop Indie y Pop Alternativo MA...</td>\n",
       "      <td>entretenimiento</td>\n",
       "      <td>Hoy, desde Madrid, celebra el lanzamiento</td>\n",
       "      <td>Madrid,</td>\n",
       "      <td>40.416705</td>\n",
       "      <td>-3.703582</td>\n",
       "    </tr>\n",
       "    <tr>\n",
       "      <th>2141</th>\n",
       "      <td>2024-08-27</td>\n",
       "      <td>ciperchile</td>\n",
       "      <td>Hoy nuestra principal fuente de financiamiento...</td>\n",
       "      <td>https://www.ciperchile.cl/2024/08/28/japon-mar...</td>\n",
       "      <td>Japón marca un nuevo precedente en la preparac...</td>\n",
       "      <td>53.554.604</td>\n",
       "      <td>Hoy nuestra principal fuente de financiamiento...</td>\n",
       "      <td>ciencia</td>\n",
       "      <td>megaterremoto</td>\n",
       "      <td>Tohoku Oki</td>\n",
       "      <td>NaN</td>\n",
       "      <td>NaN</td>\n",
       "    </tr>\n",
       "    <tr>\n",
       "      <th>14461</th>\n",
       "      <td>2024-08-08</td>\n",
       "      <td>elcomercio</td>\n",
       "      <td>/ NoticiasInformación basada en hechos y verif...</td>\n",
       "      <td>https://elcomercio.pe/deporte-total/futbol-per...</td>\n",
       "      <td>Liga 1: suspenden el FBC Melgar vs. Comerciant...</td>\n",
       "      <td>53.408.411</td>\n",
       "      <td>NoticiasInformación basada en hechos y verific...</td>\n",
       "      <td>deportes</td>\n",
       "      <td>aniversario de Arequipa.</td>\n",
       "      <td>Arequipa,</td>\n",
       "      <td>-16.398867</td>\n",
       "      <td>-71.536961</td>\n",
       "    </tr>\n",
       "  </tbody>\n",
       "</table>\n",
       "<p>500 rows × 12 columns</p>\n",
       "</div>"
      ],
      "text/plain": [
       "             date media_outlet  \\\n",
       "10404  2024-08-15  biobiochile   \n",
       "20026  2024-08-01     lanacion   \n",
       "2043   2024-08-27    latercera   \n",
       "11508  2024-08-13  biobiochile   \n",
       "8398   2024-08-18  biobiochile   \n",
       "...           ...          ...   \n",
       "13499  2024-08-10   elcomercio   \n",
       "16593  2024-08-06  biobiochile   \n",
       "14156  2024-08-09   centralweb   \n",
       "2141   2024-08-27   ciperchile   \n",
       "14461  2024-08-08   elcomercio   \n",
       "\n",
       "                                                    text  \\\n",
       "10404  Los reconocidos guitarristas Horacio Salinas y...   \n",
       "20026   El Gobierno suspendió las clases en todos los...   \n",
       "2043   El delegado de la Región Metropolitana, Gonzal...   \n",
       "11508  Dos adolescentes de 15 y 16 años, este último ...   \n",
       "8398   Según el pronóstico del tiempo, se esperan llu...   \n",
       "...                                                  ...   \n",
       "13499  / ElucidarioProvee contexto, definición y deta...   \n",
       "16593  A pesar de haber tenido un mayo muy lluvioso, ...   \n",
       "14156  En el mundo del Pop Indie y Pop Alternativo, M...   \n",
       "2141   Hoy nuestra principal fuente de financiamiento...   \n",
       "14461  / NoticiasInformación basada en hechos y verif...   \n",
       "\n",
       "                                                     url  \\\n",
       "10404  https://www.biobiochile.cl/noticias/artes-y-cu...   \n",
       "20026  https://www.lanacion.cl/suspenden-clases-en-la...   \n",
       "2043   https://www.latercera.com/nacional/noticia/se-...   \n",
       "11508  https://www.biobiochile.cl/noticias/nacional/r...   \n",
       "8398   https://www.biobiochile.cl/noticias/servicios/...   \n",
       "...                                                  ...   \n",
       "13499  https://elcomercio.pe/respuestas/que/la-respue...   \n",
       "16593  https://www.biobiochile.cl/noticias/servicios/...   \n",
       "14156  https://www.centralweb.cl/desde-argentina-mart...   \n",
       "2141   https://www.ciperchile.cl/2024/08/28/japon-mar...   \n",
       "14461  https://elcomercio.pe/deporte-total/futbol-per...   \n",
       "\n",
       "                                                   title     id_news  \\\n",
       "10404  Horacio Salinas y Romilio Orellana unen sus tr...  53.878.712   \n",
       "20026  Suspenden clases en la RM y otras nueve region...  53.412.225   \n",
       "2043   ¿Se cierra o no se cierra el Teatro Caupolicán...  53.558.369   \n",
       "11508  Detienen a dos adolescentes por robo de especi...  53.877.607   \n",
       "8398   Anuncian lluvias, granizos, vientos sobre 70 k...  53.560.642   \n",
       "...                                                  ...         ...   \n",
       "13499  La respuesta de Carlos Zambrano a las fuertes ...  53.406.006   \n",
       "16593  ¿Seguirán las lluvias? Así será el tiempo en a...  53.565.419   \n",
       "14156  Desde Argentina: Marte presenta «Caótico», su ...  53.558.450   \n",
       "2141   Japón marca un nuevo precedente en la preparac...  53.554.604   \n",
       "14461  Liga 1: suspenden el FBC Melgar vs. Comerciant...  53.408.411   \n",
       "\n",
       "                                           tokenizacions         category  \\\n",
       "10404  Los reconocido guitarrista Horacio Salinas y R...  entretenimiento   \n",
       "20026  El Gobierno suspendió las clase en todo los es...        educacion   \n",
       "2043   El delegado de la Región Metropolitana Gonzalo...  entretenimiento   \n",
       "11508  Dos adolescente de 15 y 16 año este último con...          ciencia   \n",
       "8398   Según el pronóstico del tiempo se esperan lluv...   medio_ambiente   \n",
       "...                                                  ...              ...   \n",
       "13499  ElucidarioProvee contexto definición y detalle...         deportes   \n",
       "16593  pesar de haber tenido un mayo muy lluvioso jul...         economia   \n",
       "14156  En el mundo del Pop Indie y Pop Alternativo MA...  entretenimiento   \n",
       "2141   Hoy nuestra principal fuente de financiamiento...          ciencia   \n",
       "14461  NoticiasInformación basada en hechos y verific...         deportes   \n",
       "\n",
       "                                            event  \\\n",
       "10404                         un concierto único.   \n",
       "20026   estragos causados por el sistema frontal.   \n",
       "2043                                   concierto,   \n",
       "11508                         robo con violencia,   \n",
       "8398                        tormentas eléctricas,   \n",
       "...                                           ...   \n",
       "13499                        Torneo Clausura 2024   \n",
       "16593                   vientos de hasta 125 km/h   \n",
       "14156   Hoy, desde Madrid, celebra el lanzamiento   \n",
       "2141                                megaterremoto   \n",
       "14461                    aniversario de Arequipa.   \n",
       "\n",
       "                                                 address    latitud   longitud  \n",
       "10404                              Sala SCD Plaza Egaña.        NaN        NaN  \n",
       "20026                                 Región de Coquimbo -30.754665 -70.900554  \n",
       "2043                                  Teatro Caupolicán, -33.456217 -70.649239  \n",
       "11508   calle Lynch a la altura del Destacamento Tuca...        NaN        NaN  \n",
       "8398                                  zona centro y sur,        NaN        NaN  \n",
       "...                                                  ...        ...        ...  \n",
       "13499                       estadio Alejandro Villanueva -12.068504 -77.022927  \n",
       "16593                              región Metropolitana, -33.573934 -70.620552  \n",
       "14156                                            Madrid,  40.416705  -3.703582  \n",
       "2141                                          Tohoku Oki        NaN        NaN  \n",
       "14461                                          Arequipa, -16.398867 -71.536961  \n",
       "\n",
       "[500 rows x 12 columns]"
      ]
     },
     "metadata": {},
     "output_type": "display_data"
    }
   ],
   "source": [
    "display(df_filtered)"
   ]
  },
  {
   "cell_type": "code",
   "execution_count": 13,
   "metadata": {},
   "outputs": [
    {
     "name": "stderr",
     "output_type": "stream",
     "text": [
      "Geocodificando direcciones:   0%|          | 2/500 [00:00<03:45,  2.20it/s]"
     ]
    },
    {
     "name": "stdout",
     "output_type": "stream",
     "text": [
      "No se encontró ubicación para Sala SCD Plaza Egaña.\n"
     ]
    },
    {
     "name": "stderr",
     "output_type": "stream",
     "text": [
      "Geocodificando direcciones:   1%|          | 3/500 [00:01<03:43,  2.23it/s]"
     ]
    },
    {
     "name": "stdout",
     "output_type": "stream",
     "text": [
      "Geocodificación exitosa para Región de Coquimbo: (-30.7546652, -70.9005536)\n"
     ]
    },
    {
     "name": "stderr",
     "output_type": "stream",
     "text": [
      "Geocodificando direcciones:   1%|          | 4/500 [00:01<03:50,  2.15it/s]"
     ]
    },
    {
     "name": "stdout",
     "output_type": "stream",
     "text": [
      "Geocodificación exitosa para Teatro Caupolicán: (-33.4562166, -70.64923855)\n"
     ]
    },
    {
     "name": "stderr",
     "output_type": "stream",
     "text": [
      "Geocodificando direcciones:   1%|          | 5/500 [00:02<04:48,  1.71it/s]"
     ]
    },
    {
     "name": "stdout",
     "output_type": "stream",
     "text": [
      "No se encontró ubicación para calle Lynch a la altura del Destacamento Tucapel.\n"
     ]
    },
    {
     "name": "stderr",
     "output_type": "stream",
     "text": [
      "Geocodificando direcciones:   1%|          | 6/500 [00:02<04:05,  2.02it/s]"
     ]
    },
    {
     "name": "stdout",
     "output_type": "stream",
     "text": [
      "No se encontró ubicación para zona centro y sur.\n"
     ]
    },
    {
     "name": "stderr",
     "output_type": "stream",
     "text": [
      "Geocodificando direcciones:   1%|▏         | 7/500 [00:03<04:09,  1.98it/s]"
     ]
    },
    {
     "name": "stdout",
     "output_type": "stream",
     "text": [
      "Geocodificación exitosa para calle Albany: (28.6920453, -106.1516518)\n"
     ]
    },
    {
     "name": "stderr",
     "output_type": "stream",
     "text": [
      "Geocodificando direcciones:   2%|▏         | 8/500 [00:03<03:54,  2.10it/s]"
     ]
    },
    {
     "name": "stdout",
     "output_type": "stream",
     "text": [
      "Geocodificación exitosa para miércoles: (-0.307869, -78.3989089)\n"
     ]
    },
    {
     "name": "stderr",
     "output_type": "stream",
     "text": [
      "Geocodificando direcciones:   2%|▏         | 9/500 [00:04<04:07,  1.98it/s]"
     ]
    },
    {
     "name": "stdout",
     "output_type": "stream",
     "text": [
      "Geocodificación exitosa para Sótero del Río: (-33.437987, -70.7205772)\n"
     ]
    },
    {
     "name": "stderr",
     "output_type": "stream",
     "text": [
      "Geocodificando direcciones:   2%|▏         | 10/500 [00:04<03:57,  2.06it/s]"
     ]
    },
    {
     "name": "stdout",
     "output_type": "stream",
     "text": [
      "Geocodificación exitosa para La Araucanía: (-40.9071314, -73.157326)\n"
     ]
    },
    {
     "name": "stderr",
     "output_type": "stream",
     "text": [
      "Geocodificando direcciones:   2%|▏         | 11/500 [00:05<04:11,  1.94it/s]"
     ]
    },
    {
     "name": "stdout",
     "output_type": "stream",
     "text": [
      "Geocodificación exitosa para Eurocentro: (-33.442100100000005, -70.65030385455051)\n"
     ]
    },
    {
     "name": "stderr",
     "output_type": "stream",
     "text": [
      "Geocodificando direcciones:   2%|▏         | 12/500 [00:05<03:58,  2.05it/s]"
     ]
    },
    {
     "name": "stdout",
     "output_type": "stream",
     "text": [
      "Geocodificación exitosa para Guangualí Región de Coquimbo: (-32.1334175, -71.3738573)\n"
     ]
    },
    {
     "name": "stderr",
     "output_type": "stream",
     "text": [
      "Geocodificando direcciones:   3%|▎         | 13/500 [00:06<03:59,  2.03it/s]"
     ]
    },
    {
     "name": "stdout",
     "output_type": "stream",
     "text": [
      "Geocodificación exitosa para España: (39.3260685, -4.8379791)\n"
     ]
    },
    {
     "name": "stderr",
     "output_type": "stream",
     "text": [
      "Geocodificando direcciones:   3%|▎         | 14/500 [00:07<04:16,  1.90it/s]"
     ]
    },
    {
     "name": "stdout",
     "output_type": "stream",
     "text": [
      "No se encontró ubicación para seminario sobre delincuencia organizado por Clapes UC.\n"
     ]
    },
    {
     "name": "stderr",
     "output_type": "stream",
     "text": [
      "Geocodificando direcciones:   3%|▎         | 15/500 [00:07<04:07,  1.96it/s]"
     ]
    },
    {
     "name": "stdout",
     "output_type": "stream",
     "text": [
      "Geocodificación exitosa para París 2024: (-34.73311773469388, -58.44644124489796)\n"
     ]
    },
    {
     "name": "stderr",
     "output_type": "stream",
     "text": [
      "Geocodificando direcciones:   3%|▎         | 16/500 [00:07<03:51,  2.09it/s]"
     ]
    },
    {
     "name": "stdout",
     "output_type": "stream",
     "text": [
      "Geocodificación exitosa para Gran Arena Monticello: (-33.9220276, -70.7212841)\n"
     ]
    },
    {
     "name": "stderr",
     "output_type": "stream",
     "text": [
      "Geocodificando direcciones:   3%|▎         | 17/500 [00:08<03:57,  2.03it/s]"
     ]
    },
    {
     "name": "stdout",
     "output_type": "stream",
     "text": [
      "Geocodificación exitosa para la capital: (25.672851549999997, -100.29938002483908)\n"
     ]
    },
    {
     "name": "stderr",
     "output_type": "stream",
     "text": [
      "Geocodificando direcciones:   4%|▎         | 18/500 [00:09<04:59,  1.61it/s]"
     ]
    },
    {
     "name": "stdout",
     "output_type": "stream",
     "text": [
      "No se encontró ubicación para Complejo Deportivo de la Compañía Minera del Pacífico.\n"
     ]
    },
    {
     "name": "stderr",
     "output_type": "stream",
     "text": [
      "Geocodificando direcciones:   4%|▍         | 19/500 [00:09<04:17,  1.87it/s]"
     ]
    },
    {
     "name": "stdout",
     "output_type": "stream",
     "text": [
      "Geocodificación exitosa para Viena Austria: (48.2083537, 16.3725042)\n"
     ]
    },
    {
     "name": "stderr",
     "output_type": "stream",
     "text": [
      "Geocodificando direcciones:   4%|▍         | 20/500 [00:10<04:29,  1.78it/s]"
     ]
    },
    {
     "name": "stdout",
     "output_type": "stream",
     "text": [
      "Geocodificación exitosa para Clínica Elqui: (-29.9090406, -71.245236)\n"
     ]
    },
    {
     "name": "stderr",
     "output_type": "stream",
     "text": [
      "Geocodificando direcciones:   4%|▍         | 21/500 [00:10<04:28,  1.78it/s]"
     ]
    },
    {
     "name": "stdout",
     "output_type": "stream",
     "text": [
      "No se encontró ubicación para la calle Santo Domingo 978 Santiago Centro.\n"
     ]
    },
    {
     "name": "stderr",
     "output_type": "stream",
     "text": [
      "Geocodificando direcciones:   4%|▍         | 22/500 [00:11<03:47,  2.10it/s]"
     ]
    },
    {
     "name": "stdout",
     "output_type": "stream",
     "text": [
      "No se encontró ubicación para Tohoku Oki.\n"
     ]
    },
    {
     "name": "stderr",
     "output_type": "stream",
     "text": [
      "Geocodificando direcciones:   5%|▍         | 23/500 [00:11<03:54,  2.03it/s]"
     ]
    },
    {
     "name": "stdout",
     "output_type": "stream",
     "text": [
      "Geocodificación exitosa para Minnesota Vikings: (44.857367, -93.1179309)\n"
     ]
    },
    {
     "name": "stderr",
     "output_type": "stream",
     "text": [
      "Geocodificando direcciones:   5%|▍         | 24/500 [00:12<04:14,  1.87it/s]"
     ]
    },
    {
     "name": "stdout",
     "output_type": "stream",
     "text": [
      "No se encontró ubicación para en medio de una disputa electoral en ese país.\n"
     ]
    },
    {
     "name": "stderr",
     "output_type": "stream",
     "text": [
      "Geocodificando direcciones:   5%|▌         | 25/500 [00:14<07:33,  1.05it/s]"
     ]
    },
    {
     "name": "stdout",
     "output_type": "stream",
     "text": [
      "No se encontró ubicación para Banco Santander ubicado en la avenida Vicuña Mackenna.\n"
     ]
    },
    {
     "name": "stderr",
     "output_type": "stream",
     "text": [
      "Geocodificando direcciones:   5%|▌         | 26/500 [00:14<06:29,  1.22it/s]"
     ]
    },
    {
     "name": "stdout",
     "output_type": "stream",
     "text": [
      "Geocodificación exitosa para Aeropuerto: (7.9333076, -72.51223026914192)\n"
     ]
    },
    {
     "name": "stderr",
     "output_type": "stream",
     "text": [
      "Geocodificando direcciones:   5%|▌         | 27/500 [00:15<05:23,  1.46it/s]"
     ]
    },
    {
     "name": "stdout",
     "output_type": "stream",
     "text": [
      "Geocodificación exitosa para centro de Santiago: (7.8644479, -72.7165562)\n"
     ]
    },
    {
     "name": "stderr",
     "output_type": "stream",
     "text": [
      "Geocodificando direcciones:   6%|▌         | 28/500 [00:15<05:27,  1.44it/s]"
     ]
    },
    {
     "name": "stdout",
     "output_type": "stream",
     "text": [
      "No se encontró ubicación para Encuesta Suplementaria de Ingresos (ESI) 2023.\n"
     ]
    },
    {
     "name": "stderr",
     "output_type": "stream",
     "text": [
      "Geocodificando direcciones:   6%|▌         | 29/500 [00:16<05:26,  1.44it/s]"
     ]
    },
    {
     "name": "stdout",
     "output_type": "stream",
     "text": [
      "No se encontró ubicación para en el laboratorio de IA.\n"
     ]
    },
    {
     "name": "stderr",
     "output_type": "stream",
     "text": [
      "Geocodificando direcciones:   6%|▌         | 30/500 [00:16<04:31,  1.73it/s]"
     ]
    },
    {
     "name": "stdout",
     "output_type": "stream",
     "text": [
      "Geocodificación exitosa para Venezuela: (8.0018709, -66.1109318)\n"
     ]
    },
    {
     "name": "stderr",
     "output_type": "stream",
     "text": [
      "Geocodificando direcciones:   6%|▌         | 31/500 [00:17<04:41,  1.66it/s]"
     ]
    },
    {
     "name": "stdout",
     "output_type": "stream",
     "text": [
      "No se encontró ubicación para la comisión de Hacienda de la Cámara de Diputados.\n"
     ]
    },
    {
     "name": "stderr",
     "output_type": "stream",
     "text": [
      "Geocodificando direcciones:   6%|▋         | 32/500 [00:17<04:08,  1.89it/s]"
     ]
    },
    {
     "name": "stdout",
     "output_type": "stream",
     "text": [
      "Geocodificación exitosa para Puente Alto Región Metropolitana: (-33.6095279, -70.5754736)\n"
     ]
    },
    {
     "name": "stderr",
     "output_type": "stream",
     "text": [
      "Geocodificando direcciones:   7%|▋         | 33/500 [00:18<03:53,  2.00it/s]"
     ]
    },
    {
     "name": "stdout",
     "output_type": "stream",
     "text": [
      "Geocodificación exitosa para Buenos Aires Argentina: (45.4838459, 9.2147675)\n"
     ]
    },
    {
     "name": "stderr",
     "output_type": "stream",
     "text": [
      "Geocodificando direcciones:   7%|▋         | 34/500 [00:18<03:53,  2.00it/s]"
     ]
    },
    {
     "name": "stdout",
     "output_type": "stream",
     "text": [
      "Geocodificación exitosa para EEUU: (38.8927368, -77.02292005112255)\n"
     ]
    },
    {
     "name": "stderr",
     "output_type": "stream",
     "text": [
      "Geocodificando direcciones:   7%|▋         | 35/500 [00:19<04:11,  1.85it/s]"
     ]
    },
    {
     "name": "stdout",
     "output_type": "stream",
     "text": [
      "Geocodificación exitosa para Venezuela: (8.0018709, -66.1109318)\n"
     ]
    },
    {
     "name": "stderr",
     "output_type": "stream",
     "text": [
      "Geocodificando direcciones:   7%|▋         | 36/500 [00:20<05:08,  1.50it/s]"
     ]
    },
    {
     "name": "stdout",
     "output_type": "stream",
     "text": [
      "Geocodificación exitosa para Peacock Theatre de Los Ángeles: (34.0445026, -118.26707163660464)\n"
     ]
    },
    {
     "name": "stderr",
     "output_type": "stream",
     "text": [
      "Geocodificando direcciones:   7%|▋         | 37/500 [00:20<04:11,  1.84it/s]"
     ]
    },
    {
     "name": "stdout",
     "output_type": "stream",
     "text": [
      "Geocodificación exitosa para Clínica Las Condes: (-33.3846367, -70.5307602816784)\n"
     ]
    },
    {
     "name": "stderr",
     "output_type": "stream",
     "text": [
      "Geocodificando direcciones:   8%|▊         | 38/500 [00:21<04:09,  1.85it/s]"
     ]
    },
    {
     "name": "stdout",
     "output_type": "stream",
     "text": [
      "Geocodificación exitosa para Castro: (34.4952536, -102.2592314)\n"
     ]
    },
    {
     "name": "stderr",
     "output_type": "stream",
     "text": [
      "Geocodificando direcciones:   8%|▊         | 39/500 [00:21<03:55,  1.95it/s]"
     ]
    },
    {
     "name": "stdout",
     "output_type": "stream",
     "text": [
      "No se encontró ubicación para Supercopa de Inglaterra.\n"
     ]
    },
    {
     "name": "stderr",
     "output_type": "stream",
     "text": [
      "Geocodificando direcciones:   8%|▊         | 40/500 [00:22<04:25,  1.73it/s]"
     ]
    },
    {
     "name": "stdout",
     "output_type": "stream",
     "text": [
      "No se encontró ubicación para Cuarto Juzgado de Garantía de Santiago.\n"
     ]
    },
    {
     "name": "stderr",
     "output_type": "stream",
     "text": [
      "Geocodificando direcciones:   8%|▊         | 41/500 [00:22<03:44,  2.05it/s]"
     ]
    },
    {
     "name": "stdout",
     "output_type": "stream",
     "text": [
      "Geocodificación exitosa para Lesoto: (-29.6039267, 28.3350193)\n"
     ]
    },
    {
     "name": "stderr",
     "output_type": "stream",
     "text": [
      "Geocodificando direcciones:   8%|▊         | 42/500 [00:23<04:25,  1.73it/s]"
     ]
    },
    {
     "name": "stdout",
     "output_type": "stream",
     "text": [
      "Geocodificación exitosa para Municipalidad de La Florida: (-33.51748775, -70.59374713516362)\n"
     ]
    },
    {
     "name": "stderr",
     "output_type": "stream",
     "text": [
      "Geocodificando direcciones:   9%|▊         | 43/500 [00:23<03:47,  2.01it/s]"
     ]
    },
    {
     "name": "stdout",
     "output_type": "stream",
     "text": [
      "Geocodificación exitosa para Chile: (-31.7613365, -71.3187697)\n"
     ]
    },
    {
     "name": "stderr",
     "output_type": "stream",
     "text": [
      "Geocodificando direcciones:   9%|▉         | 44/500 [00:24<03:44,  2.03it/s]"
     ]
    },
    {
     "name": "stdout",
     "output_type": "stream",
     "text": [
      "Geocodificación exitosa para Eurocentro: (-33.442100100000005, -70.65030385455051)\n"
     ]
    },
    {
     "name": "stderr",
     "output_type": "stream",
     "text": [
      "Geocodificando direcciones:   9%|▉         | 45/500 [00:24<03:51,  1.96it/s]"
     ]
    },
    {
     "name": "stdout",
     "output_type": "stream",
     "text": [
      "Geocodificación exitosa para Chile: (-31.7613365, -71.3187697)\n"
     ]
    },
    {
     "name": "stderr",
     "output_type": "stream",
     "text": [
      "Geocodificando direcciones:   9%|▉         | 46/500 [00:25<04:37,  1.63it/s]"
     ]
    },
    {
     "name": "stdout",
     "output_type": "stream",
     "text": [
      "No se encontró ubicación para a un costado de la calle Padre Hurtado.\n"
     ]
    },
    {
     "name": "stderr",
     "output_type": "stream",
     "text": [
      "Geocodificando direcciones:   9%|▉         | 47/500 [00:26<04:14,  1.78it/s]"
     ]
    },
    {
     "name": "stdout",
     "output_type": "stream",
     "text": [
      "Geocodificación exitosa para Júpiter: (26.9342246, -80.0942087)\n"
     ]
    },
    {
     "name": "stderr",
     "output_type": "stream",
     "text": [
      "Geocodificando direcciones:  10%|▉         | 48/500 [00:26<03:45,  2.00it/s]"
     ]
    },
    {
     "name": "stdout",
     "output_type": "stream",
     "text": [
      "Geocodificación exitosa para Venezuela: (8.0018709, -66.1109318)\n"
     ]
    },
    {
     "name": "stderr",
     "output_type": "stream",
     "text": [
      "Geocodificando direcciones:  10%|▉         | 49/500 [00:26<03:51,  1.95it/s]"
     ]
    },
    {
     "name": "stdout",
     "output_type": "stream",
     "text": [
      "No se encontró ubicación para Estación Espacial Internacional.\n"
     ]
    },
    {
     "name": "stderr",
     "output_type": "stream",
     "text": [
      "Geocodificando direcciones:  10%|█         | 50/500 [00:27<03:46,  1.99it/s]"
     ]
    },
    {
     "name": "stdout",
     "output_type": "stream",
     "text": [
      "No se encontró ubicación para capitán Yáber.\n"
     ]
    },
    {
     "name": "stderr",
     "output_type": "stream",
     "text": [
      "Geocodificando direcciones:  10%|█         | 51/500 [00:27<03:37,  2.06it/s]"
     ]
    },
    {
     "name": "stdout",
     "output_type": "stream",
     "text": [
      "Geocodificación exitosa para Centro de Detención Preventiva Santiago 1: (-33.475696600000006, -70.6582797453631)\n"
     ]
    },
    {
     "name": "stderr",
     "output_type": "stream",
     "text": [
      "Geocodificando direcciones:  10%|█         | 52/500 [00:28<03:39,  2.04it/s]"
     ]
    },
    {
     "name": "stdout",
     "output_type": "stream",
     "text": [
      "Geocodificación exitosa para El Alto): (-16.5048228, -68.1624337)\n"
     ]
    },
    {
     "name": "stderr",
     "output_type": "stream",
     "text": [
      "Geocodificando direcciones:  11%|█         | 53/500 [00:29<04:06,  1.81it/s]"
     ]
    },
    {
     "name": "stdout",
     "output_type": "stream",
     "text": [
      "No se encontró ubicación para Cuarto Juzgado de Garantía de Santiago.\n"
     ]
    },
    {
     "name": "stderr",
     "output_type": "stream",
     "text": [
      "Geocodificando direcciones:  11%|█         | 54/500 [00:29<03:46,  1.97it/s]"
     ]
    },
    {
     "name": "stdout",
     "output_type": "stream",
     "text": [
      "No se encontró ubicación para Tesorería General de la República (TGR).\n"
     ]
    },
    {
     "name": "stderr",
     "output_type": "stream",
     "text": [
      "Geocodificando direcciones:  11%|█         | 55/500 [00:29<03:46,  1.96it/s]"
     ]
    },
    {
     "name": "stdout",
     "output_type": "stream",
     "text": [
      "Geocodificación exitosa para Valparaíso: (-33.0458456, -71.6196749)\n"
     ]
    },
    {
     "name": "stderr",
     "output_type": "stream",
     "text": [
      "Geocodificando direcciones:  11%|█         | 56/500 [00:30<03:49,  1.94it/s]"
     ]
    },
    {
     "name": "stdout",
     "output_type": "stream",
     "text": [
      "No se encontró ubicación para cuatro hospitales del país.\n"
     ]
    },
    {
     "name": "stderr",
     "output_type": "stream",
     "text": [
      "Geocodificando direcciones:  11%|█▏        | 57/500 [00:31<03:45,  1.96it/s]"
     ]
    },
    {
     "name": "stdout",
     "output_type": "stream",
     "text": [
      "No se encontró ubicación para la Sala del Senado.\n"
     ]
    },
    {
     "name": "stderr",
     "output_type": "stream",
     "text": [
      "Geocodificando direcciones:  12%|█▏        | 58/500 [00:31<03:29,  2.10it/s]"
     ]
    },
    {
     "name": "stdout",
     "output_type": "stream",
     "text": [
      "Geocodificación exitosa para Tarapacá: (-20.1636672, -69.5463448)\n"
     ]
    },
    {
     "name": "stderr",
     "output_type": "stream",
     "text": [
      "Geocodificando direcciones:  12%|█▏        | 59/500 [00:31<03:31,  2.08it/s]"
     ]
    },
    {
     "name": "stdout",
     "output_type": "stream",
     "text": [
      "Geocodificación exitosa para La Tercera: (-36.0372457, -71.6292205)\n"
     ]
    },
    {
     "name": "stderr",
     "output_type": "stream",
     "text": [
      "Geocodificando direcciones:  12%|█▏        | 60/500 [00:32<03:31,  2.08it/s]"
     ]
    },
    {
     "name": "stdout",
     "output_type": "stream",
     "text": [
      "Geocodificación exitosa para Santiago: (-33.4377756, -70.6504502)\n"
     ]
    },
    {
     "name": "stderr",
     "output_type": "stream",
     "text": [
      "Geocodificando direcciones:  12%|█▏        | 61/500 [00:33<04:27,  1.64it/s]"
     ]
    },
    {
     "name": "stdout",
     "output_type": "stream",
     "text": [
      "No se encontró ubicación para la intersección de Coquimbo con Avenida Santa Rosa.\n"
     ]
    },
    {
     "name": "stderr",
     "output_type": "stream",
     "text": [
      "Geocodificando direcciones:  12%|█▏        | 62/500 [00:33<03:42,  1.97it/s]"
     ]
    },
    {
     "name": "stdout",
     "output_type": "stream",
     "text": [
      "Geocodificación exitosa para Instagram: (22.2890784, 114.1346515)\n"
     ]
    },
    {
     "name": "stderr",
     "output_type": "stream",
     "text": [
      "Geocodificando direcciones:  13%|█▎        | 63/500 [00:34<03:41,  1.98it/s]"
     ]
    },
    {
     "name": "stdout",
     "output_type": "stream",
     "text": [
      "Geocodificación exitosa para Estadio Nacional: (-12.0673803, -77.03378302724295)\n"
     ]
    },
    {
     "name": "stderr",
     "output_type": "stream",
     "text": [
      "Geocodificando direcciones:  13%|█▎        | 64/500 [00:34<03:50,  1.89it/s]"
     ]
    },
    {
     "name": "stdout",
     "output_type": "stream",
     "text": [
      "Geocodificación exitosa para avenida Los Carrera de Concepción: (-36.8147233, -73.0311125)\n"
     ]
    },
    {
     "name": "stderr",
     "output_type": "stream",
     "text": [
      "Geocodificando direcciones:  13%|█▎        | 65/500 [00:35<03:38,  1.99it/s]"
     ]
    },
    {
     "name": "stdout",
     "output_type": "stream",
     "text": [
      "Geocodificación exitosa para Chile: (-31.7613365, -71.3187697)\n"
     ]
    },
    {
     "name": "stderr",
     "output_type": "stream",
     "text": [
      "Geocodificando direcciones:  13%|█▎        | 66/500 [00:35<03:34,  2.02it/s]"
     ]
    },
    {
     "name": "stdout",
     "output_type": "stream",
     "text": [
      "Geocodificación exitosa para Corte de Apelaciones de Santiago: (-33.4391844, -70.6525968)\n"
     ]
    },
    {
     "name": "stderr",
     "output_type": "stream",
     "text": [
      "Geocodificando direcciones:  13%|█▎        | 67/500 [00:36<03:52,  1.86it/s]"
     ]
    },
    {
     "name": "stdout",
     "output_type": "stream",
     "text": [
      "Geocodificación exitosa para Maipú: (-33.5094409, -70.756182)\n"
     ]
    },
    {
     "name": "stderr",
     "output_type": "stream",
     "text": [
      "Geocodificando direcciones:  14%|█▎        | 68/500 [00:36<04:03,  1.77it/s]"
     ]
    },
    {
     "name": "stdout",
     "output_type": "stream",
     "text": [
      "No se encontró ubicación para Houston La Haya y el Reino Unido.\n"
     ]
    },
    {
     "name": "stderr",
     "output_type": "stream",
     "text": [
      "Geocodificando direcciones:  14%|█▍        | 69/500 [00:37<03:27,  2.08it/s]"
     ]
    },
    {
     "name": "stdout",
     "output_type": "stream",
     "text": [
      "Geocodificación exitosa para Universidad de Concepción: (-36.83101365, -73.03468092794185)\n"
     ]
    },
    {
     "name": "stderr",
     "output_type": "stream",
     "text": [
      "Geocodificando direcciones:  14%|█▍        | 70/500 [00:41<11:06,  1.55s/it]"
     ]
    },
    {
     "name": "stdout",
     "output_type": "stream",
     "text": [
      "Error al geocodificar 1 de septiembre de 2022: HTTPSConnectionPool(host='nominatim.openstreetmap.org', port=443): Max retries exceeded with url: /search?q=1+de+septiembre+de+2022&format=json&limit=1 (Caused by ReadTimeoutError(\"HTTPSConnectionPool(host='nominatim.openstreetmap.org', port=443): Read timed out. (read timeout=1)\"))\n"
     ]
    },
    {
     "name": "stderr",
     "output_type": "stream",
     "text": [
      "Geocodificando direcciones:  14%|█▍        | 71/500 [00:42<09:53,  1.38s/it]"
     ]
    },
    {
     "name": "stdout",
     "output_type": "stream",
     "text": [
      "Geocodificación exitosa para Región Metropolitana: (-33.5739341, -70.6205518)\n"
     ]
    },
    {
     "name": "stderr",
     "output_type": "stream",
     "text": [
      "Geocodificando direcciones:  14%|█▍        | 72/500 [00:42<07:56,  1.11s/it]"
     ]
    },
    {
     "name": "stdout",
     "output_type": "stream",
     "text": [
      "Geocodificación exitosa para August 8 2024: (22.8234541, 104.9715034)\n"
     ]
    },
    {
     "name": "stderr",
     "output_type": "stream",
     "text": [
      "Geocodificando direcciones:  15%|█▍        | 73/500 [00:42<06:08,  1.16it/s]"
     ]
    },
    {
     "name": "stdout",
     "output_type": "stream",
     "text": [
      "Geocodificación exitosa para 2018: (40.7910441, 44.5221885)\n"
     ]
    },
    {
     "name": "stderr",
     "output_type": "stream",
     "text": [
      "Geocodificando direcciones:  15%|█▍        | 74/500 [00:43<05:37,  1.26it/s]"
     ]
    },
    {
     "name": "stdout",
     "output_type": "stream",
     "text": [
      "No se encontró ubicación para INACAP Sede La Serena.\n"
     ]
    },
    {
     "name": "stderr",
     "output_type": "stream",
     "text": [
      "Geocodificando direcciones:  15%|█▌        | 75/500 [00:43<04:46,  1.48it/s]"
     ]
    },
    {
     "name": "stdout",
     "output_type": "stream",
     "text": [
      "Geocodificación exitosa para Osorno: (42.4106725, -4.3609815)\n"
     ]
    },
    {
     "name": "stderr",
     "output_type": "stream",
     "text": [
      "Geocodificando direcciones:  15%|█▌        | 76/500 [00:44<04:32,  1.56it/s]"
     ]
    },
    {
     "name": "stdout",
     "output_type": "stream",
     "text": [
      "Geocodificación exitosa para Hospital San Borja: (-33.461166899999995, -70.64150497547294)\n"
     ]
    },
    {
     "name": "stderr",
     "output_type": "stream",
     "text": [
      "Geocodificando direcciones:  15%|█▌        | 77/500 [00:44<03:59,  1.77it/s]"
     ]
    },
    {
     "name": "stdout",
     "output_type": "stream",
     "text": [
      "No se encontró ubicación para biobiochilecl.\n"
     ]
    },
    {
     "name": "stderr",
     "output_type": "stream",
     "text": [
      "Geocodificando direcciones:  16%|█▌        | 78/500 [00:45<03:55,  1.79it/s]"
     ]
    },
    {
     "name": "stdout",
     "output_type": "stream",
     "text": [
      "Geocodificación exitosa para Estadio Nacional: (-12.0673803, -77.03378302724295)\n"
     ]
    },
    {
     "name": "stderr",
     "output_type": "stream",
     "text": [
      "Geocodificando direcciones:  16%|█▌        | 79/500 [00:46<04:23,  1.60it/s]"
     ]
    },
    {
     "name": "stdout",
     "output_type": "stream",
     "text": [
      "No se encontró ubicación para Ad portas de los comicios de octubre.\n"
     ]
    },
    {
     "name": "stderr",
     "output_type": "stream",
     "text": [
      "Geocodificando direcciones:  16%|█▌        | 80/500 [00:46<04:16,  1.64it/s]"
     ]
    },
    {
     "name": "stdout",
     "output_type": "stream",
     "text": [
      "No se encontró ubicación para zona centro sur de Chile.\n"
     ]
    },
    {
     "name": "stderr",
     "output_type": "stream",
     "text": [
      "Geocodificando direcciones:  16%|█▌        | 81/500 [00:47<04:37,  1.51it/s]"
     ]
    },
    {
     "name": "stdout",
     "output_type": "stream",
     "text": [
      "No se encontró ubicación para la salida sur de la comuna.\n"
     ]
    },
    {
     "name": "stderr",
     "output_type": "stream",
     "text": [
      "Geocodificando direcciones:  16%|█▋        | 82/500 [00:47<03:48,  1.83it/s]"
     ]
    },
    {
     "name": "stdout",
     "output_type": "stream",
     "text": [
      "Geocodificación exitosa para Santiago: (-33.4377756, -70.6504502)\n"
     ]
    },
    {
     "name": "stderr",
     "output_type": "stream",
     "text": [
      "Geocodificando direcciones:  17%|█▋        | 83/500 [00:48<04:12,  1.65it/s]"
     ]
    },
    {
     "name": "stdout",
     "output_type": "stream",
     "text": [
      "No se encontró ubicación para una escuela de San Antonio Temuco.\n"
     ]
    },
    {
     "name": "stderr",
     "output_type": "stream",
     "text": [
      "Geocodificando direcciones:  17%|█▋        | 84/500 [00:49<04:01,  1.73it/s]"
     ]
    },
    {
     "name": "stdout",
     "output_type": "stream",
     "text": [
      "No se encontró ubicación para una escuela de San Antonio Temuco.\n"
     ]
    },
    {
     "name": "stderr",
     "output_type": "stream",
     "text": [
      "Geocodificando direcciones:  17%|█▋        | 85/500 [00:49<03:17,  2.10it/s]"
     ]
    },
    {
     "name": "stdout",
     "output_type": "stream",
     "text": [
      "No se encontró ubicación para Elcomerciope.\n"
     ]
    },
    {
     "name": "stderr",
     "output_type": "stream",
     "text": [
      "Geocodificando direcciones:  17%|█▋        | 86/500 [00:50<03:43,  1.85it/s]"
     ]
    },
    {
     "name": "stdout",
     "output_type": "stream",
     "text": [
      "No se encontró ubicación para Salió de un teléfono de una causa por corrupción\".\n"
     ]
    },
    {
     "name": "stderr",
     "output_type": "stream",
     "text": [
      "Geocodificando direcciones:  17%|█▋        | 87/500 [00:50<03:18,  2.08it/s]"
     ]
    },
    {
     "name": "stdout",
     "output_type": "stream",
     "text": [
      "Geocodificación exitosa para hospital San Camilo: (-32.7491067, -70.70931032923687)\n"
     ]
    },
    {
     "name": "stderr",
     "output_type": "stream",
     "text": [
      "Geocodificando direcciones:  18%|█▊        | 88/500 [00:51<03:38,  1.89it/s]"
     ]
    },
    {
     "name": "stdout",
     "output_type": "stream",
     "text": [
      "No se encontró ubicación para sector alto de Castro.\n"
     ]
    },
    {
     "name": "stderr",
     "output_type": "stream",
     "text": [
      "Geocodificando direcciones:  18%|█▊        | 89/500 [00:51<03:50,  1.78it/s]"
     ]
    },
    {
     "name": "stdout",
     "output_type": "stream",
     "text": [
      "No se encontró ubicación para un lado del Sol al mismo tiempo.\n"
     ]
    },
    {
     "name": "stderr",
     "output_type": "stream",
     "text": [
      "Geocodificando direcciones:  18%|█▊        | 90/500 [00:51<03:17,  2.08it/s]"
     ]
    },
    {
     "name": "stdout",
     "output_type": "stream",
     "text": [
      "No se encontró ubicación para CNN Prime.\n"
     ]
    },
    {
     "name": "stderr",
     "output_type": "stream",
     "text": [
      "Geocodificando direcciones:  18%|█▊        | 91/500 [00:52<03:14,  2.10it/s]"
     ]
    },
    {
     "name": "stdout",
     "output_type": "stream",
     "text": [
      "Geocodificación exitosa para Valle del Elqui: (-30.0411614, -70.7152239)\n"
     ]
    },
    {
     "name": "stderr",
     "output_type": "stream",
     "text": [
      "Geocodificando direcciones:  18%|█▊        | 92/500 [00:53<03:40,  1.85it/s]"
     ]
    },
    {
     "name": "stdout",
     "output_type": "stream",
     "text": [
      "Geocodificación exitosa para Región Metropolitana: (-33.5739341, -70.6205518)\n"
     ]
    },
    {
     "name": "stderr",
     "output_type": "stream",
     "text": [
      "Geocodificando direcciones:  19%|█▊        | 93/500 [00:53<03:19,  2.04it/s]"
     ]
    },
    {
     "name": "stdout",
     "output_type": "stream",
     "text": [
      "Geocodificación exitosa para Providencia: (-33.4288379, -70.61133725589745)\n"
     ]
    },
    {
     "name": "stderr",
     "output_type": "stream",
     "text": [
      "Geocodificando direcciones:  19%|█▉        | 94/500 [00:53<03:11,  2.12it/s]"
     ]
    },
    {
     "name": "stdout",
     "output_type": "stream",
     "text": [
      "Geocodificación exitosa para “El Bejucal”: (17.3071231, -91.2499105)\n"
     ]
    },
    {
     "name": "stderr",
     "output_type": "stream",
     "text": [
      "Geocodificando direcciones:  19%|█▉        | 95/500 [00:54<03:17,  2.05it/s]"
     ]
    },
    {
     "name": "stdout",
     "output_type": "stream",
     "text": [
      "Geocodificación exitosa para Estados Unidos: (39.7837304, -100.445882)\n"
     ]
    },
    {
     "name": "stderr",
     "output_type": "stream",
     "text": [
      "Geocodificando direcciones:  19%|█▉        | 96/500 [00:54<03:21,  2.01it/s]"
     ]
    },
    {
     "name": "stdout",
     "output_type": "stream",
     "text": [
      "Geocodificación exitosa para Chile: (-31.7613365, -71.3187697)\n"
     ]
    },
    {
     "name": "stderr",
     "output_type": "stream",
     "text": [
      "Geocodificando direcciones:  19%|█▉        | 97/500 [00:55<03:16,  2.05it/s]"
     ]
    },
    {
     "name": "stdout",
     "output_type": "stream",
     "text": [
      "Geocodificación exitosa para Región de Atacama: (-27.5571783, -70.0156882)\n"
     ]
    },
    {
     "name": "stderr",
     "output_type": "stream",
     "text": [
      "Geocodificando direcciones:  20%|█▉        | 98/500 [00:56<03:45,  1.78it/s]"
     ]
    },
    {
     "name": "stdout",
     "output_type": "stream",
     "text": [
      "No se encontró ubicación para galería Contacto de Santiago.\n"
     ]
    },
    {
     "name": "stderr",
     "output_type": "stream",
     "text": [
      "Geocodificando direcciones:  20%|█▉        | 99/500 [00:56<03:09,  2.12it/s]"
     ]
    },
    {
     "name": "stdout",
     "output_type": "stream",
     "text": [
      "Geocodificación exitosa para Puente Alto: (-33.6095279, -70.5754736)\n"
     ]
    },
    {
     "name": "stderr",
     "output_type": "stream",
     "text": [
      "Geocodificando direcciones:  20%|██        | 100/500 [00:57<03:34,  1.87it/s]"
     ]
    },
    {
     "name": "stdout",
     "output_type": "stream",
     "text": [
      "Geocodificación exitosa para Los Ríos: (-1.4941273, -79.5542485)\n"
     ]
    },
    {
     "name": "stderr",
     "output_type": "stream",
     "text": [
      "Geocodificando direcciones:  20%|██        | 101/500 [00:57<03:10,  2.10it/s]"
     ]
    },
    {
     "name": "stdout",
     "output_type": "stream",
     "text": [
      "Geocodificación exitosa para Chile: (-31.7613365, -71.3187697)\n"
     ]
    },
    {
     "name": "stderr",
     "output_type": "stream",
     "text": [
      "Geocodificando direcciones:  20%|██        | 102/500 [00:57<03:10,  2.09it/s]"
     ]
    },
    {
     "name": "stdout",
     "output_type": "stream",
     "text": [
      "Geocodificación exitosa para Tarapacá: (-20.1636672, -69.5463448)\n"
     ]
    },
    {
     "name": "stderr",
     "output_type": "stream",
     "text": [
      "Geocodificando direcciones:  21%|██        | 103/500 [00:58<03:34,  1.85it/s]"
     ]
    },
    {
     "name": "stdout",
     "output_type": "stream",
     "text": [
      "No se encontró ubicación para tecnología de conexión inalámbrica de corto alcance.\n"
     ]
    },
    {
     "name": "stderr",
     "output_type": "stream",
     "text": [
      "Geocodificando direcciones:  21%|██        | 104/500 [00:59<03:19,  1.99it/s]"
     ]
    },
    {
     "name": "stdout",
     "output_type": "stream",
     "text": [
      "Geocodificación exitosa para París 2024: (-34.73311773469388, -58.44644124489796)\n"
     ]
    },
    {
     "name": "stderr",
     "output_type": "stream",
     "text": [
      "Geocodificando direcciones:  21%|██        | 105/500 [00:59<03:05,  2.13it/s]"
     ]
    },
    {
     "name": "stdout",
     "output_type": "stream",
     "text": [
      "Geocodificación exitosa para Santiago 1: (14.0200468, 121.2815312)\n"
     ]
    },
    {
     "name": "stderr",
     "output_type": "stream",
     "text": [
      "Geocodificando direcciones:  21%|██        | 106/500 [00:59<03:10,  2.07it/s]"
     ]
    },
    {
     "name": "stdout",
     "output_type": "stream",
     "text": [
      "Geocodificación exitosa para Santiago: (-33.4377756, -70.6504502)\n"
     ]
    },
    {
     "name": "stderr",
     "output_type": "stream",
     "text": [
      "Geocodificando direcciones:  21%|██▏       | 107/500 [01:00<03:12,  2.04it/s]"
     ]
    },
    {
     "name": "stdout",
     "output_type": "stream",
     "text": [
      "Geocodificación exitosa para Tel Aviv: (32.0852997, 34.7818064)\n"
     ]
    },
    {
     "name": "stderr",
     "output_type": "stream",
     "text": [
      "Geocodificando direcciones:  22%|██▏       | 108/500 [01:01<03:34,  1.83it/s]"
     ]
    },
    {
     "name": "stdout",
     "output_type": "stream",
     "text": [
      "No se encontró ubicación para un céntrico supermercado de Quilpué.\n"
     ]
    },
    {
     "name": "stderr",
     "output_type": "stream",
     "text": [
      "Geocodificando direcciones:  22%|██▏       | 109/500 [01:01<03:04,  2.12it/s]"
     ]
    },
    {
     "name": "stdout",
     "output_type": "stream",
     "text": [
      "Geocodificación exitosa para zona centro sur: (20.4540994, -100.6223448)\n"
     ]
    },
    {
     "name": "stderr",
     "output_type": "stream",
     "text": [
      "Geocodificando direcciones:  22%|██▏       | 110/500 [01:01<03:07,  2.08it/s]"
     ]
    },
    {
     "name": "stdout",
     "output_type": "stream",
     "text": [
      "Geocodificación exitosa para el Senado: (8.4083739, -75.3992435)\n"
     ]
    },
    {
     "name": "stderr",
     "output_type": "stream",
     "text": [
      "Geocodificando direcciones:  22%|██▏       | 111/500 [01:02<03:49,  1.69it/s]"
     ]
    },
    {
     "name": "stdout",
     "output_type": "stream",
     "text": [
      "Geocodificación exitosa para Centro Penitenciario Femenino de San Miguel: (-35.4734362, -71.55715786676089)\n"
     ]
    },
    {
     "name": "stderr",
     "output_type": "stream",
     "text": [
      "Geocodificando direcciones:  22%|██▏       | 112/500 [01:03<03:30,  1.84it/s]"
     ]
    },
    {
     "name": "stdout",
     "output_type": "stream",
     "text": [
      "Geocodificación exitosa para Universidad de Oklahoma: (28.6815221, -106.140822)\n"
     ]
    },
    {
     "name": "stderr",
     "output_type": "stream",
     "text": [
      "Geocodificando direcciones:  23%|██▎       | 113/500 [01:03<03:47,  1.70it/s]"
     ]
    },
    {
     "name": "stdout",
     "output_type": "stream",
     "text": [
      "No se encontró ubicación para Río Damas en Osorno en la Región de Los Lagos[VER.\n"
     ]
    },
    {
     "name": "stderr",
     "output_type": "stream",
     "text": [
      "Geocodificando direcciones:  23%|██▎       | 114/500 [01:04<03:08,  2.05it/s]"
     ]
    },
    {
     "name": "stdout",
     "output_type": "stream",
     "text": [
      "No se encontró ubicación para un debate entre candidatos a gobernador del Biobío.\n"
     ]
    },
    {
     "name": "stderr",
     "output_type": "stream",
     "text": [
      "Geocodificando direcciones:  23%|██▎       | 115/500 [01:04<03:12,  2.00it/s]"
     ]
    },
    {
     "name": "stdout",
     "output_type": "stream",
     "text": [
      "No se encontró ubicación para Caso Audios.\n"
     ]
    },
    {
     "name": "stderr",
     "output_type": "stream",
     "text": [
      "Geocodificando direcciones:  23%|██▎       | 116/500 [01:05<03:14,  1.98it/s]"
     ]
    },
    {
     "name": "stdout",
     "output_type": "stream",
     "text": [
      "Geocodificación exitosa para Castro: (34.4952536, -102.2592314)\n"
     ]
    },
    {
     "name": "stderr",
     "output_type": "stream",
     "text": [
      "Geocodificando direcciones:  23%|██▎       | 117/500 [01:05<03:10,  2.01it/s]"
     ]
    },
    {
     "name": "stdout",
     "output_type": "stream",
     "text": [
      "Geocodificación exitosa para Canadá: (61.0666922, -107.991707)\n"
     ]
    },
    {
     "name": "stderr",
     "output_type": "stream",
     "text": [
      "Geocodificando direcciones:  24%|██▎       | 118/500 [01:07<06:17,  1.01it/s]"
     ]
    },
    {
     "name": "stdout",
     "output_type": "stream",
     "text": [
      "Geocodificación exitosa para Estadio Chile: (-51.7261389, -72.4844421)\n"
     ]
    },
    {
     "name": "stderr",
     "output_type": "stream",
     "text": [
      "Geocodificando direcciones:  24%|██▍       | 119/500 [01:08<05:12,  1.22it/s]"
     ]
    },
    {
     "name": "stdout",
     "output_type": "stream",
     "text": [
      "No se encontró ubicación para entre las regiones del Maule y La Araucanía.\n"
     ]
    },
    {
     "name": "stderr",
     "output_type": "stream",
     "text": [
      "Geocodificando direcciones:  24%|██▍       | 120/500 [01:08<04:18,  1.47it/s]"
     ]
    },
    {
     "name": "stdout",
     "output_type": "stream",
     "text": [
      "Geocodificación exitosa para Brasil: (-10.3333333, -53.2)\n"
     ]
    },
    {
     "name": "stderr",
     "output_type": "stream",
     "text": [
      "Geocodificando direcciones:  24%|██▍       | 121/500 [01:09<03:57,  1.59it/s]"
     ]
    },
    {
     "name": "stdout",
     "output_type": "stream",
     "text": [
      "Geocodificación exitosa para Región de La Araucanía: (-38.6678955, -72.2610066)\n"
     ]
    },
    {
     "name": "stderr",
     "output_type": "stream",
     "text": [
      "Geocodificando direcciones:  24%|██▍       | 122/500 [01:09<04:01,  1.57it/s]"
     ]
    },
    {
     "name": "stdout",
     "output_type": "stream",
     "text": [
      "Geocodificación exitosa para Región Metropolitana: (-33.5739341, -70.6205518)\n"
     ]
    },
    {
     "name": "stderr",
     "output_type": "stream",
     "text": [
      "Geocodificando direcciones:  25%|██▍       | 123/500 [01:10<03:30,  1.79it/s]"
     ]
    },
    {
     "name": "stdout",
     "output_type": "stream",
     "text": [
      "Geocodificación exitosa para Sicilia en Italia: (37.5740311, 14.6929187844473)\n"
     ]
    },
    {
     "name": "stderr",
     "output_type": "stream",
     "text": [
      "Geocodificando direcciones:  25%|██▍       | 124/500 [01:10<03:24,  1.84it/s]"
     ]
    },
    {
     "name": "stdout",
     "output_type": "stream",
     "text": [
      "Geocodificación exitosa para calle Francia: (20.556568, -100.7971627)\n"
     ]
    },
    {
     "name": "stderr",
     "output_type": "stream",
     "text": [
      "Geocodificando direcciones:  25%|██▌       | 125/500 [01:11<03:13,  1.93it/s]"
     ]
    },
    {
     "name": "stdout",
     "output_type": "stream",
     "text": [
      "Geocodificación exitosa para Jackson Hole: (34.641109, -98.67619161204742)\n"
     ]
    },
    {
     "name": "stderr",
     "output_type": "stream",
     "text": [
      "Geocodificando direcciones:  25%|██▌       | 126/500 [01:11<03:13,  1.94it/s]"
     ]
    },
    {
     "name": "stdout",
     "output_type": "stream",
     "text": [
      "Geocodificación exitosa para Chile: (-31.7613365, -71.3187697)\n"
     ]
    },
    {
     "name": "stderr",
     "output_type": "stream",
     "text": [
      "Geocodificando direcciones:  25%|██▌       | 127/500 [01:12<03:05,  2.01it/s]"
     ]
    },
    {
     "name": "stdout",
     "output_type": "stream",
     "text": [
      "No se encontró ubicación para Lidercl.\n"
     ]
    },
    {
     "name": "stderr",
     "output_type": "stream",
     "text": [
      "Geocodificando direcciones:  26%|██▌       | 128/500 [01:12<03:08,  1.97it/s]"
     ]
    },
    {
     "name": "stdout",
     "output_type": "stream",
     "text": [
      "No se encontró ubicación para por todas partes.\n"
     ]
    },
    {
     "name": "stderr",
     "output_type": "stream",
     "text": [
      "Geocodificando direcciones:  26%|██▌       | 129/500 [01:13<03:07,  1.98it/s]"
     ]
    },
    {
     "name": "stdout",
     "output_type": "stream",
     "text": [
      "Geocodificación exitosa para La Araucanía: (-40.9071314, -73.157326)\n"
     ]
    },
    {
     "name": "stderr",
     "output_type": "stream",
     "text": [
      "Geocodificando direcciones:  26%|██▌       | 130/500 [01:13<03:04,  2.01it/s]"
     ]
    },
    {
     "name": "stdout",
     "output_type": "stream",
     "text": [
      "Geocodificación exitosa para Vitacura: (-33.3802063, -70.56578365381537)\n"
     ]
    },
    {
     "name": "stderr",
     "output_type": "stream",
     "text": [
      "Geocodificando direcciones:  26%|██▌       | 131/500 [01:14<03:45,  1.64it/s]"
     ]
    },
    {
     "name": "stdout",
     "output_type": "stream",
     "text": [
      "Geocodificación exitosa para el centro de la capital: (4.573029999999999, -75.64044706180246)\n"
     ]
    },
    {
     "name": "stderr",
     "output_type": "stream",
     "text": [
      "Geocodificando direcciones:  26%|██▋       | 132/500 [01:14<03:06,  1.97it/s]"
     ]
    },
    {
     "name": "stdout",
     "output_type": "stream",
     "text": [
      "Geocodificación exitosa para CNN Chile: (-33.4743219, -70.6673763)\n"
     ]
    },
    {
     "name": "stderr",
     "output_type": "stream",
     "text": [
      "Geocodificando direcciones:  27%|██▋       | 133/500 [01:15<03:05,  1.98it/s]"
     ]
    },
    {
     "name": "stdout",
     "output_type": "stream",
     "text": [
      "Geocodificación exitosa para Las Condes: (-33.4084548, -70.5671489)\n"
     ]
    },
    {
     "name": "stderr",
     "output_type": "stream",
     "text": [
      "Geocodificando direcciones:  27%|██▋       | 134/500 [01:15<03:25,  1.79it/s]"
     ]
    },
    {
     "name": "stdout",
     "output_type": "stream",
     "text": [
      "No se encontró ubicación para Wellness Technologies Chile.\n"
     ]
    },
    {
     "name": "stderr",
     "output_type": "stream",
     "text": [
      "Geocodificando direcciones:  27%|██▋       | 135/500 [01:16<03:03,  1.99it/s]"
     ]
    },
    {
     "name": "stdout",
     "output_type": "stream",
     "text": [
      "Geocodificación exitosa para Minera Escondida: (-23.755923250000002, -70.2430702913531)\n"
     ]
    },
    {
     "name": "stderr",
     "output_type": "stream",
     "text": [
      "Geocodificando direcciones:  27%|██▋       | 136/500 [01:16<03:00,  2.02it/s]"
     ]
    },
    {
     "name": "stdout",
     "output_type": "stream",
     "text": [
      "No se encontró ubicación para Capitán Yáber.\n"
     ]
    },
    {
     "name": "stderr",
     "output_type": "stream",
     "text": [
      "Geocodificando direcciones:  27%|██▋       | 137/500 [01:17<03:10,  1.90it/s]"
     ]
    },
    {
     "name": "stdout",
     "output_type": "stream",
     "text": [
      "No se encontró ubicación para inauguración de la fundación Colin Farrell.\n"
     ]
    },
    {
     "name": "stderr",
     "output_type": "stream",
     "text": [
      "Geocodificando direcciones:  28%|██▊       | 138/500 [01:17<02:50,  2.12it/s]"
     ]
    },
    {
     "name": "stdout",
     "output_type": "stream",
     "text": [
      "No se encontró ubicación para Clínica Lipedema WAL Chile.\n"
     ]
    },
    {
     "name": "stderr",
     "output_type": "stream",
     "text": [
      "Geocodificando direcciones:  28%|██▊       | 139/500 [01:18<02:56,  2.05it/s]"
     ]
    },
    {
     "name": "stdout",
     "output_type": "stream",
     "text": [
      "Geocodificación exitosa para Melipilla: (-33.6855134, -71.2145796)\n"
     ]
    },
    {
     "name": "stderr",
     "output_type": "stream",
     "text": [
      "Geocodificando direcciones:  28%|██▊       | 140/500 [01:18<03:01,  1.98it/s]"
     ]
    },
    {
     "name": "stdout",
     "output_type": "stream",
     "text": [
      "Geocodificación exitosa para Parral: (-36.1414293, -71.8222221)\n"
     ]
    },
    {
     "name": "stderr",
     "output_type": "stream",
     "text": [
      "Geocodificando direcciones:  28%|██▊       | 141/500 [01:19<03:13,  1.86it/s]"
     ]
    },
    {
     "name": "stdout",
     "output_type": "stream",
     "text": [
      "Geocodificación exitosa para Chiguayante Región del Bío Bío: (-36.9363658, -73.0186344)\n"
     ]
    },
    {
     "name": "stderr",
     "output_type": "stream",
     "text": [
      "Geocodificando direcciones:  28%|██▊       | 142/500 [01:19<02:51,  2.08it/s]"
     ]
    },
    {
     "name": "stdout",
     "output_type": "stream",
     "text": [
      "Geocodificación exitosa para Cúcuta: (7.8971458, -72.5080387)\n"
     ]
    },
    {
     "name": "stderr",
     "output_type": "stream",
     "text": [
      "Geocodificando direcciones:  29%|██▊       | 143/500 [01:20<02:50,  2.09it/s]"
     ]
    },
    {
     "name": "stdout",
     "output_type": "stream",
     "text": [
      "No se encontró ubicación para no todas las resoluciones indican la ubicación geográfica.\n"
     ]
    },
    {
     "name": "stderr",
     "output_type": "stream",
     "text": [
      "Geocodificando direcciones:  29%|██▉       | 144/500 [01:20<02:59,  1.98it/s]"
     ]
    },
    {
     "name": "stdout",
     "output_type": "stream",
     "text": [
      "Geocodificación exitosa para Venezuela: (8.0018709, -66.1109318)\n"
     ]
    },
    {
     "name": "stderr",
     "output_type": "stream",
     "text": [
      "Geocodificando direcciones:  29%|██▉       | 145/500 [01:21<03:12,  1.85it/s]"
     ]
    },
    {
     "name": "stdout",
     "output_type": "stream",
     "text": [
      "No se encontró ubicación para India China Estados Unidos Italia y Reino Unido.\n"
     ]
    },
    {
     "name": "stderr",
     "output_type": "stream",
     "text": [
      "Geocodificando direcciones:  29%|██▉       | 146/500 [01:21<03:17,  1.80it/s]"
     ]
    },
    {
     "name": "stdout",
     "output_type": "stream",
     "text": [
      "No se encontró ubicación para Museo de las Iglesias Ancud.\n"
     ]
    },
    {
     "name": "stderr",
     "output_type": "stream",
     "text": [
      "Geocodificando direcciones:  29%|██▉       | 147/500 [01:22<03:23,  1.73it/s]"
     ]
    },
    {
     "name": "stdout",
     "output_type": "stream",
     "text": [
      "No se encontró ubicación para Avenida Francisco de Aguirre con Balmaceda.\n"
     ]
    },
    {
     "name": "stderr",
     "output_type": "stream",
     "text": [
      "Geocodificando direcciones:  30%|██▉       | 148/500 [01:22<02:52,  2.04it/s]"
     ]
    },
    {
     "name": "stdout",
     "output_type": "stream",
     "text": [
      "Geocodificación exitosa para Venezuela: (8.0018709, -66.1109318)\n"
     ]
    },
    {
     "name": "stderr",
     "output_type": "stream",
     "text": [
      "Geocodificando direcciones:  30%|██▉       | 149/500 [01:23<03:13,  1.82it/s]"
     ]
    },
    {
     "name": "stdout",
     "output_type": "stream",
     "text": [
      "Geocodificación exitosa para región del Bío Bío: (-36.83008705, -73.05915576648255)\n"
     ]
    },
    {
     "name": "stderr",
     "output_type": "stream",
     "text": [
      "Geocodificando direcciones:  30%|███       | 150/500 [01:23<02:46,  2.10it/s]"
     ]
    },
    {
     "name": "stdout",
     "output_type": "stream",
     "text": [
      "No se encontró ubicación para Eleam de Vallenar?.\n"
     ]
    },
    {
     "name": "stderr",
     "output_type": "stream",
     "text": [
      "Geocodificando direcciones:  30%|███       | 151/500 [01:24<02:54,  2.00it/s]"
     ]
    },
    {
     "name": "stdout",
     "output_type": "stream",
     "text": [
      "Geocodificación exitosa para Estadio Lucio Fariña de Quillota: (-32.88687295, -71.2516286622132)\n"
     ]
    },
    {
     "name": "stderr",
     "output_type": "stream",
     "text": [
      "Geocodificando direcciones:  30%|███       | 152/500 [01:25<03:04,  1.89it/s]"
     ]
    },
    {
     "name": "stdout",
     "output_type": "stream",
     "text": [
      "Geocodificación exitosa para Colina Región Metropolitana: (-33.202472, -70.6749147)\n"
     ]
    },
    {
     "name": "stderr",
     "output_type": "stream",
     "text": [
      "Geocodificando direcciones:  31%|███       | 153/500 [01:25<02:44,  2.11it/s]"
     ]
    },
    {
     "name": "stdout",
     "output_type": "stream",
     "text": [
      "Geocodificación exitosa para Brasil: (-10.3333333, -53.2)\n"
     ]
    },
    {
     "name": "stderr",
     "output_type": "stream",
     "text": [
      "Geocodificando direcciones:  31%|███       | 154/500 [01:25<02:45,  2.09it/s]"
     ]
    },
    {
     "name": "stdout",
     "output_type": "stream",
     "text": [
      "Geocodificación exitosa para Padre Las Casas: (-38.7674245, -72.5956312)\n"
     ]
    },
    {
     "name": "stderr",
     "output_type": "stream",
     "text": [
      "Geocodificando direcciones:  31%|███       | 155/500 [01:29<09:02,  1.57s/it]"
     ]
    },
    {
     "name": "stdout",
     "output_type": "stream",
     "text": [
      "Error al geocodificar 10 de abril de 2023: HTTPSConnectionPool(host='nominatim.openstreetmap.org', port=443): Max retries exceeded with url: /search?q=10+de+abril+de+2023&format=json&limit=1 (Caused by ReadTimeoutError(\"HTTPSConnectionPool(host='nominatim.openstreetmap.org', port=443): Read timed out. (read timeout=1)\"))\n"
     ]
    },
    {
     "name": "stderr",
     "output_type": "stream",
     "text": [
      "Geocodificando direcciones:  31%|███       | 156/500 [01:30<07:38,  1.33s/it]"
     ]
    },
    {
     "name": "stdout",
     "output_type": "stream",
     "text": [
      "Geocodificación exitosa para Líbano: (33.8750629, 35.843409)\n"
     ]
    },
    {
     "name": "stderr",
     "output_type": "stream",
     "text": [
      "Geocodificando direcciones:  31%|███▏      | 157/500 [01:31<06:25,  1.12s/it]"
     ]
    },
    {
     "name": "stdout",
     "output_type": "stream",
     "text": [
      "Geocodificación exitosa para río Ganges: (25.7240512, 84.1137187)\n"
     ]
    },
    {
     "name": "stderr",
     "output_type": "stream",
     "text": [
      "Geocodificando direcciones:  32%|███▏      | 158/500 [01:31<05:05,  1.12it/s]"
     ]
    },
    {
     "name": "stdout",
     "output_type": "stream",
     "text": [
      "Geocodificación exitosa para Universidad San Sebastián: (-36.8130912, -73.0434022053635)\n"
     ]
    },
    {
     "name": "stderr",
     "output_type": "stream",
     "text": [
      "Geocodificando direcciones:  32%|███▏      | 159/500 [01:32<04:27,  1.27it/s]"
     ]
    },
    {
     "name": "stdout",
     "output_type": "stream",
     "text": [
      "Geocodificación exitosa para Ministerio de Salud: (-33.4364906, -70.6470553)\n"
     ]
    },
    {
     "name": "stderr",
     "output_type": "stream",
     "text": [
      "Geocodificando direcciones:  32%|███▏      | 160/500 [01:32<03:54,  1.45it/s]"
     ]
    },
    {
     "name": "stdout",
     "output_type": "stream",
     "text": [
      "Geocodificación exitosa para Santiago: (-33.4377756, -70.6504502)\n"
     ]
    },
    {
     "name": "stderr",
     "output_type": "stream",
     "text": [
      "Geocodificando direcciones:  32%|███▏      | 161/500 [01:33<03:42,  1.52it/s]"
     ]
    },
    {
     "name": "stdout",
     "output_type": "stream",
     "text": [
      "Geocodificación exitosa para Tucumán Argentina: (-26.8303703, -65.2038133)\n"
     ]
    },
    {
     "name": "stderr",
     "output_type": "stream",
     "text": [
      "Geocodificando direcciones:  32%|███▏      | 162/500 [01:33<03:28,  1.62it/s]"
     ]
    },
    {
     "name": "stdout",
     "output_type": "stream",
     "text": [
      "Geocodificación exitosa para Rinconada: (-32.8393819, -70.6871827)\n"
     ]
    },
    {
     "name": "stderr",
     "output_type": "stream",
     "text": [
      "Geocodificando direcciones:  33%|███▎      | 163/500 [01:34<03:08,  1.79it/s]"
     ]
    },
    {
     "name": "stdout",
     "output_type": "stream",
     "text": [
      "Geocodificación exitosa para Stade de France: (48.924472550000004, 2.3601325226927248)\n"
     ]
    },
    {
     "name": "stderr",
     "output_type": "stream",
     "text": [
      "Geocodificando direcciones:  33%|███▎      | 164/500 [01:34<03:12,  1.75it/s]"
     ]
    },
    {
     "name": "stdout",
     "output_type": "stream",
     "text": [
      "Geocodificación exitosa para Ámsterdam: (52.3730796, 4.8924534)\n"
     ]
    },
    {
     "name": "stderr",
     "output_type": "stream",
     "text": [
      "Geocodificando direcciones:  33%|███▎      | 165/500 [01:35<02:50,  1.97it/s]"
     ]
    },
    {
     "name": "stdout",
     "output_type": "stream",
     "text": [
      "Geocodificación exitosa para Universidad Andrés Bello: (-33.45092815, -70.6683865846022)\n"
     ]
    },
    {
     "name": "stderr",
     "output_type": "stream",
     "text": [
      "Geocodificando direcciones:  33%|███▎      | 166/500 [01:35<02:50,  1.95it/s]"
     ]
    },
    {
     "name": "stdout",
     "output_type": "stream",
     "text": [
      "Geocodificación exitosa para CBS: (39.1160281, -84.5020941)\n"
     ]
    },
    {
     "name": "stderr",
     "output_type": "stream",
     "text": [
      "Geocodificando direcciones:  33%|███▎      | 167/500 [01:36<02:48,  1.97it/s]"
     ]
    },
    {
     "name": "stdout",
     "output_type": "stream",
     "text": [
      "Geocodificación exitosa para Gorbea región de La Araucanía: (-39.1032067, -72.6759888)\n"
     ]
    },
    {
     "name": "stderr",
     "output_type": "stream",
     "text": [
      "Geocodificando direcciones:  34%|███▎      | 168/500 [01:38<05:28,  1.01it/s]"
     ]
    },
    {
     "name": "stdout",
     "output_type": "stream",
     "text": [
      "Geocodificación exitosa para Av Javier Prado Este 5902: (-12.0846441, -76.9782156)\n"
     ]
    },
    {
     "name": "stderr",
     "output_type": "stream",
     "text": [
      "Geocodificando direcciones:  34%|███▍      | 169/500 [01:38<04:18,  1.28it/s]"
     ]
    },
    {
     "name": "stdout",
     "output_type": "stream",
     "text": [
      "Geocodificación exitosa para Nueva York: (40.7127281, -74.0060152)\n"
     ]
    },
    {
     "name": "stderr",
     "output_type": "stream",
     "text": [
      "Geocodificando direcciones:  34%|███▍      | 170/500 [01:39<03:46,  1.46it/s]"
     ]
    },
    {
     "name": "stdout",
     "output_type": "stream",
     "text": [
      "Geocodificación exitosa para Teatro Caupolicán: (-33.4562166, -70.64923855)\n"
     ]
    },
    {
     "name": "stderr",
     "output_type": "stream",
     "text": [
      "Geocodificando direcciones:  34%|███▍      | 171/500 [01:39<03:43,  1.47it/s]"
     ]
    },
    {
     "name": "stdout",
     "output_type": "stream",
     "text": [
      "No se encontró ubicación para En el marco del caso «Audio».\n"
     ]
    },
    {
     "name": "stderr",
     "output_type": "stream",
     "text": [
      "Geocodificando direcciones:  34%|███▍      | 172/500 [01:40<03:10,  1.72it/s]"
     ]
    },
    {
     "name": "stdout",
     "output_type": "stream",
     "text": [
      "No se encontró ubicación para en plena calle.\n"
     ]
    },
    {
     "name": "stderr",
     "output_type": "stream",
     "text": [
      "Geocodificando direcciones:  35%|███▍      | 173/500 [01:44<08:48,  1.62s/it]"
     ]
    },
    {
     "name": "stdout",
     "output_type": "stream",
     "text": [
      "Error al geocodificar 10 de abril de 2023: HTTPSConnectionPool(host='nominatim.openstreetmap.org', port=443): Max retries exceeded with url: /search?q=10+de+abril+de+2023&format=json&limit=1 (Caused by ReadTimeoutError(\"HTTPSConnectionPool(host='nominatim.openstreetmap.org', port=443): Read timed out. (read timeout=1)\"))\n"
     ]
    },
    {
     "name": "stderr",
     "output_type": "stream",
     "text": [
      "Geocodificando direcciones:  35%|███▍      | 174/500 [01:44<07:26,  1.37s/it]"
     ]
    },
    {
     "name": "stdout",
     "output_type": "stream",
     "text": [
      "Geocodificación exitosa para julio: (-54.2261527, -72.05261813246645)\n"
     ]
    },
    {
     "name": "stderr",
     "output_type": "stream",
     "text": [
      "Geocodificando direcciones:  35%|███▌      | 175/500 [01:45<06:32,  1.21s/it]"
     ]
    },
    {
     "name": "stdout",
     "output_type": "stream",
     "text": [
      "No se encontró ubicación para A la hora de comprar una vivienda.\n"
     ]
    },
    {
     "name": "stderr",
     "output_type": "stream",
     "text": [
      "Geocodificando direcciones:  35%|███▌      | 176/500 [01:46<05:16,  1.02it/s]"
     ]
    },
    {
     "name": "stdout",
     "output_type": "stream",
     "text": [
      "No se encontró ubicación para “un día antes de los comicios.\n"
     ]
    },
    {
     "name": "stderr",
     "output_type": "stream",
     "text": [
      "Geocodificando direcciones:  35%|███▌      | 177/500 [01:46<04:12,  1.28it/s]"
     ]
    },
    {
     "name": "stdout",
     "output_type": "stream",
     "text": [
      "Geocodificación exitosa para Argentina: (-34.9964963, -64.9672817)\n"
     ]
    },
    {
     "name": "stderr",
     "output_type": "stream",
     "text": [
      "Geocodificando direcciones:  36%|███▌      | 178/500 [01:47<04:03,  1.32it/s]"
     ]
    },
    {
     "name": "stdout",
     "output_type": "stream",
     "text": [
      "No se encontró ubicación para un jeep Suzuki Grand Vitara color verde.\n"
     ]
    },
    {
     "name": "stderr",
     "output_type": "stream",
     "text": [
      "Geocodificando direcciones:  36%|███▌      | 179/500 [01:47<03:35,  1.49it/s]"
     ]
    },
    {
     "name": "stdout",
     "output_type": "stream",
     "text": [
      "No se encontró ubicación para Mina Collahuasi en la región de Tarapacá.\n"
     ]
    },
    {
     "name": "stderr",
     "output_type": "stream",
     "text": [
      "Geocodificando direcciones:  36%|███▌      | 180/500 [01:48<03:05,  1.73it/s]"
     ]
    },
    {
     "name": "stdout",
     "output_type": "stream",
     "text": [
      "Geocodificación exitosa para Universidad de Concepción: (-36.83101365, -73.03468092794185)\n"
     ]
    },
    {
     "name": "stderr",
     "output_type": "stream",
     "text": [
      "Geocodificando direcciones:  36%|███▌      | 181/500 [01:48<02:52,  1.85it/s]"
     ]
    },
    {
     "name": "stdout",
     "output_type": "stream",
     "text": [
      "Geocodificación exitosa para Betano: (-9.16371, 125.72384)\n"
     ]
    },
    {
     "name": "stderr",
     "output_type": "stream",
     "text": [
      "Geocodificando direcciones:  36%|███▋      | 182/500 [01:49<02:53,  1.84it/s]"
     ]
    },
    {
     "name": "stdout",
     "output_type": "stream",
     "text": [
      "Geocodificación exitosa para Antofagasta: (-23.6041314, -69.0842783)\n"
     ]
    },
    {
     "name": "stderr",
     "output_type": "stream",
     "text": [
      "Geocodificando direcciones:  37%|███▋      | 183/500 [01:49<03:09,  1.67it/s]"
     ]
    },
    {
     "name": "stdout",
     "output_type": "stream",
     "text": [
      "Geocodificación exitosa para 28 de julio: (-3.4759535, -74.8011996)\n"
     ]
    },
    {
     "name": "stderr",
     "output_type": "stream",
     "text": [
      "Geocodificando direcciones:  37%|███▋      | 184/500 [01:50<02:51,  1.85it/s]"
     ]
    },
    {
     "name": "stdout",
     "output_type": "stream",
     "text": [
      "Geocodificación exitosa para La Pintana: (-33.5833594, -70.629827)\n"
     ]
    },
    {
     "name": "stderr",
     "output_type": "stream",
     "text": [
      "Geocodificando direcciones:  37%|███▋      | 185/500 [01:50<02:34,  2.05it/s]"
     ]
    },
    {
     "name": "stdout",
     "output_type": "stream",
     "text": [
      "Geocodificación exitosa para México: (23.6585116, -102.0077097)\n"
     ]
    },
    {
     "name": "stderr",
     "output_type": "stream",
     "text": [
      "Geocodificando direcciones:  37%|███▋      | 186/500 [01:51<02:39,  1.97it/s]"
     ]
    },
    {
     "name": "stdout",
     "output_type": "stream",
     "text": [
      "Geocodificación exitosa para Palena: (41.9833669, 14.137946)\n"
     ]
    },
    {
     "name": "stderr",
     "output_type": "stream",
     "text": [
      "Geocodificando direcciones:  37%|███▋      | 187/500 [01:51<02:49,  1.85it/s]"
     ]
    },
    {
     "name": "stdout",
     "output_type": "stream",
     "text": [
      "No se encontró ubicación para Cuarto Juzgado de Garantía de Santiago.\n"
     ]
    },
    {
     "name": "stderr",
     "output_type": "stream",
     "text": [
      "Geocodificando direcciones:  38%|███▊      | 188/500 [01:52<02:45,  1.89it/s]"
     ]
    },
    {
     "name": "stdout",
     "output_type": "stream",
     "text": [
      "No se encontró ubicación para calle Conde de Maule.\n"
     ]
    },
    {
     "name": "stderr",
     "output_type": "stream",
     "text": [
      "Geocodificando direcciones:  38%|███▊      | 189/500 [01:52<02:25,  2.14it/s]"
     ]
    },
    {
     "name": "stdout",
     "output_type": "stream",
     "text": [
      "Geocodificación exitosa para Este viernes: (48.3787553, 4.0121178)\n"
     ]
    },
    {
     "name": "stderr",
     "output_type": "stream",
     "text": [
      "Geocodificando direcciones:  38%|███▊      | 190/500 [01:53<02:25,  2.12it/s]"
     ]
    },
    {
     "name": "stdout",
     "output_type": "stream",
     "text": [
      "Geocodificación exitosa para Cancura: (-40.7589682, -72.9645776)\n"
     ]
    },
    {
     "name": "stderr",
     "output_type": "stream",
     "text": [
      "Geocodificando direcciones:  38%|███▊      | 191/500 [01:53<02:28,  2.08it/s]"
     ]
    },
    {
     "name": "stdout",
     "output_type": "stream",
     "text": [
      "Geocodificación exitosa para Radio Cooperativa: (-33.4397312, -70.67657854999999)\n"
     ]
    },
    {
     "name": "stderr",
     "output_type": "stream",
     "text": [
      "Geocodificando direcciones:  38%|███▊      | 192/500 [01:54<02:43,  1.89it/s]"
     ]
    },
    {
     "name": "stdout",
     "output_type": "stream",
     "text": [
      "Geocodificación exitosa para la soledad: (7.8785795, -81.2691736)\n"
     ]
    },
    {
     "name": "stderr",
     "output_type": "stream",
     "text": [
      "Geocodificando direcciones:  39%|███▊      | 193/500 [01:54<02:50,  1.80it/s]"
     ]
    },
    {
     "name": "stdout",
     "output_type": "stream",
     "text": [
      "Geocodificación exitosa para la región Metropolitana: (47.6594864, -0.8186143)\n"
     ]
    },
    {
     "name": "stderr",
     "output_type": "stream",
     "text": [
      "Geocodificando direcciones:  39%|███▉      | 194/500 [01:55<02:27,  2.08it/s]"
     ]
    },
    {
     "name": "stdout",
     "output_type": "stream",
     "text": [
      "Geocodificación exitosa para Santiago: (-33.4377756, -70.6504502)\n"
     ]
    },
    {
     "name": "stderr",
     "output_type": "stream",
     "text": [
      "Geocodificando direcciones:  39%|███▉      | 195/500 [01:55<02:31,  2.01it/s]"
     ]
    },
    {
     "name": "stdout",
     "output_type": "stream",
     "text": [
      "No se encontró ubicación para durante el fin de semana-.\n"
     ]
    },
    {
     "name": "stderr",
     "output_type": "stream",
     "text": [
      "Geocodificando direcciones:  39%|███▉      | 196/500 [01:56<02:25,  2.09it/s]"
     ]
    },
    {
     "name": "stdout",
     "output_type": "stream",
     "text": [
      "Geocodificación exitosa para Paillaco: (-40.0706633, -72.8726695)\n"
     ]
    },
    {
     "name": "stderr",
     "output_type": "stream",
     "text": [
      "Geocodificando direcciones:  39%|███▉      | 197/500 [01:56<02:54,  1.73it/s]"
     ]
    },
    {
     "name": "stdout",
     "output_type": "stream",
     "text": [
      "Geocodificación exitosa para la cárcel Santiago 1: (-33.6023447, -70.8804264)\n"
     ]
    },
    {
     "name": "stderr",
     "output_type": "stream",
     "text": [
      "Geocodificando direcciones:  40%|███▉      | 198/500 [01:57<02:26,  2.06it/s]"
     ]
    },
    {
     "name": "stdout",
     "output_type": "stream",
     "text": [
      "Geocodificación exitosa para Villa Alemana: (-33.0441903, -71.3725464)\n"
     ]
    },
    {
     "name": "stderr",
     "output_type": "stream",
     "text": [
      "Geocodificando direcciones:  40%|███▉      | 199/500 [01:57<02:47,  1.80it/s]"
     ]
    },
    {
     "name": "stdout",
     "output_type": "stream",
     "text": [
      "No se encontró ubicación para el terminal Agropecuario de la ciudad de Calama.\n"
     ]
    },
    {
     "name": "stderr",
     "output_type": "stream",
     "text": [
      "Geocodificando direcciones:  40%|████      | 200/500 [01:58<02:19,  2.15it/s]"
     ]
    },
    {
     "name": "stdout",
     "output_type": "stream",
     "text": [
      "Geocodificación exitosa para Estados Unidos: (39.7837304, -100.445882)\n"
     ]
    },
    {
     "name": "stderr",
     "output_type": "stream",
     "text": [
      "Geocodificando direcciones:  40%|████      | 201/500 [02:00<05:03,  1.02s/it]"
     ]
    },
    {
     "name": "stdout",
     "output_type": "stream",
     "text": [
      "No se encontró ubicación para aeropuerto de Los Ángeles en Estados Unidos.\n"
     ]
    },
    {
     "name": "stderr",
     "output_type": "stream",
     "text": [
      "Geocodificando direcciones:  40%|████      | 202/500 [02:00<03:59,  1.25it/s]"
     ]
    },
    {
     "name": "stdout",
     "output_type": "stream",
     "text": [
      "Geocodificación exitosa para Ministerio del Interior: (-12.098043449999999, -77.01558583411844)\n"
     ]
    },
    {
     "name": "stderr",
     "output_type": "stream",
     "text": [
      "Geocodificando direcciones:  41%|████      | 203/500 [02:01<03:28,  1.43it/s]"
     ]
    },
    {
     "name": "stdout",
     "output_type": "stream",
     "text": [
      "Geocodificación exitosa para Argentina: (-34.9964963, -64.9672817)\n"
     ]
    },
    {
     "name": "stderr",
     "output_type": "stream",
     "text": [
      "Geocodificando direcciones:  41%|████      | 204/500 [02:02<03:51,  1.28it/s]"
     ]
    },
    {
     "name": "stdout",
     "output_type": "stream",
     "text": [
      "No se encontró ubicación para Mugla una ciudad costera de Turquía.\n"
     ]
    },
    {
     "name": "stderr",
     "output_type": "stream",
     "text": [
      "Geocodificando direcciones:  41%|████      | 205/500 [02:03<05:15,  1.07s/it]"
     ]
    },
    {
     "name": "stdout",
     "output_type": "stream",
     "text": [
      "No se encontró ubicación para Este miércoles.\n"
     ]
    },
    {
     "name": "stderr",
     "output_type": "stream",
     "text": [
      "Geocodificando direcciones:  41%|████      | 206/500 [02:04<04:30,  1.09it/s]"
     ]
    },
    {
     "name": "stdout",
     "output_type": "stream",
     "text": [
      "Geocodificación exitosa para Utah Estados Unidos: (39.4225192, -111.714358)\n"
     ]
    },
    {
     "name": "stderr",
     "output_type": "stream",
     "text": [
      "Geocodificando direcciones:  41%|████▏     | 207/500 [02:04<03:47,  1.29it/s]"
     ]
    },
    {
     "name": "stdout",
     "output_type": "stream",
     "text": [
      "Geocodificación exitosa para Santiago: (-33.4377756, -70.6504502)\n"
     ]
    },
    {
     "name": "stderr",
     "output_type": "stream",
     "text": [
      "Geocodificando direcciones:  42%|████▏     | 208/500 [02:05<03:21,  1.45it/s]"
     ]
    },
    {
     "name": "stdout",
     "output_type": "stream",
     "text": [
      "Geocodificación exitosa para Alfonso Alcalde: (-33.5224111, -70.7023476)\n"
     ]
    },
    {
     "name": "stderr",
     "output_type": "stream",
     "text": [
      "Geocodificando direcciones:  42%|████▏     | 209/500 [02:06<03:07,  1.56it/s]"
     ]
    },
    {
     "name": "stdout",
     "output_type": "stream",
     "text": [
      "Geocodificación exitosa para ARIES: (36.773869000000005, 31.404783449999996)\n"
     ]
    },
    {
     "name": "stderr",
     "output_type": "stream",
     "text": [
      "Geocodificando direcciones:  42%|████▏     | 210/500 [02:06<02:49,  1.71it/s]"
     ]
    },
    {
     "name": "stdout",
     "output_type": "stream",
     "text": [
      "No se encontró ubicación para direcciones físicas.\n"
     ]
    },
    {
     "name": "stderr",
     "output_type": "stream",
     "text": [
      "Geocodificando direcciones:  42%|████▏     | 211/500 [02:07<03:07,  1.54it/s]"
     ]
    },
    {
     "name": "stdout",
     "output_type": "stream",
     "text": [
      "Geocodificación exitosa para fuera de Santiago: (-31.5631497, -64.7068006)\n"
     ]
    },
    {
     "name": "stderr",
     "output_type": "stream",
     "text": [
      "Geocodificando direcciones:  42%|████▏     | 212/500 [02:07<02:31,  1.90it/s]"
     ]
    },
    {
     "name": "stdout",
     "output_type": "stream",
     "text": [
      "No se encontró ubicación para golagol('/especiales/2024/deportes/gol-gol/TorneoNacional/18xml').\n"
     ]
    },
    {
     "name": "stderr",
     "output_type": "stream",
     "text": [
      "Geocodificando direcciones:  43%|████▎     | 213/500 [02:08<02:30,  1.91it/s]"
     ]
    },
    {
     "name": "stdout",
     "output_type": "stream",
     "text": [
      "Geocodificación exitosa para Sheraton Lima Historic Center: (-12.05727155, -77.03688620926025)\n"
     ]
    },
    {
     "name": "stderr",
     "output_type": "stream",
     "text": [
      "Geocodificando direcciones:  43%|████▎     | 214/500 [02:08<02:33,  1.86it/s]"
     ]
    },
    {
     "name": "stdout",
     "output_type": "stream",
     "text": [
      "Geocodificación exitosa para Chile: (-31.7613365, -71.3187697)\n"
     ]
    },
    {
     "name": "stderr",
     "output_type": "stream",
     "text": [
      "Geocodificando direcciones:  43%|████▎     | 215/500 [02:09<02:48,  1.69it/s]"
     ]
    },
    {
     "name": "stdout",
     "output_type": "stream",
     "text": [
      "No se encontró ubicación para Challenger de Santo Domingo.\n"
     ]
    },
    {
     "name": "stderr",
     "output_type": "stream",
     "text": [
      "Geocodificando direcciones:  43%|████▎     | 216/500 [02:09<02:23,  1.97it/s]"
     ]
    },
    {
     "name": "stdout",
     "output_type": "stream",
     "text": [
      "No se encontró ubicación para automatiza el cálculo.\n"
     ]
    },
    {
     "name": "stderr",
     "output_type": "stream",
     "text": [
      "Geocodificando direcciones:  43%|████▎     | 217/500 [02:10<02:19,  2.02it/s]"
     ]
    },
    {
     "name": "stdout",
     "output_type": "stream",
     "text": [
      "Geocodificación exitosa para Rancagua: (-34.170249, -70.7407427)\n"
     ]
    },
    {
     "name": "stderr",
     "output_type": "stream",
     "text": [
      "Geocodificando direcciones:  44%|████▎     | 218/500 [02:10<02:19,  2.02it/s]"
     ]
    },
    {
     "name": "stdout",
     "output_type": "stream",
     "text": [
      "Geocodificación exitosa para Temuco: (-38.7362611, -72.590546)\n"
     ]
    },
    {
     "name": "stderr",
     "output_type": "stream",
     "text": [
      "Geocodificando direcciones:  44%|████▍     | 219/500 [02:11<02:25,  1.93it/s]"
     ]
    },
    {
     "name": "stdout",
     "output_type": "stream",
     "text": [
      "Geocodificación exitosa para Calama: (-22.4623917, -68.9272181)\n"
     ]
    },
    {
     "name": "stderr",
     "output_type": "stream",
     "text": [
      "Geocodificando direcciones:  44%|████▍     | 220/500 [02:11<02:16,  2.05it/s]"
     ]
    },
    {
     "name": "stdout",
     "output_type": "stream",
     "text": [
      "Geocodificación exitosa para 2024: (46.89514846666667, 6.7741007121212125)\n"
     ]
    },
    {
     "name": "stderr",
     "output_type": "stream",
     "text": [
      "Geocodificando direcciones:  44%|████▍     | 221/500 [02:13<04:45,  1.02s/it]"
     ]
    },
    {
     "name": "stdout",
     "output_type": "stream",
     "text": [
      "Geocodificación exitosa para Aeropuerto Internacional de Santiago: (-33.38939795, -70.79415901711005)\n"
     ]
    },
    {
     "name": "stderr",
     "output_type": "stream",
     "text": [
      "Geocodificando direcciones:  44%|████▍     | 222/500 [02:14<04:06,  1.13it/s]"
     ]
    },
    {
     "name": "stdout",
     "output_type": "stream",
     "text": [
      "No se encontró ubicación para Hospital Regional Dr Leonardo Guzmán (Antofagasta).\n"
     ]
    },
    {
     "name": "stderr",
     "output_type": "stream",
     "text": [
      "Geocodificando direcciones:  45%|████▍     | 223/500 [02:14<03:19,  1.39it/s]"
     ]
    },
    {
     "name": "stdout",
     "output_type": "stream",
     "text": [
      "Geocodificación exitosa para CBS: (39.1160281, -84.5020941)\n"
     ]
    },
    {
     "name": "stderr",
     "output_type": "stream",
     "text": [
      "Geocodificando direcciones:  45%|████▍     | 224/500 [02:15<03:09,  1.46it/s]"
     ]
    },
    {
     "name": "stdout",
     "output_type": "stream",
     "text": [
      "Geocodificación exitosa para Centro Penitenciario de Molina Región del Maule: (-35.11351565, -71.28423574250603)\n"
     ]
    },
    {
     "name": "stderr",
     "output_type": "stream",
     "text": [
      "Geocodificando direcciones:  45%|████▌     | 225/500 [02:17<05:22,  1.17s/it]"
     ]
    },
    {
     "name": "stdout",
     "output_type": "stream",
     "text": [
      "Geocodificación exitosa para Rancagua región de O’Higgins: (-34.17415415, -70.74222313252632)\n"
     ]
    },
    {
     "name": "stderr",
     "output_type": "stream",
     "text": [
      "Geocodificando direcciones:  45%|████▌     | 226/500 [02:17<04:08,  1.10it/s]"
     ]
    },
    {
     "name": "stdout",
     "output_type": "stream",
     "text": [
      "Geocodificación exitosa para Universidad de Concepción: (-36.83101365, -73.03468092794185)\n"
     ]
    },
    {
     "name": "stderr",
     "output_type": "stream",
     "text": [
      "Geocodificando direcciones:  45%|████▌     | 227/500 [02:18<03:41,  1.23it/s]"
     ]
    },
    {
     "name": "stdout",
     "output_type": "stream",
     "text": [
      "Geocodificación exitosa para Miami: (25.7741728, -80.19362)\n"
     ]
    },
    {
     "name": "stderr",
     "output_type": "stream",
     "text": [
      "Geocodificando direcciones:  46%|████▌     | 228/500 [02:19<03:32,  1.28it/s]"
     ]
    },
    {
     "name": "stdout",
     "output_type": "stream",
     "text": [
      "No se encontró ubicación para Centro de Tiro de Chateauroux.\n"
     ]
    },
    {
     "name": "stderr",
     "output_type": "stream",
     "text": [
      "Geocodificando direcciones:  46%|████▌     | 229/500 [02:19<02:50,  1.59it/s]"
     ]
    },
    {
     "name": "stdout",
     "output_type": "stream",
     "text": [
      "Geocodificación exitosa para Concepción: (-36.8270795, -73.0502399)\n"
     ]
    },
    {
     "name": "stderr",
     "output_type": "stream",
     "text": [
      "Geocodificando direcciones:  46%|████▌     | 230/500 [02:20<02:39,  1.70it/s]"
     ]
    },
    {
     "name": "stdout",
     "output_type": "stream",
     "text": [
      "Geocodificación exitosa para Nacional: (-33.2857613, -66.3285549)\n"
     ]
    },
    {
     "name": "stderr",
     "output_type": "stream",
     "text": [
      "Geocodificando direcciones:  46%|████▌     | 231/500 [02:20<02:36,  1.72it/s]"
     ]
    },
    {
     "name": "stdout",
     "output_type": "stream",
     "text": [
      "Geocodificación exitosa para Venezuela: (8.0018709, -66.1109318)\n"
     ]
    },
    {
     "name": "stderr",
     "output_type": "stream",
     "text": [
      "Geocodificando direcciones:  46%|████▋     | 232/500 [02:21<02:26,  1.83it/s]"
     ]
    },
    {
     "name": "stdout",
     "output_type": "stream",
     "text": [
      "Geocodificación exitosa para Arauco: (-37.246248, -73.3176399)\n"
     ]
    },
    {
     "name": "stderr",
     "output_type": "stream",
     "text": [
      "Geocodificando direcciones:  47%|████▋     | 233/500 [02:21<02:33,  1.74it/s]"
     ]
    },
    {
     "name": "stdout",
     "output_type": "stream",
     "text": [
      "No se encontró ubicación para La audiencia en el TSJ se celebró sin González Urrutia.\n"
     ]
    },
    {
     "name": "stderr",
     "output_type": "stream",
     "text": [
      "Geocodificando direcciones:  47%|████▋     | 234/500 [02:22<02:19,  1.91it/s]"
     ]
    },
    {
     "name": "stdout",
     "output_type": "stream",
     "text": [
      "Geocodificación exitosa para Los Ríos: (-1.4941273, -79.5542485)\n"
     ]
    },
    {
     "name": "stderr",
     "output_type": "stream",
     "text": [
      "Geocodificando direcciones:  47%|████▋     | 235/500 [02:22<02:26,  1.81it/s]"
     ]
    },
    {
     "name": "stdout",
     "output_type": "stream",
     "text": [
      "Geocodificación exitosa para Beijing: (39.9057136, 116.3912972)\n"
     ]
    },
    {
     "name": "stderr",
     "output_type": "stream",
     "text": [
      "Geocodificando direcciones:  47%|████▋     | 236/500 [02:22<02:05,  2.11it/s]"
     ]
    },
    {
     "name": "stdout",
     "output_type": "stream",
     "text": [
      "Geocodificación exitosa para Pichasca: (-30.3946623, -70.8708931)\n"
     ]
    },
    {
     "name": "stderr",
     "output_type": "stream",
     "text": [
      "Geocodificando direcciones:  47%|████▋     | 237/500 [02:23<02:18,  1.90it/s]"
     ]
    },
    {
     "name": "stdout",
     "output_type": "stream",
     "text": [
      "No se encontró ubicación para centro educativo Inacap.\n"
     ]
    },
    {
     "name": "stderr",
     "output_type": "stream",
     "text": [
      "Geocodificando direcciones:  48%|████▊     | 238/500 [02:24<02:10,  2.01it/s]"
     ]
    },
    {
     "name": "stdout",
     "output_type": "stream",
     "text": [
      "Geocodificación exitosa para Chile: (-31.7613365, -71.3187697)\n"
     ]
    },
    {
     "name": "stderr",
     "output_type": "stream",
     "text": [
      "Geocodificando direcciones:  48%|████▊     | 239/500 [02:24<02:25,  1.80it/s]"
     ]
    },
    {
     "name": "stdout",
     "output_type": "stream",
     "text": [
      "Geocodificación exitosa para Clínica Alemana de Santiago: (-33.3919994, -70.5726187)\n"
     ]
    },
    {
     "name": "stderr",
     "output_type": "stream",
     "text": [
      "Geocodificando direcciones:  48%|████▊     | 240/500 [02:25<02:08,  2.03it/s]"
     ]
    },
    {
     "name": "stdout",
     "output_type": "stream",
     "text": [
      "No se encontró ubicación para Avengers: End Game.\n"
     ]
    },
    {
     "name": "stderr",
     "output_type": "stream",
     "text": [
      "Geocodificando direcciones:  48%|████▊     | 241/500 [02:27<04:37,  1.07s/it]"
     ]
    },
    {
     "name": "stdout",
     "output_type": "stream",
     "text": [
      "No se encontró ubicación para Universidad de Valencia en España.\n"
     ]
    },
    {
     "name": "stderr",
     "output_type": "stream",
     "text": [
      "Geocodificando direcciones:  48%|████▊     | 242/500 [02:27<03:34,  1.20it/s]"
     ]
    },
    {
     "name": "stdout",
     "output_type": "stream",
     "text": [
      "Geocodificación exitosa para Temuco: (-38.7362611, -72.590546)\n"
     ]
    },
    {
     "name": "stderr",
     "output_type": "stream",
     "text": [
      "Geocodificando direcciones:  49%|████▊     | 243/500 [02:28<03:27,  1.24it/s]"
     ]
    },
    {
     "name": "stdout",
     "output_type": "stream",
     "text": [
      "Geocodificación exitosa para Butler Pensilvania Estados Unidos: (40.86108, -79.895197)\n"
     ]
    },
    {
     "name": "stderr",
     "output_type": "stream",
     "text": [
      "Geocodificando direcciones:  49%|████▉     | 244/500 [02:29<03:40,  1.16it/s]"
     ]
    },
    {
     "name": "stdout",
     "output_type": "stream",
     "text": [
      "No se encontró ubicación para distintas comunas del país.\n"
     ]
    },
    {
     "name": "stderr",
     "output_type": "stream",
     "text": [
      "Geocodificando direcciones:  49%|████▉     | 245/500 [02:29<02:55,  1.46it/s]"
     ]
    },
    {
     "name": "stdout",
     "output_type": "stream",
     "text": [
      "Geocodificación exitosa para Universidad de Harvard: (42.365743249999994, -71.12221394207614)\n"
     ]
    },
    {
     "name": "stderr",
     "output_type": "stream",
     "text": [
      "Geocodificando direcciones:  49%|████▉     | 246/500 [02:30<02:53,  1.46it/s]"
     ]
    },
    {
     "name": "stdout",
     "output_type": "stream",
     "text": [
      "Geocodificación exitosa para Rostov: (47.6222451, 40.7957942)\n"
     ]
    },
    {
     "name": "stderr",
     "output_type": "stream",
     "text": [
      "Geocodificando direcciones:  49%|████▉     | 247/500 [02:30<02:37,  1.61it/s]"
     ]
    },
    {
     "name": "stdout",
     "output_type": "stream",
     "text": [
      "No se encontró ubicación para Casa del Comunero de Ovalle.\n"
     ]
    },
    {
     "name": "stderr",
     "output_type": "stream",
     "text": [
      "Geocodificando direcciones:  50%|████▉     | 248/500 [02:31<02:22,  1.77it/s]"
     ]
    },
    {
     "name": "stdout",
     "output_type": "stream",
     "text": [
      "Geocodificación exitosa para Fundo El Rebaño Quilpué: (-33.0260104, -71.45735)\n"
     ]
    },
    {
     "name": "stderr",
     "output_type": "stream",
     "text": [
      "Geocodificando direcciones:  50%|████▉     | 249/500 [02:31<02:14,  1.86it/s]"
     ]
    },
    {
     "name": "stdout",
     "output_type": "stream",
     "text": [
      "No se encontró ubicación para Bienestar El Comercio.\n"
     ]
    },
    {
     "name": "stderr",
     "output_type": "stream",
     "text": [
      "Geocodificando direcciones:  50%|█████     | 250/500 [02:32<02:16,  1.83it/s]"
     ]
    },
    {
     "name": "stdout",
     "output_type": "stream",
     "text": [
      "No se encontró ubicación para Fiesta de La Pampilla.\n"
     ]
    },
    {
     "name": "stderr",
     "output_type": "stream",
     "text": [
      "Geocodificando direcciones:  50%|█████     | 251/500 [02:32<02:15,  1.84it/s]"
     ]
    },
    {
     "name": "stdout",
     "output_type": "stream",
     "text": [
      "Geocodificación exitosa para la D23: (47.3637378, -1.187471)\n"
     ]
    },
    {
     "name": "stderr",
     "output_type": "stream",
     "text": [
      "Geocodificando direcciones:  50%|█████     | 252/500 [02:33<02:15,  1.83it/s]"
     ]
    },
    {
     "name": "stdout",
     "output_type": "stream",
     "text": [
      "Geocodificación exitosa para diciembre del 2022 a marzo del 2023: (-16.5452092, -68.221775)\n"
     ]
    },
    {
     "name": "stderr",
     "output_type": "stream",
     "text": [
      "Geocodificando direcciones:  51%|█████     | 253/500 [02:33<01:54,  2.15it/s]"
     ]
    },
    {
     "name": "stdout",
     "output_type": "stream",
     "text": [
      "Geocodificación exitosa para Región de Valparaíso: (-32.5976089, -70.8529753)\n"
     ]
    },
    {
     "name": "stderr",
     "output_type": "stream",
     "text": [
      "Geocodificando direcciones:  51%|█████     | 254/500 [02:34<02:33,  1.61it/s]"
     ]
    },
    {
     "name": "stdout",
     "output_type": "stream",
     "text": [
      "No se encontró ubicación para Salón Cristal de la sede de Nacional.\n"
     ]
    },
    {
     "name": "stderr",
     "output_type": "stream",
     "text": [
      "Geocodificando direcciones:  51%|█████     | 255/500 [02:35<02:07,  1.92it/s]"
     ]
    },
    {
     "name": "stdout",
     "output_type": "stream",
     "text": [
      "Geocodificación exitosa para Uruguay: (-32.8755548, -56.0201525)\n"
     ]
    },
    {
     "name": "stderr",
     "output_type": "stream",
     "text": [
      "Geocodificando direcciones:  51%|█████     | 256/500 [02:35<02:18,  1.76it/s]"
     ]
    },
    {
     "name": "stdout",
     "output_type": "stream",
     "text": [
      "No se encontró ubicación para galería Contacto de Santiago.\n"
     ]
    },
    {
     "name": "stderr",
     "output_type": "stream",
     "text": [
      "Geocodificando direcciones:  51%|█████▏    | 257/500 [02:36<02:05,  1.93it/s]"
     ]
    },
    {
     "name": "stdout",
     "output_type": "stream",
     "text": [
      "Geocodificación exitosa para Dubái: (25.2653471, 55.2924914)\n"
     ]
    },
    {
     "name": "stderr",
     "output_type": "stream",
     "text": [
      "Geocodificando direcciones:  52%|█████▏    | 258/500 [02:36<02:10,  1.86it/s]"
     ]
    },
    {
     "name": "stdout",
     "output_type": "stream",
     "text": [
      "No se encontró ubicación para las oficinas de Hermosilla.\n"
     ]
    },
    {
     "name": "stderr",
     "output_type": "stream",
     "text": [
      "Geocodificando direcciones:  52%|█████▏    | 259/500 [02:37<01:54,  2.11it/s]"
     ]
    },
    {
     "name": "stdout",
     "output_type": "stream",
     "text": [
      "Geocodificación exitosa para Santiago: (-33.4377756, -70.6504502)\n"
     ]
    },
    {
     "name": "stderr",
     "output_type": "stream",
     "text": [
      "Geocodificando direcciones:  52%|█████▏    | 260/500 [02:37<01:55,  2.08it/s]"
     ]
    },
    {
     "name": "stdout",
     "output_type": "stream",
     "text": [
      "Geocodificación exitosa para Universidad de Harvard: (42.365743249999994, -71.12221394207614)\n"
     ]
    },
    {
     "name": "stderr",
     "output_type": "stream",
     "text": [
      "Geocodificando direcciones:  52%|█████▏    | 261/500 [02:38<02:04,  1.93it/s]"
     ]
    },
    {
     "name": "stdout",
     "output_type": "stream",
     "text": [
      "Geocodificación exitosa para todo Chile: (-34.7399914, -71.1863771)\n"
     ]
    },
    {
     "name": "stderr",
     "output_type": "stream",
     "text": [
      "Geocodificando direcciones:  52%|█████▏    | 262/500 [02:39<02:29,  1.59it/s]"
     ]
    },
    {
     "name": "stdout",
     "output_type": "stream",
     "text": [
      "No se encontró ubicación para Ensenada en la Región de Los Lagos.\n"
     ]
    },
    {
     "name": "stderr",
     "output_type": "stream",
     "text": [
      "Geocodificando direcciones:  53%|█████▎    | 263/500 [02:39<02:09,  1.83it/s]"
     ]
    },
    {
     "name": "stdout",
     "output_type": "stream",
     "text": [
      "Geocodificación exitosa para Collilelfu en Los Lagos: (-39.8609456, -72.8150753265059)\n"
     ]
    },
    {
     "name": "stderr",
     "output_type": "stream",
     "text": [
      "Geocodificando direcciones:  53%|█████▎    | 264/500 [02:39<01:58,  1.98it/s]"
     ]
    },
    {
     "name": "stdout",
     "output_type": "stream",
     "text": [
      "Geocodificación exitosa para Socaire: (-23.5902062, -67.8902747)\n"
     ]
    },
    {
     "name": "stderr",
     "output_type": "stream",
     "text": [
      "Geocodificando direcciones:  53%|█████▎    | 265/500 [02:40<02:27,  1.59it/s]"
     ]
    },
    {
     "name": "stdout",
     "output_type": "stream",
     "text": [
      "Geocodificación exitosa para Restaurant La Ruca de San Felipe: (-32.8026907, -70.6782455)\n"
     ]
    },
    {
     "name": "stderr",
     "output_type": "stream",
     "text": [
      "Geocodificando direcciones:  53%|█████▎    | 266/500 [02:41<02:11,  1.78it/s]"
     ]
    },
    {
     "name": "stdout",
     "output_type": "stream",
     "text": [
      "Geocodificación exitosa para la Franja de Gaza: (20.9510425, -101.5027483)\n"
     ]
    },
    {
     "name": "stderr",
     "output_type": "stream",
     "text": [
      "Geocodificando direcciones:  53%|█████▎    | 267/500 [02:41<01:59,  1.94it/s]"
     ]
    },
    {
     "name": "stdout",
     "output_type": "stream",
     "text": [
      "Geocodificación exitosa para 8 de marzo: (20.0102513, -75.7564948)\n"
     ]
    },
    {
     "name": "stderr",
     "output_type": "stream",
     "text": [
      "Geocodificando direcciones:  54%|█████▎    | 268/500 [02:42<02:00,  1.92it/s]"
     ]
    },
    {
     "name": "stdout",
     "output_type": "stream",
     "text": [
      "No se encontró ubicación para Las regiones del Ñuble.\n"
     ]
    },
    {
     "name": "stderr",
     "output_type": "stream",
     "text": [
      "Geocodificando direcciones:  54%|█████▍    | 269/500 [02:42<01:58,  1.95it/s]"
     ]
    },
    {
     "name": "stdout",
     "output_type": "stream",
     "text": [
      "Geocodificación exitosa para Valparaíso: (-33.0458456, -71.6196749)\n"
     ]
    },
    {
     "name": "stderr",
     "output_type": "stream",
     "text": [
      "Geocodificando direcciones:  54%|█████▍    | 270/500 [02:43<01:57,  1.95it/s]"
     ]
    },
    {
     "name": "stdout",
     "output_type": "stream",
     "text": [
      "No se encontró ubicación para Día del Zurdo.\n"
     ]
    },
    {
     "name": "stderr",
     "output_type": "stream",
     "text": [
      "Geocodificando direcciones:  54%|█████▍    | 271/500 [02:43<01:53,  2.02it/s]"
     ]
    },
    {
     "name": "stdout",
     "output_type": "stream",
     "text": [
      "Geocodificación exitosa para Chile: (-31.7613365, -71.3187697)\n"
     ]
    },
    {
     "name": "stderr",
     "output_type": "stream",
     "text": [
      "Geocodificando direcciones:  54%|█████▍    | 272/500 [02:44<01:52,  2.03it/s]"
     ]
    },
    {
     "name": "stdout",
     "output_type": "stream",
     "text": [
      "Geocodificación exitosa para 28 de agosto: (25.6455557, -102.1114604)\n"
     ]
    },
    {
     "name": "stderr",
     "output_type": "stream",
     "text": [
      "Geocodificando direcciones:  55%|█████▍    | 273/500 [02:44<01:52,  2.01it/s]"
     ]
    },
    {
     "name": "stdout",
     "output_type": "stream",
     "text": [
      "Geocodificación exitosa para Bajos de Mena: (-33.6252424, -70.6125547)\n"
     ]
    },
    {
     "name": "stderr",
     "output_type": "stream",
     "text": [
      "Geocodificando direcciones:  55%|█████▍    | 274/500 [02:45<01:56,  1.94it/s]"
     ]
    },
    {
     "name": "stdout",
     "output_type": "stream",
     "text": [
      "Geocodificación exitosa para Valparaíso: (-33.0458456, -71.6196749)\n"
     ]
    },
    {
     "name": "stderr",
     "output_type": "stream",
     "text": [
      "Geocodificando direcciones:  55%|█████▌    | 275/500 [02:45<01:59,  1.88it/s]"
     ]
    },
    {
     "name": "stdout",
     "output_type": "stream",
     "text": [
      "No se encontró ubicación para la calle Coquimbo con San Diego.\n"
     ]
    },
    {
     "name": "stderr",
     "output_type": "stream",
     "text": [
      "Geocodificando direcciones:  55%|█████▌    | 276/500 [02:46<02:01,  1.84it/s]"
     ]
    },
    {
     "name": "stdout",
     "output_type": "stream",
     "text": [
      "No se encontró ubicación para Sala Los Avellanos ubicada en Francisco Salazar 1145.\n"
     ]
    },
    {
     "name": "stderr",
     "output_type": "stream",
     "text": [
      "Geocodificando direcciones:  55%|█████▌    | 277/500 [02:46<01:44,  2.14it/s]"
     ]
    },
    {
     "name": "stdout",
     "output_type": "stream",
     "text": [
      "Geocodificación exitosa para Parque de los Príncipes: (37.373935900000006, -6.006222033097703)\n"
     ]
    },
    {
     "name": "stderr",
     "output_type": "stream",
     "text": [
      "Geocodificando direcciones:  56%|█████▌    | 278/500 [02:47<01:46,  2.08it/s]"
     ]
    },
    {
     "name": "stdout",
     "output_type": "stream",
     "text": [
      "Geocodificación exitosa para Escondida: (38.1261885, -84.2279858)\n"
     ]
    },
    {
     "name": "stderr",
     "output_type": "stream",
     "text": [
      "Geocodificando direcciones:  56%|█████▌    | 279/500 [02:47<02:11,  1.69it/s]"
     ]
    },
    {
     "name": "stdout",
     "output_type": "stream",
     "text": [
      "No se encontró ubicación para 2836 km al este de Los Andes.\n"
     ]
    },
    {
     "name": "stderr",
     "output_type": "stream",
     "text": [
      "Geocodificando direcciones:  56%|█████▌    | 280/500 [02:48<01:47,  2.05it/s]"
     ]
    },
    {
     "name": "stdout",
     "output_type": "stream",
     "text": [
      "No se encontró ubicación para la publicación de las nóminas oficiales.\n"
     ]
    },
    {
     "name": "stderr",
     "output_type": "stream",
     "text": [
      "Geocodificando direcciones:  56%|█████▌    | 281/500 [02:48<01:50,  1.98it/s]"
     ]
    },
    {
     "name": "stdout",
     "output_type": "stream",
     "text": [
      "No se encontró ubicación para Tohoku Oki.\n"
     ]
    },
    {
     "name": "stderr",
     "output_type": "stream",
     "text": [
      "Geocodificando direcciones:  56%|█████▋    | 282/500 [02:49<01:58,  1.84it/s]"
     ]
    },
    {
     "name": "stdout",
     "output_type": "stream",
     "text": [
      "Geocodificación exitosa para Región Metropolitana: (-33.5739341, -70.6205518)\n"
     ]
    },
    {
     "name": "stderr",
     "output_type": "stream",
     "text": [
      "Geocodificando direcciones:  57%|█████▋    | 283/500 [02:49<01:44,  2.07it/s]"
     ]
    },
    {
     "name": "stdout",
     "output_type": "stream",
     "text": [
      "Geocodificación exitosa para Kursk: (51.7309249, 36.1923123)\n"
     ]
    },
    {
     "name": "stderr",
     "output_type": "stream",
     "text": [
      "Geocodificando direcciones:  57%|█████▋    | 284/500 [02:50<01:47,  2.02it/s]"
     ]
    },
    {
     "name": "stdout",
     "output_type": "stream",
     "text": [
      "Geocodificación exitosa para Castro: (34.4952536, -102.2592314)\n"
     ]
    },
    {
     "name": "stderr",
     "output_type": "stream",
     "text": [
      "Geocodificando direcciones:  57%|█████▋    | 285/500 [02:50<01:46,  2.01it/s]"
     ]
    },
    {
     "name": "stdout",
     "output_type": "stream",
     "text": [
      "Geocodificación exitosa para España?: (39.3260685, -4.8379791)\n"
     ]
    },
    {
     "name": "stderr",
     "output_type": "stream",
     "text": [
      "Geocodificando direcciones:  57%|█████▋    | 286/500 [02:51<01:46,  2.00it/s]"
     ]
    },
    {
     "name": "stdout",
     "output_type": "stream",
     "text": [
      "Geocodificación exitosa para Friuli: (46.151042, 13.055904)\n"
     ]
    },
    {
     "name": "stderr",
     "output_type": "stream",
     "text": [
      "Geocodificando direcciones:  57%|█████▋    | 287/500 [02:51<01:45,  2.02it/s]"
     ]
    },
    {
     "name": "stdout",
     "output_type": "stream",
     "text": [
      "No se encontró ubicación para cruce Barnet.\n"
     ]
    },
    {
     "name": "stderr",
     "output_type": "stream",
     "text": [
      "Geocodificando direcciones:  58%|█████▊    | 288/500 [02:52<01:45,  2.02it/s]"
     ]
    },
    {
     "name": "stdout",
     "output_type": "stream",
     "text": [
      "Geocodificación exitosa para La Araucanía: (-40.9071314, -73.157326)\n"
     ]
    },
    {
     "name": "stderr",
     "output_type": "stream",
     "text": [
      "Geocodificando direcciones:  58%|█████▊    | 289/500 [02:52<01:47,  1.97it/s]"
     ]
    },
    {
     "name": "stdout",
     "output_type": "stream",
     "text": [
      "Geocodificación exitosa para Los Gatos California: (37.226611, -121.9746797)\n"
     ]
    },
    {
     "name": "stderr",
     "output_type": "stream",
     "text": [
      "Geocodificando direcciones:  58%|█████▊    | 290/500 [02:53<01:43,  2.03it/s]"
     ]
    },
    {
     "name": "stdout",
     "output_type": "stream",
     "text": [
      "No se encontró ubicación para cruce Barnet.\n"
     ]
    },
    {
     "name": "stderr",
     "output_type": "stream",
     "text": [
      "Geocodificando direcciones:  58%|█████▊    | 291/500 [02:54<02:09,  1.62it/s]"
     ]
    },
    {
     "name": "stdout",
     "output_type": "stream",
     "text": [
      "No se encontró ubicación para Santiago como en las distintas regiones de Chile.\n"
     ]
    },
    {
     "name": "stderr",
     "output_type": "stream",
     "text": [
      "Geocodificando direcciones:  58%|█████▊    | 292/500 [02:54<02:03,  1.68it/s]"
     ]
    },
    {
     "name": "stdout",
     "output_type": "stream",
     "text": [
      "No se encontró ubicación para el 4° Juzgado de Garantía de Santiago.\n"
     ]
    },
    {
     "name": "stderr",
     "output_type": "stream",
     "text": [
      "Geocodificando direcciones:  59%|█████▊    | 293/500 [02:55<02:02,  1.69it/s]"
     ]
    },
    {
     "name": "stdout",
     "output_type": "stream",
     "text": [
      "Geocodificación exitosa para centro de Santiago Región Metropolitana: (-33.4705035, -70.5726601)\n"
     ]
    },
    {
     "name": "stderr",
     "output_type": "stream",
     "text": [
      "Geocodificando direcciones:  59%|█████▉    | 294/500 [02:55<01:42,  2.01it/s]"
     ]
    },
    {
     "name": "stdout",
     "output_type": "stream",
     "text": [
      "No se encontró ubicación para resultadosconvzlacom\".\n"
     ]
    },
    {
     "name": "stderr",
     "output_type": "stream",
     "text": [
      "Geocodificando direcciones:  59%|█████▉    | 295/500 [02:56<02:08,  1.60it/s]"
     ]
    },
    {
     "name": "stdout",
     "output_type": "stream",
     "text": [
      "No se encontró ubicación para Teatro Caupolicán en la comuna de Santiago.\n"
     ]
    },
    {
     "name": "stderr",
     "output_type": "stream",
     "text": [
      "Geocodificando direcciones:  59%|█████▉    | 296/500 [02:56<01:50,  1.84it/s]"
     ]
    },
    {
     "name": "stdout",
     "output_type": "stream",
     "text": [
      "Geocodificación exitosa para Mendoza: (-34.787093049999996, -68.43818677312292)\n"
     ]
    },
    {
     "name": "stderr",
     "output_type": "stream",
     "text": [
      "Geocodificando direcciones:  59%|█████▉    | 297/500 [02:57<02:01,  1.68it/s]"
     ]
    },
    {
     "name": "stdout",
     "output_type": "stream",
     "text": [
      "No se encontró ubicación para una sinagoga de La Grande-Motte.\n"
     ]
    },
    {
     "name": "stderr",
     "output_type": "stream",
     "text": [
      "Geocodificando direcciones:  60%|█████▉    | 298/500 [02:57<01:49,  1.84it/s]"
     ]
    },
    {
     "name": "stdout",
     "output_type": "stream",
     "text": [
      "Geocodificación exitosa para Región Metropolitana: (-33.5739341, -70.6205518)\n"
     ]
    },
    {
     "name": "stderr",
     "output_type": "stream",
     "text": [
      "Geocodificando direcciones:  60%|█████▉    | 299/500 [02:58<01:36,  2.08it/s]"
     ]
    },
    {
     "name": "stdout",
     "output_type": "stream",
     "text": [
      "Geocodificación exitosa para región Magallanes: (-53.3527518, -71.5547782)\n"
     ]
    },
    {
     "name": "stderr",
     "output_type": "stream",
     "text": [
      "Geocodificando direcciones:  60%|██████    | 300/500 [02:58<01:41,  1.96it/s]"
     ]
    },
    {
     "name": "stdout",
     "output_type": "stream",
     "text": [
      "Geocodificación exitosa para Minnesota: (45.9896587, -94.6113288)\n"
     ]
    },
    {
     "name": "stderr",
     "output_type": "stream",
     "text": [
      "Geocodificando direcciones:  60%|██████    | 301/500 [02:59<01:37,  2.04it/s]"
     ]
    },
    {
     "name": "stdout",
     "output_type": "stream",
     "text": [
      "Geocodificación exitosa para televisión abierta: (-34.5494331, -59.151728)\n"
     ]
    },
    {
     "name": "stderr",
     "output_type": "stream",
     "text": [
      "Geocodificando direcciones:  60%|██████    | 302/500 [02:59<01:39,  1.99it/s]"
     ]
    },
    {
     "name": "stdout",
     "output_type": "stream",
     "text": [
      "Geocodificación exitosa para la capital: (25.672851549999997, -100.29938002483908)\n"
     ]
    },
    {
     "name": "stderr",
     "output_type": "stream",
     "text": [
      "Geocodificando direcciones:  61%|██████    | 303/500 [03:00<01:34,  2.08it/s]"
     ]
    },
    {
     "name": "stdout",
     "output_type": "stream",
     "text": [
      "No se encontró ubicación para la Cámara de Diputadas y Diputados.\n"
     ]
    },
    {
     "name": "stderr",
     "output_type": "stream",
     "text": [
      "Geocodificando direcciones:  61%|██████    | 304/500 [03:00<01:38,  1.99it/s]"
     ]
    },
    {
     "name": "stdout",
     "output_type": "stream",
     "text": [
      "Geocodificación exitosa para Sabah: (5.4257359, 117.0326392)\n"
     ]
    },
    {
     "name": "stderr",
     "output_type": "stream",
     "text": [
      "Geocodificando direcciones:  61%|██████    | 305/500 [03:01<01:40,  1.93it/s]"
     ]
    },
    {
     "name": "stdout",
     "output_type": "stream",
     "text": [
      "Geocodificación exitosa para Chile: (-31.7613365, -71.3187697)\n"
     ]
    },
    {
     "name": "stderr",
     "output_type": "stream",
     "text": [
      "Geocodificando direcciones:  61%|██████    | 306/500 [03:01<01:34,  2.05it/s]"
     ]
    },
    {
     "name": "stdout",
     "output_type": "stream",
     "text": [
      "Geocodificación exitosa para Biobío: (-37.3391407, -72.4106825)\n"
     ]
    },
    {
     "name": "stderr",
     "output_type": "stream",
     "text": [
      "Geocodificando direcciones:  61%|██████▏   | 307/500 [03:02<01:40,  1.91it/s]"
     ]
    },
    {
     "name": "stdout",
     "output_type": "stream",
     "text": [
      "Geocodificación exitosa para en cines: (41.6236234, -4.7511278)\n"
     ]
    },
    {
     "name": "stderr",
     "output_type": "stream",
     "text": [
      "Geocodificando direcciones:  62%|██████▏   | 308/500 [03:02<01:34,  2.04it/s]"
     ]
    },
    {
     "name": "stdout",
     "output_type": "stream",
     "text": [
      "Geocodificación exitosa para Paraguay: (-23.3165935, -58.1693445)\n"
     ]
    },
    {
     "name": "stderr",
     "output_type": "stream",
     "text": [
      "Geocodificando direcciones:  62%|██████▏   | 309/500 [03:03<01:38,  1.95it/s]"
     ]
    },
    {
     "name": "stdout",
     "output_type": "stream",
     "text": [
      "Geocodificación exitosa para nuestro país”: (38.0945794, -0.9641507880896637)\n"
     ]
    },
    {
     "name": "stderr",
     "output_type": "stream",
     "text": [
      "Geocodificando direcciones:  62%|██████▏   | 310/500 [03:03<01:31,  2.09it/s]"
     ]
    },
    {
     "name": "stdout",
     "output_type": "stream",
     "text": [
      "Geocodificación exitosa para fiestas patrias: (-32.8957104, -71.2693051)\n"
     ]
    },
    {
     "name": "stderr",
     "output_type": "stream",
     "text": [
      "Geocodificando direcciones:  62%|██████▏   | 311/500 [03:04<01:37,  1.94it/s]"
     ]
    },
    {
     "name": "stdout",
     "output_type": "stream",
     "text": [
      "No se encontró ubicación para Parque Carabobo en Caracas.\n"
     ]
    },
    {
     "name": "stderr",
     "output_type": "stream",
     "text": [
      "Geocodificando direcciones:  62%|██████▏   | 312/500 [03:05<01:46,  1.77it/s]"
     ]
    },
    {
     "name": "stdout",
     "output_type": "stream",
     "text": [
      "Geocodificación exitosa para San Luis de Quillota: (-32.8958591, -71.2480982)\n"
     ]
    },
    {
     "name": "stderr",
     "output_type": "stream",
     "text": [
      "Geocodificando direcciones:  63%|██████▎   | 313/500 [03:05<01:33,  1.99it/s]"
     ]
    },
    {
     "name": "stdout",
     "output_type": "stream",
     "text": [
      "No se encontró ubicación para sector oriente del Gran Santiago.\n"
     ]
    },
    {
     "name": "stderr",
     "output_type": "stream",
     "text": [
      "Geocodificando direcciones:  63%|██████▎   | 314/500 [03:05<01:37,  1.92it/s]"
     ]
    },
    {
     "name": "stdout",
     "output_type": "stream",
     "text": [
      "Geocodificación exitosa para la Franja de Gaza: (20.9510425, -101.5027483)\n"
     ]
    },
    {
     "name": "stderr",
     "output_type": "stream",
     "text": [
      "Geocodificando direcciones:  63%|██████▎   | 315/500 [03:06<01:28,  2.10it/s]"
     ]
    },
    {
     "name": "stdout",
     "output_type": "stream",
     "text": [
      "Geocodificación exitosa para Kiev: (50.4500336, 30.5241361)\n"
     ]
    },
    {
     "name": "stderr",
     "output_type": "stream",
     "text": [
      "Geocodificando direcciones:  63%|██████▎   | 316/500 [03:06<01:31,  2.01it/s]"
     ]
    },
    {
     "name": "stdout",
     "output_type": "stream",
     "text": [
      "Geocodificación exitosa para Viña del Mar: (-33.0244535, -71.5517636)\n"
     ]
    },
    {
     "name": "stderr",
     "output_type": "stream",
     "text": [
      "Geocodificando direcciones:  63%|██████▎   | 317/500 [03:07<01:26,  2.11it/s]"
     ]
    },
    {
     "name": "stdout",
     "output_type": "stream",
     "text": [
      "Geocodificación exitosa para Estados Unidos: (39.7837304, -100.445882)\n"
     ]
    },
    {
     "name": "stderr",
     "output_type": "stream",
     "text": [
      "Geocodificando direcciones:  64%|██████▎   | 318/500 [03:07<01:33,  1.95it/s]"
     ]
    },
    {
     "name": "stdout",
     "output_type": "stream",
     "text": [
      "Geocodificación exitosa para estadio Alejandro Villanueva: (-12.0685041, -77.0229272261725)\n"
     ]
    },
    {
     "name": "stderr",
     "output_type": "stream",
     "text": [
      "Geocodificando direcciones:  64%|██████▍   | 319/500 [03:08<01:32,  1.95it/s]"
     ]
    },
    {
     "name": "stdout",
     "output_type": "stream",
     "text": [
      "No se encontró ubicación para los tiempos más oscuros de la dictadura.\n"
     ]
    },
    {
     "name": "stderr",
     "output_type": "stream",
     "text": [
      "Geocodificando direcciones:  64%|██████▍   | 320/500 [03:08<01:28,  2.03it/s]"
     ]
    },
    {
     "name": "stdout",
     "output_type": "stream",
     "text": [
      "Geocodificación exitosa para Lautaro: (-38.534312, -72.4350504)\n"
     ]
    },
    {
     "name": "stderr",
     "output_type": "stream",
     "text": [
      "Geocodificando direcciones:  64%|██████▍   | 321/500 [03:09<01:29,  2.00it/s]"
     ]
    },
    {
     "name": "stdout",
     "output_type": "stream",
     "text": [
      "Geocodificación exitosa para Chile: (-31.7613365, -71.3187697)\n"
     ]
    },
    {
     "name": "stderr",
     "output_type": "stream",
     "text": [
      "Geocodificando direcciones:  64%|██████▍   | 322/500 [03:10<01:38,  1.81it/s]"
     ]
    },
    {
     "name": "stdout",
     "output_type": "stream",
     "text": [
      "Geocodificación exitosa para August 7 2024: (51.4947361, 6.7717338)\n"
     ]
    },
    {
     "name": "stderr",
     "output_type": "stream",
     "text": [
      "Geocodificando direcciones:  65%|██████▍   | 323/500 [03:10<01:25,  2.07it/s]"
     ]
    },
    {
     "name": "stdout",
     "output_type": "stream",
     "text": [
      "Geocodificación exitosa para Los Lagos: (-42.300844, -73.105387)\n"
     ]
    },
    {
     "name": "stderr",
     "output_type": "stream",
     "text": [
      "Geocodificando direcciones:  65%|██████▍   | 324/500 [03:10<01:22,  2.13it/s]"
     ]
    },
    {
     "name": "stdout",
     "output_type": "stream",
     "text": [
      "Geocodificación exitosa para Siderúrgica Huachipato: (-34.39090775, -70.83923317547789)\n"
     ]
    },
    {
     "name": "stderr",
     "output_type": "stream",
     "text": [
      "Geocodificando direcciones:  65%|██████▌   | 325/500 [03:11<01:27,  2.01it/s]"
     ]
    },
    {
     "name": "stdout",
     "output_type": "stream",
     "text": [
      "Geocodificación exitosa para Bar Santo Remedio: (-0.1990132, -78.4879923)\n"
     ]
    },
    {
     "name": "stderr",
     "output_type": "stream",
     "text": [
      "Geocodificando direcciones:  65%|██████▌   | 326/500 [03:12<01:41,  1.72it/s]"
     ]
    },
    {
     "name": "stdout",
     "output_type": "stream",
     "text": [
      "No se encontró ubicación para pasaje Santa Graciela de la capital regional.\n"
     ]
    },
    {
     "name": "stderr",
     "output_type": "stream",
     "text": [
      "Geocodificando direcciones:  65%|██████▌   | 327/500 [03:12<01:26,  2.01it/s]"
     ]
    },
    {
     "name": "stdout",
     "output_type": "stream",
     "text": [
      "Geocodificación exitosa para Punta Arenas: (-53.1625688, -70.907822)\n"
     ]
    },
    {
     "name": "stderr",
     "output_type": "stream",
     "text": [
      "Geocodificando direcciones:  66%|██████▌   | 328/500 [03:12<01:24,  2.05it/s]"
     ]
    },
    {
     "name": "stdout",
     "output_type": "stream",
     "text": [
      "Geocodificación exitosa para su casa: (18.59715405, 73.76613600333516)\n"
     ]
    },
    {
     "name": "stderr",
     "output_type": "stream",
     "text": [
      "Geocodificando direcciones:  66%|██████▌   | 329/500 [03:14<02:34,  1.11it/s]"
     ]
    },
    {
     "name": "stdout",
     "output_type": "stream",
     "text": [
      "Geocodificación exitosa para Bayer Leverkusen: (51.0222804, 6.9885981)\n"
     ]
    },
    {
     "name": "stderr",
     "output_type": "stream",
     "text": [
      "Geocodificando direcciones:  66%|██████▌   | 330/500 [03:15<02:12,  1.29it/s]"
     ]
    },
    {
     "name": "stdout",
     "output_type": "stream",
     "text": [
      "Geocodificación exitosa para La Vega Central: (-33.42924855, -70.64934272039619)\n"
     ]
    },
    {
     "name": "stderr",
     "output_type": "stream",
     "text": [
      "Geocodificando direcciones:  66%|██████▌   | 331/500 [03:15<01:56,  1.45it/s]"
     ]
    },
    {
     "name": "stdout",
     "output_type": "stream",
     "text": [
      "Geocodificación exitosa para palacio de La Moneda: (-33.442820999999995, -70.65421248096878)\n"
     ]
    },
    {
     "name": "stderr",
     "output_type": "stream",
     "text": [
      "Geocodificando direcciones:  66%|██████▋   | 332/500 [03:16<01:58,  1.42it/s]"
     ]
    },
    {
     "name": "stdout",
     "output_type": "stream",
     "text": [
      "No se encontró ubicación para Zapallar en la Región de Valparaíso.\n"
     ]
    },
    {
     "name": "stderr",
     "output_type": "stream",
     "text": [
      "Geocodificando direcciones:  67%|██████▋   | 333/500 [03:16<01:38,  1.70it/s]"
     ]
    },
    {
     "name": "stdout",
     "output_type": "stream",
     "text": [
      "Geocodificación exitosa para Chile: (-31.7613365, -71.3187697)\n"
     ]
    },
    {
     "name": "stderr",
     "output_type": "stream",
     "text": [
      "Geocodificando direcciones:  67%|██████▋   | 334/500 [03:17<01:39,  1.67it/s]"
     ]
    },
    {
     "name": "stdout",
     "output_type": "stream",
     "text": [
      "No se encontró ubicación para confitería Torres del Centro Cultural Palacio de La Moneda.\n"
     ]
    },
    {
     "name": "stderr",
     "output_type": "stream",
     "text": [
      "Geocodificando direcciones:  67%|██████▋   | 335/500 [03:17<01:26,  1.90it/s]"
     ]
    },
    {
     "name": "stdout",
     "output_type": "stream",
     "text": [
      "Geocodificación exitosa para El lago Calafquén: (-38.6744844, -72.2197899)\n"
     ]
    },
    {
     "name": "stderr",
     "output_type": "stream",
     "text": [
      "Geocodificando direcciones:  67%|██████▋   | 336/500 [03:18<01:27,  1.87it/s]"
     ]
    },
    {
     "name": "stdout",
     "output_type": "stream",
     "text": [
      "Geocodificación exitosa para Aeropuerto de Santiago: (-33.38939795, -70.79415901711005)\n"
     ]
    },
    {
     "name": "stderr",
     "output_type": "stream",
     "text": [
      "Geocodificando direcciones:  67%|██████▋   | 337/500 [03:19<01:35,  1.70it/s]"
     ]
    },
    {
     "name": "stdout",
     "output_type": "stream",
     "text": [
      "Geocodificación exitosa para Clínica de Las Condes-: (-33.39991605, -70.50964924313772)\n"
     ]
    },
    {
     "name": "stderr",
     "output_type": "stream",
     "text": [
      "Geocodificando direcciones:  68%|██████▊   | 338/500 [03:19<01:27,  1.84it/s]"
     ]
    },
    {
     "name": "stdout",
     "output_type": "stream",
     "text": [
      "No se encontró ubicación para Diario “Pulso” de La Tercera.\n"
     ]
    },
    {
     "name": "stderr",
     "output_type": "stream",
     "text": [
      "Geocodificando direcciones:  68%|██████▊   | 339/500 [03:19<01:24,  1.90it/s]"
     ]
    },
    {
     "name": "stdout",
     "output_type": "stream",
     "text": [
      "No se encontró ubicación para Festival Futbol Cine.\n"
     ]
    },
    {
     "name": "stderr",
     "output_type": "stream",
     "text": [
      "Geocodificando direcciones:  68%|██████▊   | 340/500 [03:20<01:19,  2.00it/s]"
     ]
    },
    {
     "name": "stdout",
     "output_type": "stream",
     "text": [
      "Geocodificación exitosa para París 2024: (-34.73311773469388, -58.44644124489796)\n"
     ]
    },
    {
     "name": "stderr",
     "output_type": "stream",
     "text": [
      "Geocodificando direcciones:  68%|██████▊   | 341/500 [03:20<01:16,  2.08it/s]"
     ]
    },
    {
     "name": "stdout",
     "output_type": "stream",
     "text": [
      "No se encontró ubicación para Tohoku Oki.\n"
     ]
    },
    {
     "name": "stderr",
     "output_type": "stream",
     "text": [
      "Geocodificando direcciones:  68%|██████▊   | 342/500 [03:21<01:19,  1.98it/s]"
     ]
    },
    {
     "name": "stdout",
     "output_type": "stream",
     "text": [
      "Geocodificación exitosa para Los Lagos: (-42.300844, -73.105387)\n"
     ]
    },
    {
     "name": "stderr",
     "output_type": "stream",
     "text": [
      "Geocodificando direcciones:  69%|██████▊   | 343/500 [03:23<02:34,  1.02it/s]"
     ]
    },
    {
     "name": "stdout",
     "output_type": "stream",
     "text": [
      "No se encontró ubicación para la superficie de la Tierra.\n"
     ]
    },
    {
     "name": "stderr",
     "output_type": "stream",
     "text": [
      "Geocodificando direcciones:  69%|██████▉   | 344/500 [03:24<02:23,  1.08it/s]"
     ]
    },
    {
     "name": "stdout",
     "output_type": "stream",
     "text": [
      "Geocodificación exitosa para Gas Andes: (-22.888051949999998, -43.27583304048018)\n"
     ]
    },
    {
     "name": "stderr",
     "output_type": "stream",
     "text": [
      "Geocodificando direcciones:  69%|██████▉   | 345/500 [03:24<01:53,  1.36it/s]"
     ]
    },
    {
     "name": "stdout",
     "output_type": "stream",
     "text": [
      "Geocodificación exitosa para Caracas: (10.5060934, -66.9146008)\n"
     ]
    },
    {
     "name": "stderr",
     "output_type": "stream",
     "text": [
      "Geocodificando direcciones:  69%|██████▉   | 346/500 [03:25<01:54,  1.35it/s]"
     ]
    },
    {
     "name": "stdout",
     "output_type": "stream",
     "text": [
      "No se encontró ubicación para 15 km al sur de Tocopilla.\n"
     ]
    },
    {
     "name": "stderr",
     "output_type": "stream",
     "text": [
      "Geocodificando direcciones:  69%|██████▉   | 347/500 [03:25<01:32,  1.66it/s]"
     ]
    },
    {
     "name": "stdout",
     "output_type": "stream",
     "text": [
      "Geocodificación exitosa para Escuela Pedro Pablo Lemaitre: (-53.142166950000004, -70.90440331775244)\n"
     ]
    },
    {
     "name": "stderr",
     "output_type": "stream",
     "text": [
      "Geocodificando direcciones:  70%|██████▉   | 348/500 [03:26<01:31,  1.66it/s]"
     ]
    },
    {
     "name": "stdout",
     "output_type": "stream",
     "text": [
      "Geocodificación exitosa para La Encrucijada de Turmero: (10.2097023, -67.4822136)\n"
     ]
    },
    {
     "name": "stderr",
     "output_type": "stream",
     "text": [
      "Geocodificando direcciones:  70%|██████▉   | 349/500 [03:26<01:22,  1.83it/s]"
     ]
    },
    {
     "name": "stdout",
     "output_type": "stream",
     "text": [
      "Geocodificación exitosa para Colombia: (4.099917, -72.9088133)\n"
     ]
    },
    {
     "name": "stderr",
     "output_type": "stream",
     "text": [
      "Geocodificando direcciones:  70%|███████   | 350/500 [03:27<01:29,  1.68it/s]"
     ]
    },
    {
     "name": "stdout",
     "output_type": "stream",
     "text": [
      "No se encontró ubicación para }Miércoles 4 de Septiembre de 2024.\n"
     ]
    },
    {
     "name": "stderr",
     "output_type": "stream",
     "text": [
      "Geocodificando direcciones:  70%|███████   | 351/500 [03:27<01:15,  1.97it/s]"
     ]
    },
    {
     "name": "stdout",
     "output_type": "stream",
     "text": [
      "No se encontró ubicación para cruce Barnet.\n"
     ]
    },
    {
     "name": "stderr",
     "output_type": "stream",
     "text": [
      "Geocodificando direcciones:  70%|███████   | 352/500 [03:28<01:15,  1.97it/s]"
     ]
    },
    {
     "name": "stdout",
     "output_type": "stream",
     "text": [
      "Geocodificación exitosa para Chile: (-31.7613365, -71.3187697)\n"
     ]
    },
    {
     "name": "stderr",
     "output_type": "stream",
     "text": [
      "Geocodificando direcciones:  71%|███████   | 353/500 [03:28<01:11,  2.05it/s]"
     ]
    },
    {
     "name": "stdout",
     "output_type": "stream",
     "text": [
      "Geocodificación exitosa para Estados Unidos: (39.7837304, -100.445882)\n"
     ]
    },
    {
     "name": "stderr",
     "output_type": "stream",
     "text": [
      "Geocodificando direcciones:  71%|███████   | 354/500 [03:29<01:20,  1.81it/s]"
     ]
    },
    {
     "name": "stdout",
     "output_type": "stream",
     "text": [
      "No se encontró ubicación para cuarto Juzgado de Garantía de Santiago.\n"
     ]
    },
    {
     "name": "stderr",
     "output_type": "stream",
     "text": [
      "Geocodificando direcciones:  71%|███████   | 355/500 [03:29<01:10,  2.06it/s]"
     ]
    },
    {
     "name": "stdout",
     "output_type": "stream",
     "text": [
      "No se encontró ubicación para Anexo Capitán Yáber.\n"
     ]
    },
    {
     "name": "stderr",
     "output_type": "stream",
     "text": [
      "Geocodificando direcciones:  71%|███████   | 356/500 [03:30<01:19,  1.81it/s]"
     ]
    },
    {
     "name": "stdout",
     "output_type": "stream",
     "text": [
      "No se encontró ubicación para Juegos Olímpicos de París 2024.\n"
     ]
    },
    {
     "name": "stderr",
     "output_type": "stream",
     "text": [
      "Geocodificando direcciones:  71%|███████▏  | 357/500 [03:30<01:13,  1.94it/s]"
     ]
    },
    {
     "name": "stdout",
     "output_type": "stream",
     "text": [
      "Geocodificación exitosa para Interior: (43.726938, -101.984042)\n"
     ]
    },
    {
     "name": "stderr",
     "output_type": "stream",
     "text": [
      "Geocodificando direcciones:  72%|███████▏  | 358/500 [03:31<01:06,  2.12it/s]"
     ]
    },
    {
     "name": "stdout",
     "output_type": "stream",
     "text": [
      "No se encontró ubicación para YouTube llamado Pedro Pé.\n"
     ]
    },
    {
     "name": "stderr",
     "output_type": "stream",
     "text": [
      "Geocodificando direcciones:  72%|███████▏  | 359/500 [03:31<01:07,  2.09it/s]"
     ]
    },
    {
     "name": "stdout",
     "output_type": "stream",
     "text": [
      "Geocodificación exitosa para Concepción: (-36.8270795, -73.0502399)\n"
     ]
    },
    {
     "name": "stderr",
     "output_type": "stream",
     "text": [
      "Geocodificando direcciones:  72%|███████▏  | 360/500 [03:32<01:09,  2.02it/s]"
     ]
    },
    {
     "name": "stdout",
     "output_type": "stream",
     "text": [
      "Geocodificación exitosa para Los Lagos: (-42.300844, -73.105387)\n"
     ]
    },
    {
     "name": "stderr",
     "output_type": "stream",
     "text": [
      "Geocodificando direcciones:  72%|███████▏  | 361/500 [03:32<01:08,  2.02it/s]"
     ]
    },
    {
     "name": "stdout",
     "output_type": "stream",
     "text": [
      "Geocodificación exitosa para Taltal Región de Antofagasta: (-25.4078293, -70.4858424)\n"
     ]
    },
    {
     "name": "stderr",
     "output_type": "stream",
     "text": [
      "Geocodificando direcciones:  72%|███████▏  | 362/500 [03:33<01:09,  1.98it/s]"
     ]
    },
    {
     "name": "stdout",
     "output_type": "stream",
     "text": [
      "Geocodificación exitosa para Club Hípico de Santiago: (-33.463918199999995, -70.6685993152827)\n"
     ]
    },
    {
     "name": "stderr",
     "output_type": "stream",
     "text": [
      "Geocodificando direcciones:  73%|███████▎  | 363/500 [03:33<01:06,  2.07it/s]"
     ]
    },
    {
     "name": "stdout",
     "output_type": "stream",
     "text": [
      "Geocodificación exitosa para Coronel Región del Biobío: (-37.0164712, -73.1561953)\n"
     ]
    },
    {
     "name": "stderr",
     "output_type": "stream",
     "text": [
      "Geocodificando direcciones:  73%|███████▎  | 364/500 [03:34<01:05,  2.08it/s]"
     ]
    },
    {
     "name": "stdout",
     "output_type": "stream",
     "text": [
      "No se encontró ubicación para se verificó en terreno.\n"
     ]
    },
    {
     "name": "stderr",
     "output_type": "stream",
     "text": [
      "Geocodificando direcciones:  73%|███████▎  | 365/500 [03:34<01:10,  1.90it/s]"
     ]
    },
    {
     "name": "stdout",
     "output_type": "stream",
     "text": [
      "Geocodificación exitosa para Junín: (-11.5, -75.0)\n"
     ]
    },
    {
     "name": "stderr",
     "output_type": "stream",
     "text": [
      "Geocodificando direcciones:  73%|███████▎  | 366/500 [03:35<01:05,  2.04it/s]"
     ]
    },
    {
     "name": "stdout",
     "output_type": "stream",
     "text": [
      "Geocodificación exitosa para Aeropuerto de Santiago: (-33.38939795, -70.79415901711005)\n"
     ]
    },
    {
     "name": "stderr",
     "output_type": "stream",
     "text": [
      "Geocodificando direcciones:  73%|███████▎  | 367/500 [03:35<01:10,  1.89it/s]"
     ]
    },
    {
     "name": "stdout",
     "output_type": "stream",
     "text": [
      "Geocodificación exitosa para Moscú: (55.625578, 37.6063916)\n"
     ]
    },
    {
     "name": "stderr",
     "output_type": "stream",
     "text": [
      "Geocodificando direcciones:  74%|███████▎  | 368/500 [03:36<01:04,  2.06it/s]"
     ]
    },
    {
     "name": "stdout",
     "output_type": "stream",
     "text": [
      "Geocodificación exitosa para Santo Domingo de Guzmán: (18.4801972, -69.942111)\n"
     ]
    },
    {
     "name": "stderr",
     "output_type": "stream",
     "text": [
      "Geocodificando direcciones:  74%|███████▍  | 369/500 [03:36<01:04,  2.03it/s]"
     ]
    },
    {
     "name": "stdout",
     "output_type": "stream",
     "text": [
      "Geocodificación exitosa para Valencia de Quilpué: (-33.0417418, -71.4675477)\n"
     ]
    },
    {
     "name": "stderr",
     "output_type": "stream",
     "text": [
      "Geocodificando direcciones:  74%|███████▍  | 370/500 [03:37<01:04,  2.03it/s]"
     ]
    },
    {
     "name": "stdout",
     "output_type": "stream",
     "text": [
      "Geocodificación exitosa para Curitiba: (-25.4295963, -49.2712724)\n"
     ]
    },
    {
     "name": "stderr",
     "output_type": "stream",
     "text": [
      "Geocodificando direcciones:  74%|███████▍  | 371/500 [03:39<01:58,  1.09it/s]"
     ]
    },
    {
     "name": "stdout",
     "output_type": "stream",
     "text": [
      "Geocodificación exitosa para Valparaíso: (-33.0458456, -71.6196749)\n"
     ]
    },
    {
     "name": "stderr",
     "output_type": "stream",
     "text": [
      "Geocodificando direcciones:  74%|███████▍  | 372/500 [03:39<01:40,  1.28it/s]"
     ]
    },
    {
     "name": "stdout",
     "output_type": "stream",
     "text": [
      "Geocodificación exitosa para Vicuña: (-30.0340482, -70.7126702)\n"
     ]
    },
    {
     "name": "stderr",
     "output_type": "stream",
     "text": [
      "Geocodificando direcciones:  75%|███████▍  | 373/500 [03:40<01:33,  1.36it/s]"
     ]
    },
    {
     "name": "stdout",
     "output_type": "stream",
     "text": [
      "No se encontró ubicación para Montahue en la comuna de Penco.\n"
     ]
    },
    {
     "name": "stderr",
     "output_type": "stream",
     "text": [
      "Geocodificando direcciones:  75%|███████▍  | 374/500 [03:40<01:24,  1.50it/s]"
     ]
    },
    {
     "name": "stdout",
     "output_type": "stream",
     "text": [
      "No se encontró ubicación para la comuna de Macul.\n"
     ]
    },
    {
     "name": "stderr",
     "output_type": "stream",
     "text": [
      "Geocodificando direcciones:  75%|███████▌  | 375/500 [03:40<01:10,  1.77it/s]"
     ]
    },
    {
     "name": "stdout",
     "output_type": "stream",
     "text": [
      "Geocodificación exitosa para CNN Chile: (-33.4743219, -70.6673763)\n"
     ]
    },
    {
     "name": "stderr",
     "output_type": "stream",
     "text": [
      "Geocodificando direcciones:  75%|███████▌  | 376/500 [03:41<01:11,  1.72it/s]"
     ]
    },
    {
     "name": "stdout",
     "output_type": "stream",
     "text": [
      "Geocodificación exitosa para República Democrática del Congo: (-2.9814344, 23.8222636)\n"
     ]
    },
    {
     "name": "stderr",
     "output_type": "stream",
     "text": [
      "Geocodificando direcciones:  75%|███████▌  | 377/500 [03:45<03:21,  1.64s/it]"
     ]
    },
    {
     "name": "stdout",
     "output_type": "stream",
     "text": [
      "Error al geocodificar 22 de junio de 2023: HTTPSConnectionPool(host='nominatim.openstreetmap.org', port=443): Max retries exceeded with url: /search?q=22+de+junio+de+2023&format=json&limit=1 (Caused by ReadTimeoutError(\"HTTPSConnectionPool(host='nominatim.openstreetmap.org', port=443): Read timed out. (read timeout=1)\"))\n"
     ]
    },
    {
     "name": "stderr",
     "output_type": "stream",
     "text": [
      "Geocodificando direcciones:  76%|███████▌  | 378/500 [03:46<02:50,  1.39s/it]"
     ]
    },
    {
     "name": "stdout",
     "output_type": "stream",
     "text": [
      "Geocodificación exitosa para Monumental: (41.4002844, 2.1795937)\n"
     ]
    },
    {
     "name": "stderr",
     "output_type": "stream",
     "text": [
      "Geocodificando direcciones:  76%|███████▌  | 379/500 [03:47<02:24,  1.20s/it]"
     ]
    },
    {
     "name": "stdout",
     "output_type": "stream",
     "text": [
      "No se encontró ubicación para islote español de s’Espalmador de Formentera.\n"
     ]
    },
    {
     "name": "stderr",
     "output_type": "stream",
     "text": [
      "Geocodificando direcciones:  76%|███████▌  | 380/500 [03:47<01:52,  1.06it/s]"
     ]
    },
    {
     "name": "stdout",
     "output_type": "stream",
     "text": [
      "Geocodificación exitosa para Chile: (-31.7613365, -71.3187697)\n"
     ]
    },
    {
     "name": "stderr",
     "output_type": "stream",
     "text": [
      "Geocodificando direcciones:  76%|███████▌  | 381/500 [03:48<01:40,  1.18it/s]"
     ]
    },
    {
     "name": "stdout",
     "output_type": "stream",
     "text": [
      "No se encontró ubicación para un campeonato de fulbito.\n"
     ]
    },
    {
     "name": "stderr",
     "output_type": "stream",
     "text": [
      "Geocodificando direcciones:  76%|███████▋  | 382/500 [03:48<01:38,  1.20it/s]"
     ]
    },
    {
     "name": "stdout",
     "output_type": "stream",
     "text": [
      "No se encontró ubicación para cerca de la isla italiana de Sicilia.\n"
     ]
    },
    {
     "name": "stderr",
     "output_type": "stream",
     "text": [
      "Geocodificando direcciones:  77%|███████▋  | 383/500 [03:49<01:20,  1.46it/s]"
     ]
    },
    {
     "name": "stdout",
     "output_type": "stream",
     "text": [
      "No se encontró ubicación para motel El Duende.\n"
     ]
    },
    {
     "name": "stderr",
     "output_type": "stream",
     "text": [
      "Geocodificando direcciones:  77%|███████▋  | 384/500 [03:49<01:13,  1.58it/s]"
     ]
    },
    {
     "name": "stdout",
     "output_type": "stream",
     "text": [
      "Geocodificación exitosa para Municipalidad de Chonchi: (-42.6237755, -73.7722388)\n"
     ]
    },
    {
     "name": "stderr",
     "output_type": "stream",
     "text": [
      "Geocodificando direcciones:  77%|███████▋  | 385/500 [03:50<01:08,  1.67it/s]"
     ]
    },
    {
     "name": "stdout",
     "output_type": "stream",
     "text": [
      "Geocodificación exitosa para Chile: (-31.7613365, -71.3187697)\n"
     ]
    },
    {
     "name": "stderr",
     "output_type": "stream",
     "text": [
      "Geocodificando direcciones:  77%|███████▋  | 386/500 [03:50<01:00,  1.87it/s]"
     ]
    },
    {
     "name": "stdout",
     "output_type": "stream",
     "text": [
      "Geocodificación exitosa para 2009: (-32.95645454396062, -60.70744407201817)\n"
     ]
    },
    {
     "name": "stderr",
     "output_type": "stream",
     "text": [
      "Geocodificando direcciones:  77%|███████▋  | 387/500 [03:53<02:06,  1.12s/it]"
     ]
    },
    {
     "name": "stdout",
     "output_type": "stream",
     "text": [
      "Geocodificación exitosa para colegio Saint Mary de La Serena: (-29.94523615, -71.2477583)\n"
     ]
    },
    {
     "name": "stderr",
     "output_type": "stream",
     "text": [
      "Geocodificando direcciones:  78%|███████▊  | 388/500 [03:53<01:40,  1.11it/s]"
     ]
    },
    {
     "name": "stdout",
     "output_type": "stream",
     "text": [
      "No se encontró ubicación para Festival Folclórico del Guatón Loyola.\n"
     ]
    },
    {
     "name": "stderr",
     "output_type": "stream",
     "text": [
      "Geocodificando direcciones:  78%|███████▊  | 389/500 [03:54<01:24,  1.31it/s]"
     ]
    },
    {
     "name": "stdout",
     "output_type": "stream",
     "text": [
      "No se encontró ubicación para Aguas Calientes en Puyehue.\n"
     ]
    },
    {
     "name": "stderr",
     "output_type": "stream",
     "text": [
      "Geocodificando direcciones:  78%|███████▊  | 390/500 [03:54<01:19,  1.39it/s]"
     ]
    },
    {
     "name": "stdout",
     "output_type": "stream",
     "text": [
      "No se encontró ubicación para Av Vicuña Mackenna con Enrique Olivares.\n"
     ]
    },
    {
     "name": "stderr",
     "output_type": "stream",
     "text": [
      "Geocodificando direcciones:  78%|███████▊  | 391/500 [03:55<01:12,  1.50it/s]"
     ]
    },
    {
     "name": "stdout",
     "output_type": "stream",
     "text": [
      "No se encontró ubicación para entre Calais y Dunkerque en Francia.\n"
     ]
    },
    {
     "name": "stderr",
     "output_type": "stream",
     "text": [
      "Geocodificando direcciones:  78%|███████▊  | 392/500 [03:55<01:10,  1.53it/s]"
     ]
    },
    {
     "name": "stdout",
     "output_type": "stream",
     "text": [
      "No se encontró ubicación para la red social X.\n"
     ]
    },
    {
     "name": "stderr",
     "output_type": "stream",
     "text": [
      "Geocodificando direcciones:  79%|███████▊  | 393/500 [03:56<00:59,  1.79it/s]"
     ]
    },
    {
     "name": "stdout",
     "output_type": "stream",
     "text": [
      "Geocodificación exitosa para Portugal: (39.6621648, -8.1353519)\n"
     ]
    },
    {
     "name": "stderr",
     "output_type": "stream",
     "text": [
      "Geocodificando direcciones:  79%|███████▉  | 394/500 [03:56<00:55,  1.90it/s]"
     ]
    },
    {
     "name": "stdout",
     "output_type": "stream",
     "text": [
      "Geocodificación exitosa para Santiago: (-33.4377756, -70.6504502)\n"
     ]
    },
    {
     "name": "stderr",
     "output_type": "stream",
     "text": [
      "Geocodificando direcciones:  79%|███████▉  | 395/500 [03:57<00:54,  1.93it/s]"
     ]
    },
    {
     "name": "stdout",
     "output_type": "stream",
     "text": [
      "Geocodificación exitosa para Arica: (-18.4785288, -70.3211394)\n"
     ]
    },
    {
     "name": "stderr",
     "output_type": "stream",
     "text": [
      "Geocodificando direcciones:  79%|███████▉  | 396/500 [03:57<00:55,  1.86it/s]"
     ]
    },
    {
     "name": "stdout",
     "output_type": "stream",
     "text": [
      "No se encontró ubicación para avenida Einstein comuna Recoleta.\n"
     ]
    },
    {
     "name": "stderr",
     "output_type": "stream",
     "text": [
      "Geocodificando direcciones:  79%|███████▉  | 397/500 [03:58<00:56,  1.84it/s]"
     ]
    },
    {
     "name": "stdout",
     "output_type": "stream",
     "text": [
      "No se encontró ubicación para decimonovena fecha del Campeonato de Primera División.\n"
     ]
    },
    {
     "name": "stderr",
     "output_type": "stream",
     "text": [
      "Geocodificando direcciones:  80%|███████▉  | 398/500 [03:58<00:51,  1.99it/s]"
     ]
    },
    {
     "name": "stdout",
     "output_type": "stream",
     "text": [
      "Geocodificación exitosa para Valparaíso: (-33.0458456, -71.6196749)\n"
     ]
    },
    {
     "name": "stderr",
     "output_type": "stream",
     "text": [
      "Geocodificando direcciones:  80%|███████▉  | 399/500 [04:02<02:34,  1.53s/it]"
     ]
    },
    {
     "name": "stdout",
     "output_type": "stream",
     "text": [
      "No se encontró ubicación para recinto de la estación de servicio.\n"
     ]
    },
    {
     "name": "stderr",
     "output_type": "stream",
     "text": [
      "Geocodificando direcciones:  80%|████████  | 400/500 [04:02<01:57,  1.17s/it]"
     ]
    },
    {
     "name": "stdout",
     "output_type": "stream",
     "text": [
      "Geocodificación exitosa para Udinese: (-20.217764, 57.4692542)\n"
     ]
    },
    {
     "name": "stderr",
     "output_type": "stream",
     "text": [
      "Geocodificando direcciones:  80%|████████  | 401/500 [04:05<02:23,  1.45s/it]"
     ]
    },
    {
     "name": "stdout",
     "output_type": "stream",
     "text": [
      "Geocodificación exitosa para región San Martín: (18.046426, -63.0413005)\n"
     ]
    },
    {
     "name": "stderr",
     "output_type": "stream",
     "text": [
      "Geocodificando direcciones:  80%|████████  | 402/500 [04:05<01:50,  1.12s/it]"
     ]
    },
    {
     "name": "stdout",
     "output_type": "stream",
     "text": [
      "Geocodificación exitosa para Santiago: (-33.4377756, -70.6504502)\n"
     ]
    },
    {
     "name": "stderr",
     "output_type": "stream",
     "text": [
      "Geocodificando direcciones:  81%|████████  | 403/500 [04:05<01:29,  1.09it/s]"
     ]
    },
    {
     "name": "stdout",
     "output_type": "stream",
     "text": [
      "Geocodificación exitosa para Beirut: (33.8959203, 35.47843)\n"
     ]
    },
    {
     "name": "stderr",
     "output_type": "stream",
     "text": [
      "Geocodificando direcciones:  81%|████████  | 404/500 [04:06<01:24,  1.14it/s]"
     ]
    },
    {
     "name": "stdout",
     "output_type": "stream",
     "text": [
      "No se encontró ubicación para Salas y Gómez y Nazca.\n"
     ]
    },
    {
     "name": "stderr",
     "output_type": "stream",
     "text": [
      "Geocodificando direcciones:  81%|████████  | 405/500 [04:06<01:06,  1.42it/s]"
     ]
    },
    {
     "name": "stdout",
     "output_type": "stream",
     "text": [
      "Geocodificación exitosa para Kissimmee Florida: (28.285105899999998, -81.41090050441758)\n"
     ]
    },
    {
     "name": "stderr",
     "output_type": "stream",
     "text": [
      "Geocodificando direcciones:  81%|████████  | 406/500 [04:07<01:00,  1.56it/s]"
     ]
    },
    {
     "name": "stdout",
     "output_type": "stream",
     "text": [
      "Geocodificación exitosa para Ñuñoa: (-33.4543304, -70.60058198319726)\n"
     ]
    },
    {
     "name": "stderr",
     "output_type": "stream",
     "text": [
      "Geocodificando direcciones:  81%|████████▏ | 407/500 [04:08<00:59,  1.56it/s]"
     ]
    },
    {
     "name": "stdout",
     "output_type": "stream",
     "text": [
      "Geocodificación exitosa para Canal Beagle Viña del Mar: (-33.0391722, -71.5106512)\n"
     ]
    },
    {
     "name": "stderr",
     "output_type": "stream",
     "text": [
      "Geocodificando direcciones:  82%|████████▏ | 408/500 [04:08<00:51,  1.77it/s]"
     ]
    },
    {
     "name": "stdout",
     "output_type": "stream",
     "text": [
      "Geocodificación exitosa para Caupolicán: (-34.9896702, -71.2351752)\n"
     ]
    },
    {
     "name": "stderr",
     "output_type": "stream",
     "text": [
      "Geocodificando direcciones:  82%|████████▏ | 409/500 [04:08<00:48,  1.87it/s]"
     ]
    },
    {
     "name": "stdout",
     "output_type": "stream",
     "text": [
      "Geocodificación exitosa para Italia: (42.6384261, 12.674297)\n"
     ]
    },
    {
     "name": "stderr",
     "output_type": "stream",
     "text": [
      "Geocodificando direcciones:  82%|████████▏ | 410/500 [04:09<00:49,  1.82it/s]"
     ]
    },
    {
     "name": "stdout",
     "output_type": "stream",
     "text": [
      "Geocodificación exitosa para Venezuela: (8.0018709, -66.1109318)\n"
     ]
    },
    {
     "name": "stderr",
     "output_type": "stream",
     "text": [
      "Geocodificando direcciones:  82%|████████▏ | 411/500 [04:09<00:46,  1.91it/s]"
     ]
    },
    {
     "name": "stdout",
     "output_type": "stream",
     "text": [
      "Geocodificación exitosa para X: (61.2603424, 16.694698498129124)\n"
     ]
    },
    {
     "name": "stderr",
     "output_type": "stream",
     "text": [
      "Geocodificando direcciones:  82%|████████▏ | 412/500 [04:10<00:47,  1.85it/s]"
     ]
    },
    {
     "name": "stdout",
     "output_type": "stream",
     "text": [
      "No se encontró ubicación para intersección vial de Arturo Fernández con Las Cabras.\n"
     ]
    },
    {
     "name": "stderr",
     "output_type": "stream",
     "text": [
      "Geocodificando direcciones:  83%|████████▎ | 413/500 [04:10<00:43,  2.00it/s]"
     ]
    },
    {
     "name": "stdout",
     "output_type": "stream",
     "text": [
      "Geocodificación exitosa para la Alameda: (30.731272, -112.7828554)\n"
     ]
    },
    {
     "name": "stderr",
     "output_type": "stream",
     "text": [
      "Geocodificando direcciones:  83%|████████▎ | 414/500 [04:11<00:42,  2.01it/s]"
     ]
    },
    {
     "name": "stdout",
     "output_type": "stream",
     "text": [
      "Geocodificación exitosa para Venezuela: (8.0018709, -66.1109318)\n"
     ]
    },
    {
     "name": "stderr",
     "output_type": "stream",
     "text": [
      "Geocodificando direcciones:  83%|████████▎ | 415/500 [04:11<00:42,  2.02it/s]"
     ]
    },
    {
     "name": "stdout",
     "output_type": "stream",
     "text": [
      "Geocodificación exitosa para Castro Chiloé: (-42.482375, -73.7642918)\n"
     ]
    },
    {
     "name": "stderr",
     "output_type": "stream",
     "text": [
      "Geocodificando direcciones:  83%|████████▎ | 416/500 [04:12<00:47,  1.77it/s]"
     ]
    },
    {
     "name": "stdout",
     "output_type": "stream",
     "text": [
      "No se encontró ubicación para las instalaciones de Canal 13.\n"
     ]
    },
    {
     "name": "stderr",
     "output_type": "stream",
     "text": [
      "Geocodificando direcciones:  83%|████████▎ | 417/500 [04:12<00:40,  2.03it/s]"
     ]
    },
    {
     "name": "stdout",
     "output_type": "stream",
     "text": [
      "Geocodificación exitosa para Estadio Manquehue: (-33.3948706, -70.57531132518707)\n"
     ]
    },
    {
     "name": "stderr",
     "output_type": "stream",
     "text": [
      "Geocodificando direcciones:  84%|████████▎ | 418/500 [04:13<00:50,  1.64it/s]"
     ]
    },
    {
     "name": "stdout",
     "output_type": "stream",
     "text": [
      "No se encontró ubicación para 26 km al oeste de Calama.\n"
     ]
    },
    {
     "name": "stderr",
     "output_type": "stream",
     "text": [
      "Geocodificando direcciones:  84%|████████▍ | 419/500 [04:14<00:42,  1.89it/s]"
     ]
    },
    {
     "name": "stdout",
     "output_type": "stream",
     "text": [
      "No se encontró ubicación para vacaciones en Europa.\n"
     ]
    },
    {
     "name": "stderr",
     "output_type": "stream",
     "text": [
      "Geocodificando direcciones:  84%|████████▍ | 420/500 [04:14<00:41,  1.91it/s]"
     ]
    },
    {
     "name": "stdout",
     "output_type": "stream",
     "text": [
      "Geocodificación exitosa para VIÑA DEL MAR-: (-33.0244535, -71.5517636)\n"
     ]
    },
    {
     "name": "stderr",
     "output_type": "stream",
     "text": [
      "Geocodificando direcciones:  84%|████████▍ | 421/500 [04:15<00:43,  1.82it/s]"
     ]
    },
    {
     "name": "stdout",
     "output_type": "stream",
     "text": [
      "No se encontró ubicación para ruta que une las localidades de Tijeral y Mininco.\n"
     ]
    },
    {
     "name": "stderr",
     "output_type": "stream",
     "text": [
      "Geocodificando direcciones:  84%|████████▍ | 422/500 [04:15<00:36,  2.12it/s]"
     ]
    },
    {
     "name": "stdout",
     "output_type": "stream",
     "text": [
      "No se encontró ubicación para Evópoli.\n"
     ]
    },
    {
     "name": "stderr",
     "output_type": "stream",
     "text": [
      "Geocodificando direcciones:  85%|████████▍ | 423/500 [04:16<00:40,  1.92it/s]"
     ]
    },
    {
     "name": "stdout",
     "output_type": "stream",
     "text": [
      "Geocodificación exitosa para San Pedro de la Paz: (-36.8414183, -73.1039909)\n"
     ]
    },
    {
     "name": "stderr",
     "output_type": "stream",
     "text": [
      "Geocodificando direcciones:  85%|████████▍ | 424/500 [04:16<00:36,  2.09it/s]"
     ]
    },
    {
     "name": "stdout",
     "output_type": "stream",
     "text": [
      "Geocodificación exitosa para Collipulli: (-37.9566312, -72.4374375)\n"
     ]
    },
    {
     "name": "stderr",
     "output_type": "stream",
     "text": [
      "Geocodificando direcciones:  85%|████████▌ | 425/500 [04:17<00:36,  2.06it/s]"
     ]
    },
    {
     "name": "stdout",
     "output_type": "stream",
     "text": [
      "Geocodificación exitosa para Nueva York Estados Unidos: (40.7127281, -74.0060152)\n"
     ]
    },
    {
     "name": "stderr",
     "output_type": "stream",
     "text": [
      "Geocodificando direcciones:  85%|████████▌ | 426/500 [04:17<00:36,  2.05it/s]"
     ]
    },
    {
     "name": "stdout",
     "output_type": "stream",
     "text": [
      "Geocodificación exitosa para Estados Unidos: (39.7837304, -100.445882)\n"
     ]
    },
    {
     "name": "stderr",
     "output_type": "stream",
     "text": [
      "Geocodificando direcciones:  85%|████████▌ | 427/500 [04:18<00:39,  1.84it/s]"
     ]
    },
    {
     "name": "stdout",
     "output_type": "stream",
     "text": [
      "Geocodificación exitosa para Chile: (-31.7613365, -71.3187697)\n"
     ]
    },
    {
     "name": "stderr",
     "output_type": "stream",
     "text": [
      "Geocodificando direcciones:  86%|████████▌ | 428/500 [04:18<00:35,  2.02it/s]"
     ]
    },
    {
     "name": "stdout",
     "output_type": "stream",
     "text": [
      "Geocodificación exitosa para Venezuela: (8.0018709, -66.1109318)\n"
     ]
    },
    {
     "name": "stderr",
     "output_type": "stream",
     "text": [
      "Geocodificando direcciones:  86%|████████▌ | 429/500 [04:19<00:35,  2.00it/s]"
     ]
    },
    {
     "name": "stdout",
     "output_type": "stream",
     "text": [
      "No se encontró ubicación para el mismo estero.\n"
     ]
    },
    {
     "name": "stderr",
     "output_type": "stream",
     "text": [
      "Geocodificando direcciones:  86%|████████▌ | 430/500 [04:19<00:33,  2.09it/s]"
     ]
    },
    {
     "name": "stdout",
     "output_type": "stream",
     "text": [
      "Geocodificación exitosa para Radio Universo: (-31.4565915, -64.5227815)\n"
     ]
    },
    {
     "name": "stderr",
     "output_type": "stream",
     "text": [
      "Geocodificando direcciones:  86%|████████▌ | 431/500 [04:20<00:33,  2.04it/s]"
     ]
    },
    {
     "name": "stdout",
     "output_type": "stream",
     "text": [
      "Geocodificación exitosa para Buin: (-33.7319741, -70.7419619)\n"
     ]
    },
    {
     "name": "stderr",
     "output_type": "stream",
     "text": [
      "Geocodificando direcciones:  86%|████████▋ | 432/500 [04:20<00:37,  1.79it/s]"
     ]
    },
    {
     "name": "stdout",
     "output_type": "stream",
     "text": [
      "Geocodificación exitosa para centro de Concepción: (-36.8301581, -73.0610353)\n"
     ]
    },
    {
     "name": "stderr",
     "output_type": "stream",
     "text": [
      "Geocodificando direcciones:  87%|████████▋ | 433/500 [04:21<00:33,  1.98it/s]"
     ]
    },
    {
     "name": "stdout",
     "output_type": "stream",
     "text": [
      "No se encontró ubicación para zona oriental del Estrecho Magallanes.\n"
     ]
    },
    {
     "name": "stderr",
     "output_type": "stream",
     "text": [
      "Geocodificando direcciones:  87%|████████▋ | 434/500 [04:21<00:31,  2.12it/s]"
     ]
    },
    {
     "name": "stdout",
     "output_type": "stream",
     "text": [
      "Geocodificación exitosa para Subsecretaría de Educación: (-33.4807552, -59.9996477)\n"
     ]
    },
    {
     "name": "stderr",
     "output_type": "stream",
     "text": [
      "Geocodificando direcciones:  87%|████████▋ | 435/500 [04:22<00:31,  2.04it/s]"
     ]
    },
    {
     "name": "stdout",
     "output_type": "stream",
     "text": [
      "Geocodificación exitosa para Chile: (-31.7613365, -71.3187697)\n"
     ]
    },
    {
     "name": "stderr",
     "output_type": "stream",
     "text": [
      "Geocodificando direcciones:  87%|████████▋ | 436/500 [04:22<00:31,  2.03it/s]"
     ]
    },
    {
     "name": "stdout",
     "output_type": "stream",
     "text": [
      "Geocodificación exitosa para Venezuela”: (8.0018709, -66.1109318)\n"
     ]
    },
    {
     "name": "stderr",
     "output_type": "stream",
     "text": [
      "Geocodificando direcciones:  87%|████████▋ | 437/500 [04:23<00:37,  1.66it/s]"
     ]
    },
    {
     "name": "stdout",
     "output_type": "stream",
     "text": [
      "No se encontró ubicación para Juegos Olímpicos de París 2024:.\n"
     ]
    },
    {
     "name": "stderr",
     "output_type": "stream",
     "text": [
      "Geocodificando direcciones:  88%|████████▊ | 438/500 [04:24<00:39,  1.57it/s]"
     ]
    },
    {
     "name": "stdout",
     "output_type": "stream",
     "text": [
      "No se encontró ubicación para a un costado de la calle Padre Hurtado.\n"
     ]
    },
    {
     "name": "stderr",
     "output_type": "stream",
     "text": [
      "Geocodificando direcciones:  88%|████████▊ | 439/500 [04:24<00:32,  1.86it/s]"
     ]
    },
    {
     "name": "stdout",
     "output_type": "stream",
     "text": [
      "Geocodificación exitosa para Brasil: (-10.3333333, -53.2)\n"
     ]
    },
    {
     "name": "stderr",
     "output_type": "stream",
     "text": [
      "Geocodificando direcciones:  88%|████████▊ | 440/500 [04:25<00:35,  1.69it/s]"
     ]
    },
    {
     "name": "stdout",
     "output_type": "stream",
     "text": [
      "No se encontró ubicación para Mina Collahuasi en la región de Tarapacá.\n"
     ]
    },
    {
     "name": "stderr",
     "output_type": "stream",
     "text": [
      "Geocodificando direcciones:  88%|████████▊ | 441/500 [04:25<00:29,  1.98it/s]"
     ]
    },
    {
     "name": "stdout",
     "output_type": "stream",
     "text": [
      "Geocodificación exitosa para Teatro Caupolicán: (-33.4562166, -70.64923855)\n"
     ]
    },
    {
     "name": "stderr",
     "output_type": "stream",
     "text": [
      "Geocodificando direcciones:  88%|████████▊ | 442/500 [04:26<00:31,  1.85it/s]"
     ]
    },
    {
     "name": "stdout",
     "output_type": "stream",
     "text": [
      "Geocodificación exitosa para 28 de julio: (-3.4759535, -74.8011996)\n"
     ]
    },
    {
     "name": "stderr",
     "output_type": "stream",
     "text": [
      "Geocodificando direcciones:  89%|████████▊ | 443/500 [04:26<00:28,  2.02it/s]"
     ]
    },
    {
     "name": "stdout",
     "output_type": "stream",
     "text": [
      "Geocodificación exitosa para Venezuela: (8.0018709, -66.1109318)\n"
     ]
    },
    {
     "name": "stderr",
     "output_type": "stream",
     "text": [
      "Geocodificando direcciones:  89%|████████▉ | 444/500 [04:27<00:33,  1.68it/s]"
     ]
    },
    {
     "name": "stdout",
     "output_type": "stream",
     "text": [
      "No se encontró ubicación para Calama en la región de Antofagasta.\n"
     ]
    },
    {
     "name": "stderr",
     "output_type": "stream",
     "text": [
      "Geocodificando direcciones:  89%|████████▉ | 445/500 [04:27<00:28,  1.96it/s]"
     ]
    },
    {
     "name": "stdout",
     "output_type": "stream",
     "text": [
      "Geocodificación exitosa para Fortnite: (-34.5832662, -58.6360299)\n"
     ]
    },
    {
     "name": "stderr",
     "output_type": "stream",
     "text": [
      "Geocodificando direcciones:  89%|████████▉ | 446/500 [04:28<00:26,  2.00it/s]"
     ]
    },
    {
     "name": "stdout",
     "output_type": "stream",
     "text": [
      "Geocodificación exitosa para Varsovia: (52.2319581, 21.0067249)\n"
     ]
    },
    {
     "name": "stderr",
     "output_type": "stream",
     "text": [
      "Geocodificando direcciones:  89%|████████▉ | 447/500 [04:28<00:26,  1.98it/s]"
     ]
    },
    {
     "name": "stdout",
     "output_type": "stream",
     "text": [
      "Geocodificación exitosa para La Superintendencia de Educación: (-33.439457, -70.6476114)\n"
     ]
    },
    {
     "name": "stderr",
     "output_type": "stream",
     "text": [
      "Geocodificando direcciones:  90%|████████▉ | 448/500 [04:29<00:31,  1.64it/s]"
     ]
    },
    {
     "name": "stdout",
     "output_type": "stream",
     "text": [
      "No se encontró ubicación para Servicio de Urgencia San Gerónimo.\n"
     ]
    },
    {
     "name": "stderr",
     "output_type": "stream",
     "text": [
      "Geocodificando direcciones:  90%|████████▉ | 449/500 [04:29<00:27,  1.89it/s]"
     ]
    },
    {
     "name": "stdout",
     "output_type": "stream",
     "text": [
      "Geocodificación exitosa para Chile: (-31.7613365, -71.3187697)\n"
     ]
    },
    {
     "name": "stderr",
     "output_type": "stream",
     "text": [
      "Geocodificando direcciones:  90%|█████████ | 450/500 [04:34<01:20,  1.61s/it]"
     ]
    },
    {
     "name": "stdout",
     "output_type": "stream",
     "text": [
      "Error al geocodificar 10 de abril de 2023: HTTPSConnectionPool(host='nominatim.openstreetmap.org', port=443): Max retries exceeded with url: /search?q=10+de+abril+de+2023&format=json&limit=1 (Caused by ReadTimeoutError(\"HTTPSConnectionPool(host='nominatim.openstreetmap.org', port=443): Read timed out. (read timeout=1)\"))\n"
     ]
    },
    {
     "name": "stderr",
     "output_type": "stream",
     "text": [
      "Geocodificando direcciones:  90%|█████████ | 451/500 [04:35<01:12,  1.47s/it]"
     ]
    },
    {
     "name": "stdout",
     "output_type": "stream",
     "text": [
      "No se encontró ubicación para una escuela de San Antonio Temuco.\n"
     ]
    },
    {
     "name": "stderr",
     "output_type": "stream",
     "text": [
      "Geocodificando direcciones:  90%|█████████ | 452/500 [04:35<00:58,  1.22s/it]"
     ]
    },
    {
     "name": "stdout",
     "output_type": "stream",
     "text": [
      "No se encontró ubicación para zona norte centro y sur del país.\n"
     ]
    },
    {
     "name": "stderr",
     "output_type": "stream",
     "text": [
      "Geocodificando direcciones:  91%|█████████ | 453/500 [04:36<00:46,  1.02it/s]"
     ]
    },
    {
     "name": "stdout",
     "output_type": "stream",
     "text": [
      "Geocodificación exitosa para Región Metropolitana: (-33.5739341, -70.6205518)\n"
     ]
    },
    {
     "name": "stderr",
     "output_type": "stream",
     "text": [
      "Geocodificando direcciones:  91%|█████████ | 454/500 [04:36<00:36,  1.27it/s]"
     ]
    },
    {
     "name": "stdout",
     "output_type": "stream",
     "text": [
      "Geocodificación exitosa para Idahue: (-36.8506236, -73.0765241)\n"
     ]
    },
    {
     "name": "stderr",
     "output_type": "stream",
     "text": [
      "Geocodificando direcciones:  91%|█████████ | 455/500 [04:37<00:32,  1.39it/s]"
     ]
    },
    {
     "name": "stdout",
     "output_type": "stream",
     "text": [
      "Geocodificación exitosa para El Comercio: (-12.0493037, -77.0307248)\n"
     ]
    },
    {
     "name": "stderr",
     "output_type": "stream",
     "text": [
      "Geocodificando direcciones:  91%|█████████ | 456/500 [04:37<00:28,  1.56it/s]"
     ]
    },
    {
     "name": "stdout",
     "output_type": "stream",
     "text": [
      "Geocodificación exitosa para china: (35.000074, 104.999927)\n"
     ]
    },
    {
     "name": "stderr",
     "output_type": "stream",
     "text": [
      "Geocodificando direcciones:  91%|█████████▏| 457/500 [04:38<00:29,  1.47it/s]"
     ]
    },
    {
     "name": "stdout",
     "output_type": "stream",
     "text": [
      "No se encontró ubicación para frente al Palacio de Miraflores de Caracas«Esta.\n"
     ]
    },
    {
     "name": "stderr",
     "output_type": "stream",
     "text": [
      "Geocodificando direcciones:  92%|█████████▏| 458/500 [04:38<00:23,  1.76it/s]"
     ]
    },
    {
     "name": "stdout",
     "output_type": "stream",
     "text": [
      "Geocodificación exitosa para Calera de Tango: (-33.6309419, -70.7593202)\n"
     ]
    },
    {
     "name": "stderr",
     "output_type": "stream",
     "text": [
      "Geocodificando direcciones:  92%|█████████▏| 459/500 [04:39<00:22,  1.83it/s]"
     ]
    },
    {
     "name": "stdout",
     "output_type": "stream",
     "text": [
      "Geocodificación exitosa para Múnich Alemania: (48.1371079, 11.5753822)\n"
     ]
    },
    {
     "name": "stderr",
     "output_type": "stream",
     "text": [
      "Geocodificando direcciones:  92%|█████████▏| 460/500 [04:39<00:24,  1.66it/s]"
     ]
    },
    {
     "name": "stdout",
     "output_type": "stream",
     "text": [
      "Geocodificación exitosa para centro y su del país: (37.9063788, -0.8578337)\n"
     ]
    },
    {
     "name": "stderr",
     "output_type": "stream",
     "text": [
      "Geocodificando direcciones:  92%|█████████▏| 461/500 [04:40<00:20,  1.95it/s]"
     ]
    },
    {
     "name": "stdout",
     "output_type": "stream",
     "text": [
      "Geocodificación exitosa para Enela: (59.1176023, 26.338763049999997)\n"
     ]
    },
    {
     "name": "stderr",
     "output_type": "stream",
     "text": [
      "Geocodificando direcciones:  92%|█████████▏| 462/500 [04:40<00:20,  1.84it/s]"
     ]
    },
    {
     "name": "stdout",
     "output_type": "stream",
     "text": [
      "Geocodificación exitosa para Chile: (-31.7613365, -71.3187697)\n"
     ]
    },
    {
     "name": "stderr",
     "output_type": "stream",
     "text": [
      "Geocodificando direcciones:  93%|█████████▎| 463/500 [04:41<00:17,  2.06it/s]"
     ]
    },
    {
     "name": "stdout",
     "output_type": "stream",
     "text": [
      "Geocodificación exitosa para República Democrática del Congo: (-2.9814344, 23.8222636)\n"
     ]
    },
    {
     "name": "stderr",
     "output_type": "stream",
     "text": [
      "Geocodificando direcciones:  93%|█████████▎| 464/500 [04:41<00:17,  2.05it/s]"
     ]
    },
    {
     "name": "stdout",
     "output_type": "stream",
     "text": [
      "Geocodificación exitosa para Teatro Municipal de Temuco: (-38.7404998, -72.62311043333978)\n"
     ]
    },
    {
     "name": "stderr",
     "output_type": "stream",
     "text": [
      "Geocodificando direcciones:  93%|█████████▎| 465/500 [04:44<00:36,  1.04s/it]"
     ]
    },
    {
     "name": "stdout",
     "output_type": "stream",
     "text": [
      "No se encontró ubicación para centenario de Universitario de Deportes.\n"
     ]
    },
    {
     "name": "stderr",
     "output_type": "stream",
     "text": [
      "Geocodificando direcciones:  93%|█████████▎| 466/500 [04:44<00:27,  1.22it/s]"
     ]
    },
    {
     "name": "stdout",
     "output_type": "stream",
     "text": [
      "Geocodificación exitosa para Croacia: (45.3658443, 15.6575209)\n"
     ]
    },
    {
     "name": "stderr",
     "output_type": "stream",
     "text": [
      "Geocodificando direcciones:  93%|█████████▎| 467/500 [04:44<00:25,  1.32it/s]"
     ]
    },
    {
     "name": "stdout",
     "output_type": "stream",
     "text": [
      "No se encontró ubicación para restaurante Fundo Las Tórtolas.\n"
     ]
    },
    {
     "name": "stderr",
     "output_type": "stream",
     "text": [
      "Geocodificando direcciones:  94%|█████████▎| 468/500 [04:45<00:23,  1.33it/s]"
     ]
    },
    {
     "name": "stdout",
     "output_type": "stream",
     "text": [
      "No se encontró ubicación para región de Magallanes En su lugar de nacimiento.\n"
     ]
    },
    {
     "name": "stderr",
     "output_type": "stream",
     "text": [
      "Geocodificando direcciones:  94%|█████████▍| 469/500 [04:45<00:19,  1.61it/s]"
     ]
    },
    {
     "name": "stdout",
     "output_type": "stream",
     "text": [
      "Geocodificación exitosa para Chile: (-31.7613365, -71.3187697)\n"
     ]
    },
    {
     "name": "stderr",
     "output_type": "stream",
     "text": [
      "Geocodificando direcciones:  94%|█████████▍| 470/500 [04:46<00:18,  1.64it/s]"
     ]
    },
    {
     "name": "stdout",
     "output_type": "stream",
     "text": [
      "Geocodificación exitosa para Región de Los Ríos: (-39.9742747, -72.6677006)\n"
     ]
    },
    {
     "name": "stderr",
     "output_type": "stream",
     "text": [
      "Geocodificando direcciones:  94%|█████████▍| 471/500 [04:46<00:15,  1.88it/s]"
     ]
    },
    {
     "name": "stdout",
     "output_type": "stream",
     "text": [
      "Geocodificación exitosa para Canal 13: (-33.4968745, -59.6616873)\n"
     ]
    },
    {
     "name": "stderr",
     "output_type": "stream",
     "text": [
      "Geocodificando direcciones:  94%|█████████▍| 472/500 [04:47<00:15,  1.83it/s]"
     ]
    },
    {
     "name": "stdout",
     "output_type": "stream",
     "text": [
      "No se encontró ubicación para el Colegio Cerro Guayaquil.\n"
     ]
    },
    {
     "name": "stderr",
     "output_type": "stream",
     "text": [
      "Geocodificando direcciones:  95%|█████████▍| 473/500 [04:47<00:14,  1.92it/s]"
     ]
    },
    {
     "name": "stdout",
     "output_type": "stream",
     "text": [
      "No se encontró ubicación para en el sector agrario.\n"
     ]
    },
    {
     "name": "stderr",
     "output_type": "stream",
     "text": [
      "Geocodificando direcciones:  95%|█████████▍| 474/500 [04:48<00:14,  1.74it/s]"
     ]
    },
    {
     "name": "stdout",
     "output_type": "stream",
     "text": [
      "No se encontró ubicación para galería Contacto de Santiago.\n"
     ]
    },
    {
     "name": "stderr",
     "output_type": "stream",
     "text": [
      "Geocodificando direcciones:  95%|█████████▌| 475/500 [04:49<00:14,  1.74it/s]"
     ]
    },
    {
     "name": "stdout",
     "output_type": "stream",
     "text": [
      "No se encontró ubicación para la comuna de El Quisco.\n"
     ]
    },
    {
     "name": "stderr",
     "output_type": "stream",
     "text": [
      "Geocodificando direcciones:  95%|█████████▌| 476/500 [04:49<00:11,  2.02it/s]"
     ]
    },
    {
     "name": "stdout",
     "output_type": "stream",
     "text": [
      "Geocodificación exitosa para Casino Media Luna: (-30.605782, -71.1951028)\n"
     ]
    },
    {
     "name": "stderr",
     "output_type": "stream",
     "text": [
      "Geocodificando direcciones:  95%|█████████▌| 477/500 [04:50<00:11,  2.04it/s]"
     ]
    },
    {
     "name": "stdout",
     "output_type": "stream",
     "text": [
      "Geocodificación exitosa para Osorno: (42.4106725, -4.3609815)\n"
     ]
    },
    {
     "name": "stderr",
     "output_type": "stream",
     "text": [
      "Geocodificando direcciones:  96%|█████████▌| 478/500 [04:50<00:11,  1.97it/s]"
     ]
    },
    {
     "name": "stdout",
     "output_type": "stream",
     "text": [
      "Geocodificación exitosa para Nueva York: (40.7127281, -74.0060152)\n"
     ]
    },
    {
     "name": "stderr",
     "output_type": "stream",
     "text": [
      "Geocodificando direcciones:  96%|█████████▌| 479/500 [04:51<00:11,  1.75it/s]"
     ]
    },
    {
     "name": "stdout",
     "output_type": "stream",
     "text": [
      "Geocodificación exitosa para Metro de Santiago: (-33.601031649999996, -70.57050729092406)\n"
     ]
    },
    {
     "name": "stderr",
     "output_type": "stream",
     "text": [
      "Geocodificando direcciones:  96%|█████████▌| 480/500 [04:51<00:09,  2.04it/s]"
     ]
    },
    {
     "name": "stdout",
     "output_type": "stream",
     "text": [
      "No se encontró ubicación para Durante la audiencia.\n"
     ]
    },
    {
     "name": "stderr",
     "output_type": "stream",
     "text": [
      "Geocodificando direcciones:  96%|█████████▌| 481/500 [04:52<00:09,  2.00it/s]"
     ]
    },
    {
     "name": "stdout",
     "output_type": "stream",
     "text": [
      "Geocodificación exitosa para Ancud: (-41.8682162, -73.8287225)\n"
     ]
    },
    {
     "name": "stderr",
     "output_type": "stream",
     "text": [
      "Geocodificando direcciones:  96%|█████████▋| 482/500 [04:52<00:08,  2.07it/s]"
     ]
    },
    {
     "name": "stdout",
     "output_type": "stream",
     "text": [
      "Geocodificación exitosa para Roma Italia: (37.1277579, -7.6493087)\n"
     ]
    },
    {
     "name": "stderr",
     "output_type": "stream",
     "text": [
      "Geocodificando direcciones:  97%|█████████▋| 483/500 [04:53<00:08,  1.94it/s]"
     ]
    },
    {
     "name": "stdout",
     "output_type": "stream",
     "text": [
      "No se encontró ubicación para durante la jornada de este viernes.\n"
     ]
    },
    {
     "name": "stderr",
     "output_type": "stream",
     "text": [
      "Geocodificando direcciones:  97%|█████████▋| 484/500 [04:53<00:07,  2.02it/s]"
     ]
    },
    {
     "name": "stdout",
     "output_type": "stream",
     "text": [
      "Geocodificación exitosa para Venezuela: (8.0018709, -66.1109318)\n"
     ]
    },
    {
     "name": "stderr",
     "output_type": "stream",
     "text": [
      "Geocodificando direcciones:  97%|█████████▋| 485/500 [04:54<00:07,  1.95it/s]"
     ]
    },
    {
     "name": "stdout",
     "output_type": "stream",
     "text": [
      "Geocodificación exitosa para Rancagua: (-34.170249, -70.7407427)\n"
     ]
    },
    {
     "name": "stderr",
     "output_type": "stream",
     "text": [
      "Geocodificando direcciones:  97%|█████████▋| 486/500 [04:54<00:07,  1.99it/s]"
     ]
    },
    {
     "name": "stdout",
     "output_type": "stream",
     "text": [
      "Geocodificación exitosa para Los Ríos: (-1.4941273, -79.5542485)\n"
     ]
    },
    {
     "name": "stderr",
     "output_type": "stream",
     "text": [
      "Geocodificando direcciones:  97%|█████████▋| 487/500 [04:55<00:06,  2.06it/s]"
     ]
    },
    {
     "name": "stdout",
     "output_type": "stream",
     "text": [
      "Geocodificación exitosa para La Araucanía: (-40.9071314, -73.157326)\n"
     ]
    },
    {
     "name": "stderr",
     "output_type": "stream",
     "text": [
      "Geocodificando direcciones:  98%|█████████▊| 488/500 [04:55<00:07,  1.71it/s]"
     ]
    },
    {
     "name": "stdout",
     "output_type": "stream",
     "text": [
      "Geocodificación exitosa para Coquimbo y Los Lagos: (-37.8127321, -72.696257)\n"
     ]
    },
    {
     "name": "stderr",
     "output_type": "stream",
     "text": [
      "Geocodificando direcciones:  98%|█████████▊| 489/500 [04:56<00:05,  1.88it/s]"
     ]
    },
    {
     "name": "stdout",
     "output_type": "stream",
     "text": [
      "Geocodificación exitosa para Colegio Bautista: (13.6805963, -89.1906343)\n"
     ]
    },
    {
     "name": "stderr",
     "output_type": "stream",
     "text": [
      "Geocodificando direcciones:  98%|█████████▊| 490/500 [04:56<00:04,  2.06it/s]"
     ]
    },
    {
     "name": "stdout",
     "output_type": "stream",
     "text": [
      "Geocodificación exitosa para calle Maipú: (25.7541306, -100.355857)\n"
     ]
    },
    {
     "name": "stderr",
     "output_type": "stream",
     "text": [
      "Geocodificando direcciones:  98%|█████████▊| 491/500 [04:57<00:04,  1.98it/s]"
     ]
    },
    {
     "name": "stdout",
     "output_type": "stream",
     "text": [
      "Geocodificación exitosa para Venezuela: (8.0018709, -66.1109318)\n"
     ]
    },
    {
     "name": "stderr",
     "output_type": "stream",
     "text": [
      "Geocodificando direcciones:  98%|█████████▊| 492/500 [04:57<00:04,  1.98it/s]"
     ]
    },
    {
     "name": "stdout",
     "output_type": "stream",
     "text": [
      "Geocodificación exitosa para Viena: (48.2083537, 16.3725042)\n"
     ]
    },
    {
     "name": "stderr",
     "output_type": "stream",
     "text": [
      "Geocodificando direcciones:  99%|█████████▊| 493/500 [04:58<00:03,  1.97it/s]"
     ]
    },
    {
     "name": "stdout",
     "output_type": "stream",
     "text": [
      "Geocodificación exitosa para Unión La Calera: (-32.7909987, -71.2152907)\n"
     ]
    },
    {
     "name": "stderr",
     "output_type": "stream",
     "text": [
      "Geocodificando direcciones:  99%|█████████▉| 494/500 [04:58<00:02,  2.03it/s]"
     ]
    },
    {
     "name": "stdout",
     "output_type": "stream",
     "text": [
      "No se encontró ubicación para \"hace poco.\n"
     ]
    },
    {
     "name": "stderr",
     "output_type": "stream",
     "text": [
      "Geocodificando direcciones:  99%|█████████▉| 495/500 [04:59<00:02,  1.91it/s]"
     ]
    },
    {
     "name": "stdout",
     "output_type": "stream",
     "text": [
      "No se encontró ubicación para todo el sur del país.\n"
     ]
    },
    {
     "name": "stderr",
     "output_type": "stream",
     "text": [
      "Geocodificando direcciones:  99%|█████████▉| 496/500 [05:01<00:04,  1.03s/it]"
     ]
    },
    {
     "name": "stdout",
     "output_type": "stream",
     "text": [
      "No se encontró ubicación para inauguración del Centro de Cuidados Comunitarios de la comuna.\n"
     ]
    },
    {
     "name": "stderr",
     "output_type": "stream",
     "text": [
      "Geocodificando direcciones:  99%|█████████▉| 497/500 [05:01<00:02,  1.25it/s]"
     ]
    },
    {
     "name": "stdout",
     "output_type": "stream",
     "text": [
      "Geocodificación exitosa para estadio Alejandro Villanueva: (-12.0685041, -77.0229272261725)\n"
     ]
    },
    {
     "name": "stderr",
     "output_type": "stream",
     "text": [
      "Geocodificando direcciones: 100%|█████████▉| 498/500 [05:02<00:01,  1.30it/s]"
     ]
    },
    {
     "name": "stdout",
     "output_type": "stream",
     "text": [
      "Geocodificación exitosa para región Metropolitana: (-33.5739341, -70.6205518)\n"
     ]
    },
    {
     "name": "stderr",
     "output_type": "stream",
     "text": [
      "Geocodificando direcciones: 100%|█████████▉| 499/500 [05:02<00:00,  1.58it/s]"
     ]
    },
    {
     "name": "stdout",
     "output_type": "stream",
     "text": [
      "Geocodificación exitosa para Madrid: (40.4167047, -3.7035825)\n"
     ]
    },
    {
     "name": "stderr",
     "output_type": "stream",
     "text": [
      "Geocodificando direcciones: 100%|██████████| 500/500 [05:03<00:00,  1.62it/s]"
     ]
    },
    {
     "name": "stdout",
     "output_type": "stream",
     "text": [
      "No se encontró ubicación para Tohoku Oki.\n"
     ]
    },
    {
     "name": "stderr",
     "output_type": "stream",
     "text": [
      "Geocodificando direcciones: 100%|██████████| 500/500 [05:03<00:00,  1.65it/s]"
     ]
    },
    {
     "name": "stdout",
     "output_type": "stream",
     "text": [
      "Geocodificación exitosa para Arequipa: (-16.3988667, -71.5369607)\n"
     ]
    },
    {
     "name": "stderr",
     "output_type": "stream",
     "text": [
      "\n"
     ]
    },
    {
     "data": {
      "text/html": [
       "<div>\n",
       "<style scoped>\n",
       "    .dataframe tbody tr th:only-of-type {\n",
       "        vertical-align: middle;\n",
       "    }\n",
       "\n",
       "    .dataframe tbody tr th {\n",
       "        vertical-align: top;\n",
       "    }\n",
       "\n",
       "    .dataframe thead th {\n",
       "        text-align: right;\n",
       "    }\n",
       "</style>\n",
       "<table border=\"1\" class=\"dataframe\">\n",
       "  <thead>\n",
       "    <tr style=\"text-align: right;\">\n",
       "      <th></th>\n",
       "      <th>id_news</th>\n",
       "      <th>event</th>\n",
       "      <th>category</th>\n",
       "      <th>address</th>\n",
       "      <th>latitud</th>\n",
       "      <th>longitud</th>\n",
       "    </tr>\n",
       "  </thead>\n",
       "  <tbody>\n",
       "    <tr>\n",
       "      <th>10404</th>\n",
       "      <td>53.878.712</td>\n",
       "      <td>un concierto único.</td>\n",
       "      <td>entretenimiento</td>\n",
       "      <td>Sala SCD Plaza Egaña.</td>\n",
       "      <td>NaN</td>\n",
       "      <td>NaN</td>\n",
       "    </tr>\n",
       "    <tr>\n",
       "      <th>20026</th>\n",
       "      <td>53.412.225</td>\n",
       "      <td>estragos causados por el sistema frontal.</td>\n",
       "      <td>educacion</td>\n",
       "      <td>Región de Coquimbo</td>\n",
       "      <td>-30.754665</td>\n",
       "      <td>-70.900554</td>\n",
       "    </tr>\n",
       "    <tr>\n",
       "      <th>2043</th>\n",
       "      <td>53.558.369</td>\n",
       "      <td>concierto,</td>\n",
       "      <td>entretenimiento</td>\n",
       "      <td>Teatro Caupolicán,</td>\n",
       "      <td>-33.456217</td>\n",
       "      <td>-70.649239</td>\n",
       "    </tr>\n",
       "    <tr>\n",
       "      <th>11508</th>\n",
       "      <td>53.877.607</td>\n",
       "      <td>robo con violencia,</td>\n",
       "      <td>ciencia</td>\n",
       "      <td>calle Lynch a la altura del Destacamento Tuca...</td>\n",
       "      <td>NaN</td>\n",
       "      <td>NaN</td>\n",
       "    </tr>\n",
       "    <tr>\n",
       "      <th>8398</th>\n",
       "      <td>53.560.642</td>\n",
       "      <td>tormentas eléctricas,</td>\n",
       "      <td>medio_ambiente</td>\n",
       "      <td>zona centro y sur,</td>\n",
       "      <td>NaN</td>\n",
       "      <td>NaN</td>\n",
       "    </tr>\n",
       "    <tr>\n",
       "      <th>...</th>\n",
       "      <td>...</td>\n",
       "      <td>...</td>\n",
       "      <td>...</td>\n",
       "      <td>...</td>\n",
       "      <td>...</td>\n",
       "      <td>...</td>\n",
       "    </tr>\n",
       "    <tr>\n",
       "      <th>13499</th>\n",
       "      <td>53.406.006</td>\n",
       "      <td>Torneo Clausura 2024</td>\n",
       "      <td>deportes</td>\n",
       "      <td>estadio Alejandro Villanueva</td>\n",
       "      <td>-12.068504</td>\n",
       "      <td>-77.022927</td>\n",
       "    </tr>\n",
       "    <tr>\n",
       "      <th>16593</th>\n",
       "      <td>53.565.419</td>\n",
       "      <td>vientos de hasta 125 km/h</td>\n",
       "      <td>economia</td>\n",
       "      <td>región Metropolitana,</td>\n",
       "      <td>-33.573934</td>\n",
       "      <td>-70.620552</td>\n",
       "    </tr>\n",
       "    <tr>\n",
       "      <th>14156</th>\n",
       "      <td>53.558.450</td>\n",
       "      <td>Hoy, desde Madrid, celebra el lanzamiento</td>\n",
       "      <td>entretenimiento</td>\n",
       "      <td>Madrid,</td>\n",
       "      <td>40.416705</td>\n",
       "      <td>-3.703582</td>\n",
       "    </tr>\n",
       "    <tr>\n",
       "      <th>2141</th>\n",
       "      <td>53.554.604</td>\n",
       "      <td>megaterremoto</td>\n",
       "      <td>ciencia</td>\n",
       "      <td>Tohoku Oki</td>\n",
       "      <td>NaN</td>\n",
       "      <td>NaN</td>\n",
       "    </tr>\n",
       "    <tr>\n",
       "      <th>14461</th>\n",
       "      <td>53.408.411</td>\n",
       "      <td>aniversario de Arequipa.</td>\n",
       "      <td>deportes</td>\n",
       "      <td>Arequipa,</td>\n",
       "      <td>-16.398867</td>\n",
       "      <td>-71.536961</td>\n",
       "    </tr>\n",
       "  </tbody>\n",
       "</table>\n",
       "<p>500 rows × 6 columns</p>\n",
       "</div>"
      ],
      "text/plain": [
       "          id_news                                       event  \\\n",
       "10404  53.878.712                         un concierto único.   \n",
       "20026  53.412.225   estragos causados por el sistema frontal.   \n",
       "2043   53.558.369                                  concierto,   \n",
       "11508  53.877.607                         robo con violencia,   \n",
       "8398   53.560.642                       tormentas eléctricas,   \n",
       "...           ...                                         ...   \n",
       "13499  53.406.006                        Torneo Clausura 2024   \n",
       "16593  53.565.419                   vientos de hasta 125 km/h   \n",
       "14156  53.558.450   Hoy, desde Madrid, celebra el lanzamiento   \n",
       "2141   53.554.604                               megaterremoto   \n",
       "14461  53.408.411                    aniversario de Arequipa.   \n",
       "\n",
       "              category                                            address  \\\n",
       "10404  entretenimiento                              Sala SCD Plaza Egaña.   \n",
       "20026        educacion                                 Región de Coquimbo   \n",
       "2043   entretenimiento                                 Teatro Caupolicán,   \n",
       "11508          ciencia   calle Lynch a la altura del Destacamento Tuca...   \n",
       "8398    medio_ambiente                                 zona centro y sur,   \n",
       "...                ...                                                ...   \n",
       "13499         deportes                       estadio Alejandro Villanueva   \n",
       "16593         economia                              región Metropolitana,   \n",
       "14156  entretenimiento                                            Madrid,   \n",
       "2141           ciencia                                         Tohoku Oki   \n",
       "14461         deportes                                          Arequipa,   \n",
       "\n",
       "         latitud   longitud  \n",
       "10404        NaN        NaN  \n",
       "20026 -30.754665 -70.900554  \n",
       "2043  -33.456217 -70.649239  \n",
       "11508        NaN        NaN  \n",
       "8398         NaN        NaN  \n",
       "...          ...        ...  \n",
       "13499 -12.068504 -77.022927  \n",
       "16593 -33.573934 -70.620552  \n",
       "14156  40.416705  -3.703582  \n",
       "2141         NaN        NaN  \n",
       "14461 -16.398867 -71.536961  \n",
       "\n",
       "[500 rows x 6 columns]"
      ]
     },
     "metadata": {},
     "output_type": "display_data"
    }
   ],
   "source": [
    "from geopy.exc import GeocoderTimedOut\n",
    "\n",
    "# Inicializar el geocodificador\n",
    "geolocator = Nominatim(user_agent=\"desafio2\")\n",
    "\n",
    "def clean_address(address):\n",
    "    \"\"\"Limpiar, normalizar y convertir a minúsculas la dirección.\"\"\"\n",
    "    return address.strip().replace(\"..\", \"\").replace(\".\", \"\").replace(\",\", \"\").replace(\"  \", \" \")\n",
    "\n",
    "\n",
    "def geocode_address(address, retries=3):\n",
    "    \"\"\"Geocodificar una dirección para obtener latitud y longitud.\"\"\"\n",
    "    if address and address != \"no encontrada\":\n",
    "        address = clean_address(address)\n",
    "\n",
    "        try:\n",
    "            location = geolocator.geocode(address)\n",
    "            if location:\n",
    "                print(f\"Geocodificación exitosa para {address}: ({location.latitude}, {location.longitude})\")\n",
    "                return location.latitude, location.longitude\n",
    "            else:\n",
    "                print(f\"No se encontró ubicación para {address}.\")\n",
    "                return None, None\n",
    "        except GeocoderTimedOut:\n",
    "            if retries > 0:\n",
    "                print(f\"Tiempo de espera agotado para {address}. Reintentando ({retries} intentos restantes)...\")\n",
    "                return geocode_address(address, retries=retries-1)\n",
    "            else:\n",
    "                print(f\"Falló la geocodificación para {address} después de varios intentos.\")\n",
    "                return None, None\n",
    "        except Exception as e:\n",
    "            print(f\"Error al geocodificar {address}: {e}\")\n",
    "            return None, None\n",
    "    return None, None  # Retornar None si no hay dirección válida\n",
    "\n",
    "# Aplicar la geocodificación con manejo de progreso\n",
    "tqdm.pandas(desc=\"Geocodificando direcciones\")\n",
    "df_filtered[['latitud', 'longitud']] = df_filtered['address'].progress_apply(lambda x: pd.Series(geocode_address(x)))\n",
    "\n",
    "# Seleccionar las columnas finales para el CSV de salida\n",
    "output_df = df_filtered[['id_news', 'event', 'category', 'address', 'latitud', 'longitud']]\n",
    "\n",
    "# Mostrar el DataFrame de salida\n",
    "display(output_df)\n",
    "\n",
    "# Guardar el DataFrame de salida en un archivo CSV\n",
    "output_df.to_csv('output.csv', index=False)\n",
    "\n"
   ]
  },
  {
   "cell_type": "code",
   "execution_count": null,
   "metadata": {},
   "outputs": [],
   "source": []
  }
 ],
 "metadata": {
  "kernelspec": {
   "display_name": "py_data",
   "language": "python",
   "name": "python3"
  },
  "language_info": {
   "codemirror_mode": {
    "name": "ipython",
    "version": 3
   },
   "file_extension": ".py",
   "mimetype": "text/x-python",
   "name": "python",
   "nbconvert_exporter": "python",
   "pygments_lexer": "ipython3",
   "version": "3.12.5"
  }
 },
 "nbformat": 4,
 "nbformat_minor": 2
}
